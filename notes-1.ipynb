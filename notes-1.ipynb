{
 "cells": [
  {
   "cell_type": "markdown",
   "metadata": {},
   "source": [
    "Set up our project environment (more on this later)"
   ]
  },
  {
   "cell_type": "code",
   "execution_count": null,
   "metadata": {},
   "outputs": [],
   "source": [
    "using Pkg\n",
    "Pkg.activate(\".\")\n",
    "Pkg.instantiate() # Only need the first time"
   ]
  },
  {
   "cell_type": "markdown",
   "metadata": {},
   "source": [
    "# Intro to Julia\n",
    "\n",
    "Topics\n",
    "* Speed\n",
    "* Syntax\n",
    "* Autodiff\n",
    "* Symbolics\n",
    "* Data\n",
    "* Plotting\n",
    "* Modelling with Turing\n",
    "* Differential Equations\n",
    "* GPU"
   ]
  },
  {
   "cell_type": "markdown",
   "metadata": {},
   "source": [
    "I'm going to be talking up Julia a lot during this workshop, but I want to note:\n",
    "* These are my own opinions\n",
    "* there's no universal \"best\" solution for everyone\n",
    "* I am aware that it's *possible* to do most things in other languages\n",
    "\n",
    "Instead, I hope to show you some of the areas that Julia really shines.\n",
    "\n",
    "* I'm going to be contrasting Julia with Python a lot today since it's the language this audience is the most familiar with\n",
    "* But I love Python! I used it for years, it's great at what it does, and has massive library of thoughfully developed packages"
   ]
  },
  {
   "cell_type": "markdown",
   "metadata": {},
   "source": [
    "## Where we were\n",
    "\n",
    "* Our goal should be to \"do\" science as efficiently and correctly as we can\n",
    "* We want easy to reproduce results: free, open source, good package management \n",
    "    * pip, conda, mamba, poetry, pyenv, ...?\n",
    "    * How many times have you got stuck for hours, or *days* trying to install a pacakge?\n",
    "    * \"It works for my collaborator, why not me?\"\n",
    "    * \"I just deleted Python and installed Anaconda again for the fourth time\"\n",
    "* Code should be easy to read, write, and *understand* (no black boxes!)\n",
    "\n",
    "People want to develop their ideas in a convenient language like MATLAB or Python, but when their problems grows they need to stop and re-write it from scratch in a \"hard\" but fast language like C or Fortran.\n",
    "This is called the **Two Language Problem**.\n",
    "\n",
    "This is a real impediment to research!\n",
    "\n",
    "Since Python is so slow, most numerical libraries are actually written in C or Fortran\n",
    "This leads to issues even if you never write your own pacakge:\n",
    "   * The pacakge you need might not compile on your system\n",
    "   * If you're using a library function, say numpy.median and you want to make your own version that's a little different, you can't (without learning all about C, compilers, combining C and Python, etc)\n",
    "   * Libraries don't combine easily\n",
    "   * Numbers work differently depending on if they're in a NumPy array\n",
    "   * Lists vs arrays vs matrices?\n",
    "\n"
   ]
  },
  {
   "cell_type": "markdown",
   "metadata": {},
   "source": [
    "Enter Julia....\n",
    "\n",
    "## Why Julia\n",
    "\n",
    "Julia is a \"new\" programming language.\n",
    "\n",
    "* 10th birthday on Monday!\n",
    "* Roughly a few 100,000 users\n",
    "* Created at MIT by Alan Edelman and his graduate students, now co-founders of Julia Computing\n",
    "* Free open source language but you can pay for support\n",
    "\n",
    "\n",
    "* Designed from the start for science and numerical work\n",
    "* Great package manager built in that just about guarantees reproducible environments\n",
    "* Finally, it's *very, very fast*\n",
    "\n"
   ]
  },
  {
   "cell_type": "markdown",
   "metadata": {},
   "source": [
    "Julia is an interative language just like Python. You can use it in in a terminal, in Jupyter notebooks, in Pluto Notebooks (more on this later), VS Code, etc. But it's also a compiled language like C. \n",
    "The first time you run a function, it gets compiled to fast native code (\"assembly\")."
   ]
  },
  {
   "cell_type": "code",
   "execution_count": null,
   "metadata": {},
   "outputs": [],
   "source": [
    "@code_native 1 * 1"
   ]
  },
  {
   "cell_type": "markdown",
   "metadata": {},
   "source": [
    "Most of this is function call overhead. There is really only one instruction executed, `imulq`\n",
    "This is not the case with Python, MATLAB, R, etc.\n",
    "They read the text of your program and step through line by line.\n",
    "\n",
    "We can estimate how many instructions Python uses to multiply two integers:"
   ]
  },
  {
   "cell_type": "code",
   "execution_count": null,
   "metadata": {},
   "outputs": [],
   "source": [
    "write(\"pythontest1.py\", \"\"\"\n",
    "import time\n",
    "start = time.time()\n",
    "for i in range(0,1_000_000):\n",
    "    i * i\n",
    "end = time.time()\n",
    "elapsed = (end - start)\n",
    "\n",
    "instrs = 3.5e9 * elapsed/1_000_000\n",
    "\n",
    "print(f\"Est. instructions per Python multiply: {instrs}\")\n",
    "\"\"\")\n",
    "\n",
    "# You may need to change this if you want to run these comparisons yourself\n",
    "# pypath = \"python\"\n",
    "# pypath = raw\"C:\\Users\\William\\miniconda3\\python.exe\"\n",
    "pypath = raw\"python\"\n",
    "run(`$pypath pythontest1.py`);"
   ]
  },
  {
   "cell_type": "markdown",
   "metadata": {},
   "source": [
    "This is a good estimate of how much faster Julia is than Python.\n",
    "When I run the same test using large NumPy arrays (best case) I get around 12 instructions.\n",
    "\n",
    "In general, Julia is roughly 100-400× faster than Python, and 10-50× faster than NumPy.\n",
    "For some applications like differential equations or optimization, Julia can be **350×** faster than SciPy.\n",
    "\n",
    "\n",
    "<img src=\"https://julialang.org/assets/benchmarks/benchmarks.svg\" height=400>"
   ]
  },
  {
   "cell_type": "markdown",
   "metadata": {},
   "source": [
    "## So What?\n",
    "* Because Julia is so fast, you can solve problems on your own laptop that would otherwise need a compute cluster\n",
    "* Because it is compiled, you can write programs in natural ways without reaching for arrays all the time\n",
    "* You can see how Julia packages work and make your own changes. Black boxes are bad for science!\n",
    "\n",
    "Some words from Paul Barret:\n",
    "> As an astronomer and scientific programmer at the Space Telescope Science Institute, I was one of the early developers of Numpy and matplotlib, and early advocates for its use by the astronomical community. It is now the de facto language in astronomy. However, we were aware of the two language problem at the time, but did not have the time nor the resources to implement a new language. Knowing this limitation, I was prepared to adopt Scipy's successor, if and when it arrived. Julia is that successor. Like 25 years ago, I am now advocating for Julia to become the de facto language in astonomy.\n",
    "\n",
    "Let's dive in..."
   ]
  },
  {
   "cell_type": "markdown",
   "metadata": {},
   "source": [
    "## Getting Started\n",
    "\n",
    "### Get the notes\n",
    "* Download these notes using `git` or as a zip folder from [GitHub](https://github.com/sefffal/JuliaNotes)\n",
    "    * Click \"Code\" and then clone it, or \"Download ZIP\"\n",
    "\n",
    "### Get Julia\n",
    "\n",
    "* Download Julia: [`www.julialang.org`](https://www.julialang.org/downloads/).\n",
    "Pick the current stable release.\n",
    "\n",
    "* Install on your laptop \n",
    "\n",
    "Select an editor. I recommend either: VS Code or Jupyter:\n",
    "\n",
    "#### Jupyter\n",
    "1. Start Julia in a terminal `julia`\n",
    "2. Type `using IJulia` and then `y` to download\n",
    "4. Run `jupyterlab(dir=\".\")`\n",
    "\n",
    "#### VS Code\n",
    "1. Download Visual Studio Code: [`code.visualstudio.com`](https://code.visualstudio.com/download)\n",
    "2. Click the \"Extensions\" button on the left panel and search for Julia.\n",
    "3. Click \"Install\"\n",
    "\n",
    "\n",
    "#### Terminal\n",
    "The Julia REPL (terminal) is quite pleasant\n",
    "1. Start Julia `julia -t auto`\n",
    "2. Follow along by copying and pasting code into the terminal"
   ]
  },
  {
   "cell_type": "markdown",
   "metadata": {},
   "source": [
    "# Julia Syntax"
   ]
  },
  {
   "cell_type": "markdown",
   "metadata": {},
   "source": [
    "Variables"
   ]
  },
  {
   "cell_type": "code",
   "execution_count": null,
   "metadata": {},
   "outputs": [],
   "source": [
    "a = 1\n",
    "b = 3.0\n",
    "c = 1//2"
   ]
  },
  {
   "cell_type": "markdown",
   "metadata": {},
   "source": [
    "Mathematical expressions"
   ]
  },
  {
   "cell_type": "code",
   "execution_count": null,
   "metadata": {},
   "outputs": [],
   "source": [
    "α = 3a + 2c\n",
    "\n",
    "∑x = sum(3xi^2 for xi = 1:10)"
   ]
  },
  {
   "cell_type": "markdown",
   "metadata": {},
   "source": [
    "Functions"
   ]
  },
  {
   "cell_type": "code",
   "execution_count": null,
   "metadata": {},
   "outputs": [],
   "source": [
    "f(x) = 2x^2 + 3x^3 + 6"
   ]
  },
  {
   "cell_type": "code",
   "execution_count": null,
   "metadata": {},
   "outputs": [],
   "source": [
    "f(2)"
   ]
  },
  {
   "cell_type": "markdown",
   "metadata": {},
   "source": [
    "#### Mathemtical notation using $\\LaTeX$\n",
    "In Julia, you can type most basic LaTeX commands and hit `<Tab>`. Julia will autocomplete them and convert to Unicode.\n",
    "\n",
    "For example, `\\alpha + <Tab>` -> `α`.\n",
    "\n",
    "There's a great font called [JuliaMono](https://juliamono.netlify.app/) that includes glyphs for almost the entire Unicode catalog. If you want your Julia code to look extra nice, give it a shot!\n",
    "\n",
    "<img src=\"https://juliamono.netlify.app/assets/specimen_1.png\" height=200/>"
   ]
  },
  {
   "cell_type": "code",
   "execution_count": null,
   "metadata": {},
   "outputs": [],
   "source": [
    "∇²(σₐ) = √3 + log(σₐ)\n",
    "\n",
    "∇²(12.0)"
   ]
  },
  {
   "cell_type": "markdown",
   "metadata": {},
   "source": [
    "There are a few different ways you can print things:"
   ]
  },
  {
   "cell_type": "code",
   "execution_count": null,
   "metadata": {},
   "outputs": [],
   "source": [
    "# Output a string (like Python print)\n",
    "println(\"The answer to life, the universe, and everything is\")\n",
    "\n",
    "# Quick show for debugging\n",
    "d = 42\n",
    "@show d;"
   ]
  },
  {
   "cell_type": "code",
   "execution_count": null,
   "metadata": {},
   "outputs": [],
   "source": [
    "# Nice logging messages\n",
    "@info \"The answer ... is\" d\n",
    "@warn \"But what is the question?\""
   ]
  },
  {
   "cell_type": "markdown",
   "metadata": {},
   "source": [
    "## Types\n",
    "In Julia, every value has a `type`. "
   ]
  },
  {
   "cell_type": "code",
   "execution_count": null,
   "metadata": {},
   "outputs": [],
   "source": [
    "@show typeof(1)\n",
    "@show typeof(1.0)\n",
    "@show typeof(\"abc\");"
   ]
  },
  {
   "cell_type": "markdown",
   "metadata": {},
   "source": [
    "There are lots of different types in Julia. They decide what your program does!\n",
    "But you almost never need to specify them and they get inferred automatically."
   ]
  },
  {
   "cell_type": "markdown",
   "metadata": {},
   "source": [
    "## Importing Libraries\n",
    "\n",
    "The normal way to import Julia libraries is with `using SomePackage`\n",
    "\n",
    "This loads the package (if installed).\n",
    "\n",
    "You can then access functions from that package like `SomePackage.func()`:"
   ]
  },
  {
   "cell_type": "code",
   "execution_count": null,
   "metadata": {},
   "outputs": [],
   "source": [
    "using Downloads\n",
    "filename = Downloads.download(\"https://wttr.in/\")\n",
    "\n",
    "println(readuntil(filename, \"┌\"))"
   ]
  },
  {
   "cell_type": "markdown",
   "metadata": {},
   "source": [
    "Whenever it's not ambiguous, most Julia packages `export` their key functions so you can use them without a prefix:"
   ]
  },
  {
   "cell_type": "code",
   "execution_count": null,
   "metadata": {},
   "outputs": [],
   "source": [
    "using Statistics\n",
    "mean([1,2,3])"
   ]
  },
  {
   "cell_type": "markdown",
   "metadata": {},
   "source": [
    "You can load most kinds of files using the `load` function as long as you have the right package installed.\n",
    "Here we'll download a an image as a PNG and load it:"
   ]
  },
  {
   "cell_type": "code",
   "execution_count": null,
   "metadata": {},
   "outputs": [],
   "source": [
    "using Images\n",
    "filename = Downloads.download(\"https://github.com/JuliaLang/julia-logo-graphics/blob/master/images/julia-logo-color.png?raw=true\")\n",
    "\n",
    "load(filename)"
   ]
  },
  {
   "cell_type": "markdown",
   "metadata": {},
   "source": [
    "## Arrays\n",
    "In Julia, vectors, matrices, etc are all just `Array`s:"
   ]
  },
  {
   "cell_type": "code",
   "execution_count": null,
   "metadata": {},
   "outputs": [],
   "source": [
    "x = [1, 2, 3]"
   ]
  },
  {
   "cell_type": "markdown",
   "metadata": {},
   "source": [
    "You can push new items into a vector using `push!`: The `!` isn't anything special. People add it to function names as a convention when that function modifies something."
   ]
  },
  {
   "cell_type": "code",
   "execution_count": null,
   "metadata": {},
   "outputs": [],
   "source": [
    "push!(x, 4)"
   ]
  },
  {
   "cell_type": "markdown",
   "metadata": {},
   "source": [
    "Array indexing starts at 1! \n",
    "\n",
    "The first element is index 1, the second is 2, *wow*!"
   ]
  },
  {
   "cell_type": "code",
   "execution_count": null,
   "metadata": {},
   "outputs": [],
   "source": [
    "q = [1,2,3,4]\n",
    "@show q[1] q[2] q[3];"
   ]
  },
  {
   "cell_type": "markdown",
   "metadata": {},
   "source": [
    "You can also use `begin` and `end`:"
   ]
  },
  {
   "cell_type": "code",
   "execution_count": null,
   "metadata": {},
   "outputs": [],
   "source": [
    "@show q[begin]\n",
    "@show q[end]\n",
    "@show q[end - 1]\n",
    "\n",
    "@show q[begin:end÷2]\n",
    "\n",
    "@show q[begin:end÷2]"
   ]
  },
  {
   "cell_type": "markdown",
   "metadata": {},
   "source": [
    "Just like MATLAB and Fortran, in Julia 1D arrays are column vectors by default. This is opposite from Python!\n",
    "\n",
    "You can make matrices really easily:"
   ]
  },
  {
   "cell_type": "code",
   "execution_count": null,
   "metadata": {},
   "outputs": [],
   "source": [
    "A = [\n",
    "    1 2 3\n",
    "    4 5 6\n",
    "    7 8 9\n",
    "]"
   ]
  },
  {
   "cell_type": "markdown",
   "metadata": {},
   "source": [
    "Operators like `*`, `^2`, `sin()`, or `exp()` apply to their whole argument (unlike NumPy):"
   ]
  },
  {
   "cell_type": "code",
   "execution_count": null,
   "metadata": {},
   "outputs": [],
   "source": [
    "A^2"
   ]
  },
  {
   "cell_type": "code",
   "execution_count": null,
   "metadata": {},
   "outputs": [],
   "source": [
    "exp(A)"
   ]
  },
  {
   "cell_type": "code",
   "execution_count": null,
   "metadata": {},
   "outputs": [],
   "source": [
    "A * [1, 2, 3]"
   ]
  },
  {
   "cell_type": "markdown",
   "metadata": {},
   "source": [
    "## Broadcasting\n",
    "If you want to apply an operation *element wise* you can prefix anything (**anything**) with a `.`:"
   ]
  },
  {
   "cell_type": "code",
   "execution_count": null,
   "metadata": {},
   "outputs": [],
   "source": [
    "A .* [1, 2, 3]"
   ]
  },
  {
   "cell_type": "code",
   "execution_count": null,
   "metadata": {},
   "outputs": [],
   "source": [
    "A.^2"
   ]
  },
  {
   "cell_type": "code",
   "execution_count": null,
   "metadata": {},
   "outputs": [],
   "source": [
    "[1 2 3] .* [\n",
    "             1\n",
    "             2\n",
    "             3 ]"
   ]
  },
  {
   "cell_type": "code",
   "execution_count": null,
   "metadata": {},
   "outputs": [],
   "source": [
    "sin.(A)"
   ]
  },
  {
   "cell_type": "code",
   "execution_count": null,
   "metadata": {},
   "outputs": [],
   "source": [
    "strs = [\n",
    "    \"A\",\n",
    "    \"B\",\n",
    "    \"C\",\n",
    "]\n",
    "strs2 = [\"a\" \"b\"]\n",
    "strs .* strs2"
   ]
  },
  {
   "cell_type": "markdown",
   "metadata": {},
   "source": [
    "Ranges just store the start, step, and stop, but otherwise work just like any other Array:"
   ]
  },
  {
   "cell_type": "code",
   "execution_count": null,
   "metadata": {},
   "outputs": [],
   "source": [
    "1:5"
   ]
  },
  {
   "cell_type": "code",
   "execution_count": null,
   "metadata": {},
   "outputs": [],
   "source": [
    "y = vcat(1:5, 6:8)"
   ]
  },
  {
   "cell_type": "code",
   "execution_count": null,
   "metadata": {},
   "outputs": [],
   "source": [
    "@show length(A)\n",
    "@show size(A)\n",
    "@show eachindex(A);"
   ]
  },
  {
   "cell_type": "markdown",
   "metadata": {},
   "source": [
    "### Boolean Masks, Slicing"
   ]
  },
  {
   "cell_type": "code",
   "execution_count": null,
   "metadata": {},
   "outputs": [],
   "source": [
    "a = randn(10)\n",
    "mask = -0.8 .< a .< 0.8"
   ]
  },
  {
   "cell_type": "code",
   "execution_count": null,
   "metadata": {},
   "outputs": [],
   "source": [
    "a[mask]"
   ]
  },
  {
   "cell_type": "code",
   "execution_count": null,
   "metadata": {},
   "outputs": [],
   "source": [
    "if 2 ∈ (1,2,3,4)\n",
    "    println(\"This is an if statement\")\n",
    "end\n",
    "\n",
    "if 2 in (1,2,3,4)\n",
    "    println(\"This way is fine too\")\n",
    "end"
   ]
  },
  {
   "cell_type": "markdown",
   "metadata": {},
   "source": [
    "## Loops \n",
    "Loops are not bad! You can use for loops in your Julia programs as much as you want †, or you can use arrays if that makes more sense for a problem. You are free to choose!\n",
    "\n",
    "†: If they're inside functions\n"
   ]
  },
  {
   "cell_type": "code",
   "execution_count": null,
   "metadata": {},
   "outputs": [],
   "source": [
    "for i in 1:10\n",
    "    println(i^2)\n",
    "end"
   ]
  },
  {
   "cell_type": "code",
   "execution_count": null,
   "metadata": {},
   "outputs": [],
   "source": [
    "for i in 1:9, j in 'A':'G'\n",
    "    print(j,i,\" \")\n",
    "    if j == 'G'\n",
    "        println()\n",
    "    end\n",
    "end"
   ]
  },
  {
   "cell_type": "markdown",
   "metadata": {},
   "source": [
    "### Multi-Threading\n",
    "Using multiple threads to speed up your code is easy in Julia!\n",
    "You can prefix most for loops with\n",
    "```julia\n",
    "@threads\n",
    "```\n",
    "to get an automatic speedup.\n",
    "This does require you to start Julia with more than one thread (`-t auto` usually)."
   ]
  },
  {
   "cell_type": "code",
   "execution_count": null,
   "metadata": {},
   "outputs": [],
   "source": [
    "using Base.Threads\n",
    "nthreads()"
   ]
  },
  {
   "cell_type": "code",
   "execution_count": null,
   "metadata": {},
   "outputs": [],
   "source": [
    "@threads for i in 1:100\n",
    "    sum(rand(1000,1000).^2)\n",
    "end"
   ]
  },
  {
   "cell_type": "markdown",
   "metadata": {},
   "source": [
    "The `Distributed.jl` module also lets you use processes on other computers almost as seamlessly.\n",
    "E.g.:\n",
    "```julia\n",
    "$> julia -p 500 # Start julia with 500 CPUs (can be spread across a cluster)\n",
    "using MyCode\n",
    "@everywhere myfunction() # tell each worker to run myfunction\n",
    "\n",
    "# Or run some function across each element of an array\n",
    "results = pmap(process_images, all_my_images_list)\n",
    "```"
   ]
  },
  {
   "cell_type": "markdown",
   "metadata": {},
   "source": [
    "## Structs\n",
    "You can create your own data types using `struct`. These are really efficient and a great way to structure your program.\n",
    "Watch out though, you can only define them once (have to restart Julia if changed)."
   ]
  },
  {
   "cell_type": "code",
   "execution_count": null,
   "metadata": {},
   "outputs": [],
   "source": [
    "struct MyPoint\n",
    "    x::Float64\n",
    "    y::Float64\n",
    "    z::Float64\n",
    "end\n",
    "\n",
    "p1 = MyPoint(1,2,3)"
   ]
  },
  {
   "cell_type": "code",
   "execution_count": null,
   "metadata": {},
   "outputs": [],
   "source": [
    "p1.x"
   ]
  },
  {
   "cell_type": "markdown",
   "metadata": {},
   "source": [
    "We can define methods of built in functions like `-` (minus)"
   ]
  },
  {
   "cell_type": "code",
   "execution_count": null,
   "metadata": {},
   "outputs": [],
   "source": [
    "Base.:-(p1::MyPoint, p2::MyPoint) = MyPoint(p1.x - p2.x, p1.y - p2.y, p1.z - p2.z)"
   ]
  },
  {
   "cell_type": "markdown",
   "metadata": {},
   "source": [
    "And now we can do math with our points:"
   ]
  },
  {
   "cell_type": "code",
   "execution_count": null,
   "metadata": {},
   "outputs": [],
   "source": [
    "p1 = MyPoint(1,2,3)\n",
    "p2 = MyPoint(1,3,4)\n",
    "p2 - p1"
   ]
  },
  {
   "cell_type": "markdown",
   "metadata": {},
   "source": [
    "Or even define new operators:"
   ]
  },
  {
   "cell_type": "code",
   "execution_count": null,
   "metadata": {},
   "outputs": [],
   "source": [
    "⨳(p1::MyPoint, p2::MyPoint) = p1.x / p2.y + p1.y / p2.z + p1.z / p2.x\n",
    "\n",
    "p1 ⨳ p2"
   ]
  },
  {
   "cell_type": "markdown",
   "metadata": {},
   "source": [
    "Of course this works for any function! It doesn't have to be an operator/symbol.\n",
    "This mechanism of defining standard functions for your own types (known as adding new methods) is the main reason why Julia packages work so well together!\n",
    "\n",
    "There's no `np.cos`, `math.cos`, `sympy.cos`, `jax.cos`, `...`, there's just `cos`!"
   ]
  },
  {
   "cell_type": "markdown",
   "metadata": {},
   "source": [
    "## Symbolic Calculations\n",
    "You can combine your calculations with symbolic variables, a bit like SymPy or Mathematica"
   ]
  },
  {
   "cell_type": "code",
   "execution_count": null,
   "metadata": {},
   "outputs": [],
   "source": [
    "using Symbolics\n",
    "@variables u v w\n",
    "\n",
    "expr = exp(u)^w / w"
   ]
  },
  {
   "cell_type": "code",
   "execution_count": null,
   "metadata": {},
   "outputs": [],
   "source": [
    "simplify(expr)"
   ]
  },
  {
   "cell_type": "markdown",
   "metadata": {},
   "source": [
    "## Automatic Differentiation\n",
    "\n",
    "Most Julia code can be differentiated just like any other mathematical expression using an autodiff library. Here, we'll use ForwardDiff.jl.\n",
    "\n",
    "This is a super power: if you have a forward modelling code and you want to compare it to data, you can get not just the $\\chi^2$ but also the gradient of that $\\chi^2$ with respect to all your model parameters. This can make your modelling code even more efficient!\n"
   ]
  },
  {
   "cell_type": "code",
   "execution_count": null,
   "metadata": {},
   "outputs": [],
   "source": [
    "using ForwardDiff\n",
    "\n",
    "gaussmodel(x, μ, A, σ) = A * exp(-(x-μ)^2/σ)\n",
    "\n",
    "xdat = 0:0.5:3\n",
    "dat = sin.(xdat)\n",
    "\n",
    "meansquare(d1, d2) = sqrt(mean((d1 .- d2).^2))\n",
    "\n",
    "fit((μ, A, σ)) = meansquare(gaussmodel.(xdat, μ, A, σ), dat)\n",
    "\n",
    "fit((1, 0.1, 2))\n"
   ]
  },
  {
   "cell_type": "code",
   "execution_count": null,
   "metadata": {},
   "outputs": [],
   "source": [
    "ForwardDiff.gradient(fit, [1, 0.1, 2])"
   ]
  },
  {
   "cell_type": "markdown",
   "metadata": {},
   "source": [
    "All second order partial derviatives (the Hessian matrix):"
   ]
  },
  {
   "cell_type": "code",
   "execution_count": null,
   "metadata": {},
   "outputs": [],
   "source": [
    "ForwardDiff.hessian(fit, [1, 0.1, 2])"
   ]
  },
  {
   "cell_type": "markdown",
   "metadata": {},
   "source": [
    "## Uncertainty\n",
    "\n",
    "The Measurements package let's you propagate uncertainty assuming Gaussian distributed errors and linear error propagataion. You can combine it with lots of other packages like Unitful for physical units with uncertainties, or simulations to propagate uncertainties through your code.\n",
    "\n",
    "Have calculations where these assumptions don't fit? Try [MonteCarloMeasurements.jl](https://baggepinnen.github.io/MonteCarloMeasurements.jl/latest/)\n"
   ]
  },
  {
   "cell_type": "code",
   "execution_count": null,
   "metadata": {},
   "outputs": [],
   "source": [
    "using Measurements\n",
    "a = 2 ± 1\n",
    "b = 4 ± 2\n",
    "\n",
    "a * b"
   ]
  },
  {
   "cell_type": "markdown",
   "metadata": {},
   "source": [
    "The package [IntervalArithmetic.jl](https://juliaintervals.github.io/pages/tutorials/tutorialArithmetic/) is also worth mentioning. It let's you propagate an *interval* e.g. `1..2` through your calculations and get an output interval garuanteed to include any values between [1,2]. This is a great way to test your code for floating point round off errors!"
   ]
  },
  {
   "cell_type": "markdown",
   "metadata": {},
   "source": [
    "## Data\n",
    "Julia has great libraries for working with tabular data. You can easily load:\n",
    " * CSV\n",
    " * Numpy .npz\n",
    " * Excel\n",
    " * R data\n",
    " * MATLAB .mat\n",
    " * SQL\n",
    " * Arrow\n",
    " \n",
    "And many more..."
   ]
  },
  {
   "cell_type": "code",
   "execution_count": null,
   "metadata": {},
   "outputs": [],
   "source": [
    "using DataFrames\n",
    "\n",
    "df = DataFrame(\n",
    "    \"A\" =>  1:10,\n",
    "    \"B\" => 11:20\n",
    ")"
   ]
  },
  {
   "cell_type": "markdown",
   "metadata": {},
   "source": [
    "Let's load the Hipparcos-Gaia Catalog of Accelerations by Tim Brandt (2021) as a CSV file:"
   ]
  },
  {
   "cell_type": "code",
   "execution_count": null,
   "metadata": {},
   "outputs": [],
   "source": [
    "using CSV\n",
    "\n",
    "hgca = CSV.read(\"HGCA_vEDR3.csv\", DataFrame)"
   ]
  },
  {
   "cell_type": "markdown",
   "metadata": {},
   "source": [
    "This catalog gives the position, RV, proper motion, and astrometric acceleration of nearby stars by cross calibrating Hipparcos and GAIA.\n",
    "\n",
    "Let's select nearby stars with the most astrometric acceleration:"
   ]
  },
  {
   "cell_type": "code",
   "execution_count": null,
   "metadata": {},
   "outputs": [],
   "source": [
    "nearby = filter(hgca) do row\n",
    "    row.parallax_gaia > 30 # About 40pc\n",
    "end\n",
    "\n",
    "\n",
    "sort!(nearby, [:chisq], rev=true)\n",
    "\n",
    "# And let's pick the top  1000\n",
    "beststars = nearby[1:1000, :]"
   ]
  },
  {
   "cell_type": "markdown",
   "metadata": {},
   "source": [
    "## Plotting\n",
    "\n",
    "There are two great sets of plotting packages: `Plots.jl` and `Makie.jl`. Makie is a little slow to start creates really beautiful, interactive plots, so we'll use that today.\n",
    "\n",
    "**✋** Pick the right Makie package for your editor by uncommenting one of the following lines of code:"
   ]
  },
  {
   "cell_type": "code",
   "execution_count": null,
   "metadata": {},
   "outputs": [],
   "source": [
    "# README!! Select one of the following...\n",
    "# CairoMakie: for nice PDF exports, figures for papers\n",
    "# GLMakie   : for interactive or 3D plots in a separate window\n",
    "# WGLMakie  : for quick interactive plots in Jupyter\n",
    "\n",
    "# VSCode notebook or terminal:\n",
    "# using WGLMakie\n",
    "\n",
    "# Jupyter or VSCode terminal: (not 3D or interactive)\n",
    "# using CairoMakie\n",
    "# CairoMakie.activate!(type=\"svg\")\n",
    "\n",
    "# Terminal/desktop:\n",
    "# using GLMakie (have to install it yourself first, Pkg.add(\"GLMakie\"))\n",
    "\n",
    "if ! @isdefined Makie\n",
    "    println(\"Error: please select one of the above plotting packaged before continuing! 👆\")\n",
    "end"
   ]
  },
  {
   "cell_type": "markdown",
   "metadata": {},
   "source": [
    "For presenting this notebook, I would like a larger font size"
   ]
  },
  {
   "cell_type": "code",
   "execution_count": null,
   "metadata": {},
   "outputs": [],
   "source": [
    "fontsize_theme = Theme(fontsize =20)\n",
    "set_theme!(fontsize_theme)"
   ]
  },
  {
   "cell_type": "code",
   "execution_count": null,
   "metadata": {
    "tags": []
   },
   "outputs": [],
   "source": [
    "lines(1:180, sind.(1:180), axis=(xlabel=\"x\", ylabel=\"y\"))"
   ]
  },
  {
   "cell_type": "code",
   "execution_count": null,
   "metadata": {},
   "outputs": [],
   "source": [
    "x = range(-π, π, length=100)\n",
    "y = range(-π, π, length=100)\n",
    "z = sinc.(sqrt.(x.^2 .+ y'.^2))\n",
    "\n",
    "surface(x, y, z, colormap=:plasma)"
   ]
  },
  {
   "cell_type": "markdown",
   "metadata": {},
   "source": [
    "More complex layout:"
   ]
  },
  {
   "cell_type": "code",
   "execution_count": null,
   "metadata": {},
   "outputs": [],
   "source": [
    "fig = Figure(\n",
    "    resolution=(800,800)\n",
    ")\n",
    "\n",
    "xx = π/2*randn(1000)\n",
    "yy = π/2*randn(1000)\n",
    "\n",
    "ax1 = Makie.Axis(fig[1,1], xlabel=\"x\", ylabel=\"y\")\n",
    "scatter!(ax1, xx, yy, )\n",
    "\n",
    "ax2 = Makie.Axis(fig[2,1], xlabel=\"x\", ylabel=\"y\")\n",
    "h = contourf!(ax2, x, y, z)\n",
    "\n",
    "Colorbar(fig[1:2, 2], h, label=\"Colorbar\")\n",
    "\n",
    "\n",
    "linkxaxes!(ax1, ax2)\n",
    "\n",
    "fig"
   ]
  },
  {
   "cell_type": "markdown",
   "metadata": {},
   "source": [
    "## Plotting our DataFrame\n",
    "Returning to our catalog of favourite stars (that likely have companions), let's plot their positions in the sky\n"
   ]
  },
  {
   "cell_type": "code",
   "execution_count": null,
   "metadata": {},
   "outputs": [],
   "source": [
    "fig,ax,pl = scatter(\n",
    "    beststars.gaia_ra,\n",
    "    beststars.gaia_dec,\n",
    "    markersize=beststars.parallax_gaia ./ 5,\n",
    "    color=log.(beststars.chisq),\n",
    "    colormap=:turbo,\n",
    "    axis=(;\n",
    "        backgroundcolor=:black,\n",
    "        gridcolor=:white,\n",
    "        xlabel=\"RA\",\n",
    "        ylabel=\"DEC\",\n",
    "    )\n",
    ")\n",
    "Colorbar(fig[1,2], pl, label=\"significance\")\n",
    "fig"
   ]
  },
  {
   "cell_type": "markdown",
   "metadata": {},
   "source": [
    "Visualize nearby stars in 3D *(this wont work with CairoMakie in Jupyter)*"
   ]
  },
  {
   "cell_type": "code",
   "execution_count": null,
   "metadata": {},
   "outputs": [],
   "source": [
    "ρ = 1 ./ (nearby.parallax_gaia .* 1e-3)\n",
    "φ = nearby.gaia_ra\n",
    "θ = nearby.gaia_dec\n",
    "rv = nearby.radial_velocity\n",
    "rv[ismissing.(rv)] .= 0\n",
    "\n",
    "# Spherical to Cartesian conversion\n",
    "x = @. ρ * sin(φ) * cos(θ)\n",
    "y = @. ρ * sin(φ) * sin(θ)\n",
    "z = @. ρ * cos(φ)\n",
    "# scatter(x, y, z)\n",
    "fig, ax, pl = scatter(\n",
    "    x,\n",
    "    y,\n",
    "    z,\n",
    "    markersize=1000,\n",
    "    color=atan.(rv),\n",
    "    colormap = :bkr,\n",
    "    axis = (;\n",
    "        backgroundcolor=:black\n",
    "    ),\n",
    "    figure = (;\n",
    "        resolution = (1200,900),\n",
    "        backgroundcolor=:black\n",
    "\n",
    "    )\n",
    ")\n",
    "scatter!(ax, [0],[0],[0], marker='⋆', color=:yellow, markersize=10000)\n",
    "fig"
   ]
  },
  {
   "cell_type": "markdown",
   "metadata": {},
   "source": [
    "## Statistical Modelling\n",
    "\n",
    "The package [Turing.jl](https://turing.ml/stable/) offers a powerful language for doing Bayesian modelling.\n",
    "The syntax  $ x \\sim \\rm{Normal(1,2)} $ is a little uncommon in astronomy, but in Statistics it's a standard way of saying that $x$ is a random variable with the probability distribution of $1 \\pm 2$.\n",
    "\n",
    "Like most Julia packages, Turing can be mixed with other packages to create something better than the sum of it's parts. For example, you can combine Turing with the Flux.jl deep learning library to create Bayesian neural nets.\n",
    "\n",
    "We'll start by generating some simulated data of a linear relationship:"
   ]
  },
  {
   "cell_type": "code",
   "execution_count": null,
   "metadata": {},
   "outputs": [],
   "source": [
    "N = 40\n",
    "x = 20rand(N)\n",
    "m = 0.4\n",
    "b = 4\n",
    "y = m .* x .+ b .+ 2randn(N)\n",
    "\n",
    "scatter(\n",
    "    x, y,\n",
    "    axis=(\n",
    "        xlabel=\"x\",\n",
    "        ylabel=\"y\",\n",
    "    )\n",
    ")"
   ]
  },
  {
   "cell_type": "markdown",
   "metadata": {},
   "source": [
    "Now we'll define a linear model and sample from the posterior.\n",
    "Thanks to `ForwardDiff.jl` we can use the No U-Turn sampler without having to calculate gradients by hand! So not only is Julia much faster, we can also easily use more efficient algorithms."
   ]
  },
  {
   "cell_type": "code",
   "execution_count": null,
   "metadata": {},
   "outputs": [],
   "source": [
    "using Turing\n",
    "\n",
    "# Define a simple Normal model with unknown mean and variance.\n",
    "@model function linear_regression_1(x, y)\n",
    "\n",
    "    # Priors on slope, itercept, and variance\n",
    "    m  ~ Normal(sqrt(10))\n",
    "    σ₂ ~ TruncatedNormal(0, 100, 0, Inf)\n",
    "    β  ~ Normal(0, sqrt(3))\n",
    "\n",
    "    # Equation of a line\n",
    "    μ = β .+ m .* x\n",
    "\n",
    "    # We model our y points has being drawn from a Normal distribution about that line\n",
    "    y ~ MvNormal(μ, sqrt(σ₂))\n",
    "end\n",
    "\n",
    "#  Run sampler, collect results\n",
    "lin_model = linear_regression_1(x, y)\n",
    "chain = sample(lin_model, NUTS(0.65), 3_000)\n",
    "\n",
    "# Or run three chains in parallel using multiple threads:\n",
    "# chain = sample(model, NUTS(0.65), MCMCThreads(), 3_000, 3)"
   ]
  },
  {
   "cell_type": "code",
   "execution_count": null,
   "metadata": {},
   "outputs": [],
   "source": [
    "# Make a traceplot\n",
    "series(chain[\"m\"]')"
   ]
  },
  {
   "cell_type": "markdown",
   "metadata": {},
   "source": [
    "Let's visualize the posterior:"
   ]
  },
  {
   "cell_type": "code",
   "execution_count": null,
   "metadata": {},
   "outputs": [],
   "source": [
    "# We'll plot our posterior samples as lines with 200 steps between 0 and 20\n",
    "xpost = range(-5, 25, length=200)\n",
    "\n",
    "# Grab 300 posterior samples at random\n",
    "ii = rand(eachindex(chain[\"m\"]), 300)\n",
    "ypost = chain[\"m\"][ii] .* xpost' .+ chain[\"β\"][ii]\n",
    "\n",
    "fig, ax, pl = series(\n",
    "    xpost,ypost,\n",
    "\n",
    "    solid_color=(:black, 0.02),\n",
    "    label=\"posterior\",\n",
    "    axis=(\n",
    "        xlabel=\"x\",\n",
    "        ylabel=\"y\",\n",
    "    ),\n",
    "\n",
    ")\n",
    "\n",
    "# Overplot our data\n",
    "s = scatter!(ax, x, y, label=\"data\")\n",
    "\n",
    "Legend(fig[1,2], [s,pl], [\"data\",\"posterior\"], \"Legend\")\n",
    "\n",
    "xlims!(ax, low=-2, high=22)\n",
    "\n",
    "fig"
   ]
  },
  {
   "cell_type": "code",
   "execution_count": null,
   "metadata": {},
   "outputs": [],
   "source": [
    "hist(vec(chain[\"m\"]), axis=(;xlabel=\"m\"))"
   ]
  },
  {
   "cell_type": "markdown",
   "metadata": {},
   "source": [
    "## Bonuses\n",
    "These bonus cells demonstrate other nice packages, but I didn't include them in the installation above. You'll need to install them yourself first using e.g. `Pkg.add(\"PyCall\")`."
   ]
  },
  {
   "cell_type": "markdown",
   "metadata": {},
   "source": [
    "## Bonus: Python in Julia\n",
    "\n",
    "\"Okay, but I have all these super specialized Python packages I need to use in my research\"\n",
    "\n",
    "`PyCall.jl` makes it easy to use Python packages inside Julia:"
   ]
  },
  {
   "cell_type": "code",
   "execution_count": null,
   "metadata": {},
   "outputs": [],
   "source": [
    "using PyCall\n",
    "\n",
    "np = pyimport(\"numpy\")\n",
    "\n",
    "a = np.array(A)"
   ]
  },
  {
   "cell_type": "code",
   "execution_count": null,
   "metadata": {},
   "outputs": [],
   "source": [
    "@time np.mean(a)"
   ]
  },
  {
   "cell_type": "code",
   "execution_count": null,
   "metadata": {},
   "outputs": [],
   "source": [
    "@time mean(a)"
   ]
  },
  {
   "cell_type": "code",
   "execution_count": null,
   "metadata": {},
   "outputs": [],
   "source": [
    "py\"\"\"\n",
    "\n",
    "print(\"Hello from Python!\")\n",
    "\n",
    "\"\"\""
   ]
  },
  {
   "cell_type": "markdown",
   "metadata": {},
   "source": [
    "## Bonus: Differential Equations\n",
    "Differential equations are ubiquitous in the sciences. Julia has the best differential equations solving libraries (parts of SciMl).\n",
    "![](https://benchmarks.sciml.ai/dev/markdown/MultiLanguage/figures/wrapper_packages_2_1.png)\n",
    "This is a plot of error vs. time. Lower and to the left is better.\n",
    "Julia's DifferentialEquations library is in general the fastest way to solve differential equations, including the best C libraries.\n",
    "\n",
    "To install the DifferentialEquations library, run \n",
    "```julia\n",
    "using Pkg\n",
    "Pkg.add(\"DifferentialEquations\")\n",
    "```"
   ]
  },
  {
   "cell_type": "code",
   "execution_count": null,
   "metadata": {},
   "outputs": [],
   "source": [
    "using DifferentialEquations\n",
    "\n",
    "# Solve a simple, scalar differential equation\n",
    "f(u,p,t) = 1.01*u\n",
    "u0 = 1/2\n",
    "tspan = (0.0,1.0)\n",
    "prob = ODEProblem(f,u0,tspan)\n",
    "sol = solve(prob)"
   ]
  },
  {
   "cell_type": "markdown",
   "metadata": {},
   "source": [
    "[ModellingToolkit.jl](https://mtk.sciml.ai/dev/) builds on top of DifferentialEquations and Symbolics to create simulations of large/complex acausal models. It's like a mix of Mathematica, Simulink, and Modelica."
   ]
  },
  {
   "cell_type": "markdown",
   "metadata": {},
   "source": [
    "## Bonus: GPU Compute\n",
    "It's very easy to get started with GPU computing in Julia since Julia can be compiled to the GPU.\n",
    "GPU numerical programming in general is only supported in Windows and Linux with discrete NVidia or AMD GPUs.\n",
    "\n",
    "I didn't include the CUDA package in this notebook, so you would need to install it yourself by running\n",
    "```julia\n",
    "using Pkg\n",
    "Pkg.add(\"CUDA\")\n",
    "```\n",
    "\n",
    "**✋** This package only works on Windows and Linux computers that have NVidia GPUs."
   ]
  },
  {
   "cell_type": "code",
   "execution_count": null,
   "metadata": {},
   "outputs": [],
   "source": [
    "if Sys.isapple()\n",
    "    error(\"You cannot use this package on a Mac 😔.\")\n",
    "end\n",
    "\n",
    "using CUDA\n",
    "\n",
    "# Create 10000 random floats\n",
    "arr = randn(Float32, 10000)\n",
    "\n",
    "# Transfer them to the GPU\n",
    "cu_arr = CuArray(arr)\n",
    "\n",
    "# Calculate the sum of squares now using your GPU! It's that easy!\n",
    "sum(cu_arr .^2)"
   ]
  },
  {
   "cell_type": "markdown",
   "metadata": {},
   "source": [
    "## Bonus: Optimization\n",
    "The package [Optim.jl](https://julianlsolvers.github.io/Optim.jl/stable/#user/minimization/) has a wide variety of algorithms for minimizing a function.\n",
    "\n",
    "```julia\n",
    "using Pkg\n",
    "Pkg.add(\"Optim\")\n",
    "```"
   ]
  },
  {
   "cell_type": "code",
   "execution_count": null,
   "metadata": {},
   "outputs": [],
   "source": [
    "using Optim\n",
    "\n",
    "# Function to minimize\n",
    "f(x) = (1.0 - x[1])^2 + 100.0 * (x[2] - x[1]^2)^2\n",
    "\n",
    "# Initial guess\n",
    "x0 = [0.0, 0.0]\n",
    "\n",
    "results = optimize(f, x0)\n"
   ]
  },
  {
   "cell_type": "markdown",
   "metadata": {},
   "source": [
    "If you want to speed up your code, you can use autodiff to automatically calculate the partial derivatives of your function!"
   ]
  },
  {
   "cell_type": "code",
   "execution_count": null,
   "metadata": {},
   "outputs": [],
   "source": [
    "using Optim\n",
    "using ForwardDiff\n",
    "results_fast = optimize(f, x0, LBFGS(); autodiff = :forward)"
   ]
  },
  {
   "cell_type": "markdown",
   "metadata": {},
   "source": [
    "## Bonus: Root Solving\n",
    "The pacakge [Roots.jl](https://docs.juliahub.com/Roots/o0Xsi/1.3.14/) has nice routines for finding the roots of an arbitrary function.\n",
    "Just like Optim.jl, you can use autodiff to speed up root finding.\n",
    "\n",
    "```julia\n",
    "using Pkg\n",
    "Pkg.add(\"Roots\")\n",
    "```"
   ]
  },
  {
   "cell_type": "code",
   "execution_count": null,
   "metadata": {},
   "outputs": [],
   "source": [
    "using Roots\n",
    "\n",
    "f(x) =  x^5 - x + 1/2\n",
    "\n",
    "# You can suggest a region in which to search for roots\n",
    "find_zero(f, (-1.2,  -1))"
   ]
  },
  {
   "cell_type": "markdown",
   "metadata": {},
   "source": [
    "## Bonus: Mixed Integer Optimization\n",
    "The pacakge JuMP is a modelling language for specifying numerical optimization problems including mixed integer and non-linear problems, as well as constraints.\n",
    "It supports over 44 different solvers including free Julia packages like COSMO or paid libraries like Gurobi.\n",
    "\n",
    "\n",
    "```julia\n",
    "using Pkg\n",
    "Pkg.add([\"JuMP\", \"GLPK\"])\n",
    "```"
   ]
  },
  {
   "cell_type": "code",
   "execution_count": null,
   "metadata": {},
   "outputs": [],
   "source": [
    "using JuMP\n",
    "using GLPK\n",
    "model = Model(GLPK.Optimizer)\n",
    "@variable(model, x >= 0)\n",
    "@variable(model, 0 <= y <= 3)\n",
    "@objective(model, Min, 12x + 20y)\n",
    "@constraint(model, c1, 6x + 8y >= 100)\n",
    "@constraint(model, c2, 7x + 12y >= 120)\n",
    "print(model)\n",
    "optimize!(model)"
   ]
  },
  {
   "cell_type": "markdown",
   "metadata": {},
   "source": [
    "## Bonus: Distributed Processing on Compute Canada\n",
    "\n",
    "This page by [Compute Canada](https://docs.computecanada.ca/wiki/Julia) has resources on how to use Julia on Compute Canada clusters like Cedar.\n",
    "\n",
    "Basically, set the following environment variable:\n",
    "\n",
    "```bash\n",
    "export JULIA_DEPOT_PATH=\"/project/def-bob/alice/julia:$JULIA_DEPOT_PATH\"\n",
    "```\n",
    "to store packages in your project or scatch space instead of home folder.\n",
    "\n",
    "and \n",
    "```bash\n",
    "export JULIA_PROJECT=\"/project/def-bon/alice/path-to-your-code\"\n",
    "```\n",
    "to specify the project (list of packages) your code needs.\n",
    "\n",
    "Then run:\n",
    "```bash\n",
    "module load julia/1.7\n",
    "```\n",
    "\n",
    "Finally, start your Julia session across multiple nodes using a slurm file like this:\n",
    "```bash\n",
    "#!/bin/bash\n",
    "#SBATCH --ntasks=100\n",
    "#SBATCH --cpus-per-task=1\n",
    "#SBATCH --mem-per-cpu=1024M\n",
    "#SBATCH --time=0-00:10\n",
    "\n",
    "export JULIA_DEPOT_PATH=\"/project/def-bob/alice/julia:$JULIA_DEPOT_PATH\"\n",
    "export JULIA_PROJECT=\"/project/def-bon/alice/path-to-your-code\"\n",
    "module load julia/1.7\n",
    "\n",
    "srun hostname -s > hostfile\n",
    "sleep 5\n",
    "julia --machine-file ./hostfile myprogram.jl\n",
    "```\n",
    "\n",
    "and then `sbatch submission-script.sh`.\n",
    "\n",
    "That will run your script `myprogram.jl` automatically using 100 cores spread across the cluster."
   ]
  }
 ],
 "metadata": {
  "kernelspec": {
   "display_name": "Julia 1.7.2",
   "language": "julia",
   "name": "julia-1.7"
  },
  "language_info": {
   "file_extension": ".jl",
   "mimetype": "application/julia",
   "name": "julia",
   "version": "1.7.2"
  }
 },
 "nbformat": 4,
 "nbformat_minor": 4
}
