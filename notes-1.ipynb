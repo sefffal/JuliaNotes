{
 "cells": [
  {
   "cell_type": "markdown",
   "metadata": {},
   "source": [
    "Set up our project environment (more on this later)"
   ]
  },
  {
   "cell_type": "code",
   "execution_count": 5,
   "metadata": {},
   "outputs": [
    {
     "name": "stderr",
     "output_type": "stream",
     "text": [
      "\u001b[32m\u001b[1m  Activating\u001b[22m\u001b[39m project at `c:\\Users\\William\\.julia\\dev\\JuliaNotes`\n"
     ]
    }
   ],
   "source": [
    "using Pkg\n",
    "Pkg.activate(\".\")\n",
    "Pkg.instantiate() # Only need the first time"
   ]
  },
  {
   "cell_type": "markdown",
   "metadata": {},
   "source": [
    "# Presentation\n",
    "\n",
    "What to highlight:\n",
    "* Speed\n",
    "* Syntax\n",
    "* Autodiff\n",
    "* Multi-threading, distributed\n",
    "* Turing\n",
    "* GPU"
   ]
  },
  {
   "cell_type": "markdown",
   "metadata": {},
   "source": [
    "I'm going to be talking up Julia a lot during this workshop, but I want to note:\n",
    "* These are my own opions\n",
    "* there's no universal \"best\" solution for everyone\n",
    "* I am aware that it's *possible* to do most things in other languages\n",
    "\n",
    "Instead, I hope to show you some of the areas that Julia really shines.\n",
    "\n",
    "* I'm going to be contrasting Julia with Python a lot today since it's the language this audience is the most familiar with\n",
    "* But I love Python! I used it for years, it's great at what it does, and has massive library of thoughfully developed packages"
   ]
  },
  {
   "cell_type": "markdown",
   "metadata": {},
   "source": [
    "## Why Julia\n",
    "\n",
    "* Our goal should be to \"do\" science as fast, and correctly as we can\n",
    "* Easy to reproduce results: free, open source, good package management\n",
    "* Easy to read, write, and *understand* (no black boxes!)\n",
    "* And *very, very fast*\n",
    "\n",
    "----\n",
    "Where we were without Julia:\n",
    "\n",
    "People want to develop their ideas in a convenient language like MATLAB or Python, but when their problems grows they need to stop and re-write it from scratch in a \"hard\" but fast language like C or Fortran.\n",
    "This is called the **Two Language Problem**\n",
    "\n",
    "This is a real impediment to research!\n",
    "\n",
    "Since Python is so slow, most numerical libraries are actually written in C or Fortran\n",
    "This leads to issues even if you never write your own pacakge:\n",
    "   * The pacakge you need might not compile on your system\n",
    "   * If you're using a library function, say numpy.median and you want to make your own version that's a little different, you can't (without learning all about C, compilers, combining C and Python, etc)\n",
    "   * Libraries don't combine easily\n",
    "   * Numbers work differently depending on if their in a NumPy array?\n",
    "   * Lists vs arrays vs matrices?\n",
    "\n"
   ]
  },
  {
   "cell_type": "markdown",
   "metadata": {},
   "source": [
    "Enter Julia....\n",
    "\n",
    "Julia is a \"new\" programming language.\n",
    "\n",
    "* 10th birthday on Monday!\n",
    "* Roughly 100,000 users\n",
    "\n",
    "* Created at MIT by Alan Edelman and his graduate students, now co-founders of Julia Computing\n",
    "* Free open source language but you can pay for support\n",
    "\n"
   ]
  },
  {
   "cell_type": "markdown",
   "metadata": {},
   "source": [
    "Julia is an interative language just like Python. You can use it in in a terminal, in Jupyter notebooks, in Pluto Notebooks (more on this later), VS Code, etc. But it's also a compiled language like C. \n",
    "The first time you run a function, it gets compiled to fast native code (\"assembly\")."
   ]
  },
  {
   "cell_type": "code",
   "execution_count": 6,
   "metadata": {},
   "outputs": [
    {
     "name": "stdout",
     "output_type": "stream",
     "text": [
      "\t\u001b[0m.text\n",
      "\u001b[90m; ┌ @ int.jl:88 within `*`\u001b[39m\n",
      "\t\u001b[96m\u001b[1mpushq\u001b[22m\u001b[39m\t\u001b[0m%rbp\n",
      "\t\u001b[96m\u001b[1mmovq\u001b[22m\u001b[39m\t\u001b[0m%rsp\u001b[0m, \u001b[0m%rbp\n",
      "\t\u001b[96m\u001b[1mmovq\u001b[22m\u001b[39m\t\u001b[0m%rcx\u001b[0m, \u001b[0m%rax\n",
      "\t\u001b[96m\u001b[1mimulq\u001b[22m\u001b[39m\t\u001b[0m%rdx\u001b[0m, \u001b[0m%rax\n",
      "\t\u001b[96m\u001b[1mpopq\u001b[22m\u001b[39m\t\u001b[0m%rbp\n",
      "\t\u001b[96m\u001b[1mretq\u001b[22m\u001b[39m\n",
      "\t\u001b[96m\u001b[1mnopl\u001b[22m\u001b[39m\t\u001b[33m(\u001b[39m\u001b[0m%rax\u001b[33m)\u001b[39m\n",
      "\u001b[90m; └\u001b[39m\n"
     ]
    }
   ],
   "source": [
    "@code_native 1 * 1"
   ]
  },
  {
   "cell_type": "markdown",
   "metadata": {},
   "source": [
    "Most of this is function call overhead. There is really only one instruction executed, `imulq`"
   ]
  },
  {
   "cell_type": "markdown",
   "metadata": {},
   "source": [
    "This is not the case with Python, MATLAB, R, etc.\n",
    "They read the text of your program and step through line by line.\n",
    "\n",
    "We can estimate how many instructions Python uses to multiply two integers:"
   ]
  },
  {
   "cell_type": "code",
   "execution_count": 7,
   "metadata": {},
   "outputs": [
    {
     "name": "stdout",
     "output_type": "stream",
     "text": [
      "Est. instructions per Python multiply: 314.57579135894775\r\n"
     ]
    }
   ],
   "source": [
    "write(\"pythontest1.py\", \"\"\"\n",
    "\n",
    "import time\n",
    "start = time.time()\n",
    "for i in range(0,1_000_000):\n",
    "    i * i\n",
    "end = time.time()\n",
    "elapsed = (end - start)\n",
    "\n",
    "instrs = 3.5e9 * elapsed/1000000\n",
    "\n",
    "print(f\"Est. instructions per Python multiply: {instrs}\")\n",
    "\"\"\")\n",
    "\n",
    "pypath = raw\"C:\\Users\\William\\miniconda3\\python.exe\"\n",
    "run(`$pypath pythontest1.py`);"
   ]
  },
  {
   "cell_type": "markdown",
   "metadata": {},
   "source": [
    "This is a good estimate of how much faster Julia is than Python.\n",
    "When I run the same test using large NumPy arrays (best case) I get around 12 instructions."
   ]
  },
  {
   "cell_type": "markdown",
   "metadata": {},
   "source": [
    "## So What?\n",
    "* Because Julia is so fast, you can solve problems on your own laptop that would otherwise need a compute cluster\n",
    "* You can write programs in natural ways without reaching for arrays all the time\n",
    "* You can see how Julia packages work and make your own changes\n",
    "\n",
    "Let's dive in..."
   ]
  },
  {
   "cell_type": "markdown",
   "metadata": {},
   "source": [
    "## Getting Started\n",
    "\n",
    "* Download these notes using `git` or as a zip folder:\n",
    "\n",
    "* Download Julia: [`www.julialang.org`](https://www.julialang.org/downloads/).\n",
    "Pick the current stable release.\n",
    "\n",
    "* Install on your laptop \n",
    "\n",
    "* Pick either: VS Code or IJulia\n",
    "\n",
    "### IJulia\n",
    "1. Start Julia in a terminal `julia`\n",
    "2. Type `using IJulia` and then `y` to download\n",
    "4. Run `installkernel(\"Julia (4 threads)\", env=Dict(\"JULIA_NUM_THREADS\"=>\"4\"))`\n",
    "\n",
    "### VS Code\n",
    "1. Download Visual Studio Code: [`code.visualstudio.com`](https://code.visualstudio.com/download)\n",
    "2. Click the \"Extensions\" button on the left panel and search for Julia.\n",
    "3. Click \"Install\"\n"
   ]
  },
  {
   "cell_type": "markdown",
   "metadata": {},
   "source": [
    "# Julia Syntax"
   ]
  },
  {
   "cell_type": "markdown",
   "metadata": {},
   "source": [
    "Variables"
   ]
  },
  {
   "cell_type": "code",
   "execution_count": 8,
   "metadata": {},
   "outputs": [
    {
     "data": {
      "text/plain": [
       "1//2"
      ]
     },
     "metadata": {},
     "output_type": "display_data"
    }
   ],
   "source": [
    "a = 1\n",
    "b = 3.0\n",
    "c = 1//2"
   ]
  },
  {
   "cell_type": "markdown",
   "metadata": {},
   "source": [
    "Mathematical expressions"
   ]
  },
  {
   "cell_type": "code",
   "execution_count": 9,
   "metadata": {},
   "outputs": [
    {
     "data": {
      "text/plain": [
       "1155"
      ]
     },
     "metadata": {},
     "output_type": "display_data"
    }
   ],
   "source": [
    "α = 3a + 2c\n",
    "\n",
    "∑x = sum(3xi^2 for xi = 1:10)"
   ]
  },
  {
   "cell_type": "markdown",
   "metadata": {},
   "source": [
    "Functions"
   ]
  },
  {
   "cell_type": "code",
   "execution_count": 10,
   "metadata": {},
   "outputs": [
    {
     "data": {
      "text/plain": [
       "f (generic function with 1 method)"
      ]
     },
     "metadata": {},
     "output_type": "display_data"
    }
   ],
   "source": [
    "f(x) = 2x^2 + 3x^3 + 6"
   ]
  },
  {
   "cell_type": "code",
   "execution_count": 11,
   "metadata": {},
   "outputs": [
    {
     "data": {
      "text/plain": [
       "38"
      ]
     },
     "metadata": {},
     "output_type": "display_data"
    }
   ],
   "source": [
    "f(2)"
   ]
  },
  {
   "cell_type": "markdown",
   "metadata": {},
   "source": [
    "Mathemtically notation"
   ]
  },
  {
   "cell_type": "code",
   "execution_count": 12,
   "metadata": {},
   "outputs": [
    {
     "data": {
      "text/plain": [
       "4.2169574573568775"
      ]
     },
     "metadata": {},
     "output_type": "display_data"
    }
   ],
   "source": [
    "∇²(σₐ) = √3 + log(σₐ)\n",
    "\n",
    "∇²(12.0)"
   ]
  },
  {
   "cell_type": "markdown",
   "metadata": {},
   "source": [
    "There are a few different ways you can print things:"
   ]
  },
  {
   "cell_type": "code",
   "execution_count": 13,
   "metadata": {},
   "outputs": [
    {
     "name": "stdout",
     "output_type": "stream",
     "text": [
      "The answer to life, the universe, and everything is\n",
      "d = 42\n"
     ]
    }
   ],
   "source": [
    "# Output a string (like Python print)\n",
    "println(\"The answer to life, the universe, and everything is\")\n",
    "\n",
    "# Quick show for debugging\n",
    "d = 42\n",
    "@show d;"
   ]
  },
  {
   "cell_type": "code",
   "execution_count": 14,
   "metadata": {},
   "outputs": [
    {
     "name": "stderr",
     "output_type": "stream",
     "text": [
      "┌ Info: The answer ... is\n",
      "│   d = 42\n",
      "└ @ Main c:\\Users\\William\\.julia\\dev\\JuliaNotes\\notes-1.ipynb:2\n",
      "┌ Warning: But what is the question?\n",
      "└ @ Main c:\\Users\\William\\.julia\\dev\\JuliaNotes\\notes-1.ipynb:3\n"
     ]
    }
   ],
   "source": [
    "# Nice logging messages\n",
    "@info \"The answer ... is\" d\n",
    "@warn \"But what is the question?\""
   ]
  },
  {
   "cell_type": "markdown",
   "metadata": {},
   "source": [
    "## Types\n",
    "In Julia, every value has a `type`. "
   ]
  },
  {
   "cell_type": "code",
   "execution_count": 15,
   "metadata": {},
   "outputs": [
    {
     "name": "stdout",
     "output_type": "stream",
     "text": [
      "typeof(1) = Int64\n",
      "typeof(1.0) = Float64\n",
      "typeof(\"abc\") = String\n"
     ]
    }
   ],
   "source": [
    "@show typeof(1)\n",
    "@show typeof(1.0)\n",
    "@show typeof(\"abc\");"
   ]
  },
  {
   "cell_type": "markdown",
   "metadata": {},
   "source": [
    "There are lots of different types in Julia. They decide what your program does!\n",
    "But you almost never need to specify them and they get inferred automatically."
   ]
  },
  {
   "cell_type": "markdown",
   "metadata": {},
   "source": [
    "## Importing Libraries\n",
    "\n",
    "The normal way to import Julia libraries is with `using SomePackage`\n",
    "\n",
    "This loads the package (if installed).\n",
    "\n",
    "You can then access functions from that package like `SomePackage.func()`:"
   ]
  },
  {
   "cell_type": "code",
   "execution_count": 16,
   "metadata": {},
   "outputs": [
    {
     "name": "stdout",
     "output_type": "stream",
     "text": [
      "Weather report: Victoria, Canada\n",
      "\n",
      "  \u001b[38;5;226m    \\   /    \u001b[0m Sunny\n",
      "  \u001b[38;5;226m     .-.     \u001b[0m \u001b[38;5;047m+6\u001b[0m(\u001b[38;5;048m5\u001b[0m) °C\u001b[0m       \n",
      "  \u001b[38;5;226m  ― (   ) ―  \u001b[0m \u001b[1m↗\u001b[0m \u001b[38;5;118m4\u001b[0m km/h\u001b[0m       \n",
      "  \u001b[38;5;226m     `-’     \u001b[0m 2 km\u001b[0m           \n",
      "  \u001b[38;5;226m    /   \\    \u001b[0m 0.3 mm\u001b[0m         \n",
      "                                                       \n"
     ]
    }
   ],
   "source": [
    "using Downloads\n",
    "filename = Downloads.download(\"https://wttr.in/\")\n",
    "\n",
    "println(readuntil(filename, \"┌\"))"
   ]
  },
  {
   "cell_type": "markdown",
   "metadata": {},
   "source": [
    "Whenever it's not ambiguous, most Julia packages `export` their key functions so you can use them without a prefix:"
   ]
  },
  {
   "cell_type": "code",
   "execution_count": 17,
   "metadata": {},
   "outputs": [
    {
     "data": {
      "text/plain": [
       "2.0"
      ]
     },
     "metadata": {},
     "output_type": "display_data"
    }
   ],
   "source": [
    "using Statistics\n",
    "mean([1,2,3])"
   ]
  },
  {
   "cell_type": "markdown",
   "metadata": {},
   "source": [
    "You can load most kinds of files using the `load` function as long as you have the right package installed.\n",
    "Here we'll download a an image as a PNG and load it:"
   ]
  },
  {
   "cell_type": "code",
   "execution_count": 18,
   "metadata": {},
   "outputs": [
    {
     "data": {
      "image/png": "[encoded data removed]",
      "text/plain": [
       "200×320 Array{RGBA{N0f8},2} with eltype RGBA{N0f8}:\n",
       " RGBA{N0f8}(0.0,0.0,0.0,0.0)  …  RGBA{N0f8}(0.0,0.0,0.0,0.0)\n",
       " RGBA{N0f8}(0.0,0.0,0.0,0.0)     RGBA{N0f8}(0.0,0.0,0.0,0.0)\n",
       " RGBA{N0f8}(0.0,0.0,0.0,0.0)     RGBA{N0f8}(0.0,0.0,0.0,0.0)\n",
       " RGBA{N0f8}(0.0,0.0,0.0,0.0)     RGBA{N0f8}(0.0,0.0,0.0,0.0)\n",
       " RGBA{N0f8}(0.0,0.0,0.0,0.0)     RGBA{N0f8}(0.0,0.0,0.0,0.0)\n",
       " RGBA{N0f8}(0.0,0.0,0.0,0.0)  …  RGBA{N0f8}(0.0,0.0,0.0,0.0)\n",
       " RGBA{N0f8}(0.0,0.0,0.0,0.0)     RGBA{N0f8}(0.0,0.0,0.0,0.0)\n",
       " RGBA{N0f8}(0.0,0.0,0.0,0.0)     RGBA{N0f8}(0.0,0.0,0.0,0.0)\n",
       " RGBA{N0f8}(0.0,0.0,0.0,0.0)     RGBA{N0f8}(0.0,0.0,0.0,0.0)\n",
       " RGBA{N0f8}(0.0,0.0,0.0,0.0)     RGBA{N0f8}(0.0,0.0,0.0,0.0)\n",
       " ⋮                            ⋱  \n",
       " RGBA{N0f8}(0.0,0.0,0.0,0.0)     RGBA{N0f8}(0.0,0.0,0.0,0.0)\n",
       " RGBA{N0f8}(0.0,0.0,0.0,0.0)     RGBA{N0f8}(0.0,0.0,0.0,0.0)\n",
       " RGBA{N0f8}(0.0,0.0,0.0,0.0)     RGBA{N0f8}(0.0,0.0,0.0,0.0)\n",
       " RGBA{N0f8}(0.0,0.0,0.0,0.0)     RGBA{N0f8}(0.0,0.0,0.0,0.0)\n",
       " RGBA{N0f8}(0.0,0.0,0.0,0.0)  …  RGBA{N0f8}(0.0,0.0,0.0,0.0)\n",
       " RGBA{N0f8}(0.0,0.0,0.0,0.0)     RGBA{N0f8}(0.0,0.0,0.0,0.0)\n",
       " RGBA{N0f8}(0.0,0.0,0.0,0.0)     RGBA{N0f8}(0.0,0.0,0.0,0.0)\n",
       " RGBA{N0f8}(0.0,0.0,0.0,0.0)     RGBA{N0f8}(0.0,0.0,0.0,0.0)\n",
       " RGBA{N0f8}(0.0,0.0,0.0,0.0)     RGBA{N0f8}(0.0,0.0,0.0,0.0)"
      ]
     },
     "metadata": {},
     "output_type": "display_data"
    }
   ],
   "source": [
    "using Images\n",
    "filename = Downloads.download(\"https://github.com/JuliaLang/julia-logo-graphics/blob/master/images/julia-logo-color.png?raw=true\")\n",
    "\n",
    "load(filename)"
   ]
  },
  {
   "cell_type": "markdown",
   "metadata": {},
   "source": [
    "## Arrays\n",
    "In Julia, vectors, matrices, etc are all just `Array`s:"
   ]
  },
  {
   "cell_type": "code",
   "execution_count": 19,
   "metadata": {},
   "outputs": [
    {
     "data": {
      "text/plain": [
       "3-element Vector{Int64}:\n",
       " 1\n",
       " 2\n",
       " 3"
      ]
     },
     "metadata": {},
     "output_type": "display_data"
    }
   ],
   "source": [
    "x = [1, 2, 3]"
   ]
  },
  {
   "cell_type": "markdown",
   "metadata": {},
   "source": [
    "You can push new items into a vector using `push!`: The `!` isn't anything special. People add it to function names as a convention when that function modifies something."
   ]
  },
  {
   "cell_type": "code",
   "execution_count": 20,
   "metadata": {},
   "outputs": [
    {
     "data": {
      "text/plain": [
       "4-element Vector{Int64}:\n",
       " 1\n",
       " 2\n",
       " 3\n",
       " 4"
      ]
     },
     "metadata": {},
     "output_type": "display_data"
    }
   ],
   "source": [
    "push!(x, 4)"
   ]
  },
  {
   "cell_type": "markdown",
   "metadata": {},
   "source": [
    "Just like MATLAB and Fortran, in Julia 1D arrays are column vectors by default. This is opposite from Python!\n",
    "\n",
    "You can make matrices really easily:"
   ]
  },
  {
   "cell_type": "code",
   "execution_count": 21,
   "metadata": {},
   "outputs": [
    {
     "data": {
      "text/plain": [
       "3×3 Matrix{Int64}:\n",
       " 1  2  3\n",
       " 4  5  6\n",
       " 7  8  9"
      ]
     },
     "metadata": {},
     "output_type": "display_data"
    }
   ],
   "source": [
    "A = [\n",
    "    1 2 3\n",
    "    4 5 6\n",
    "    7 8 9\n",
    "]"
   ]
  },
  {
   "cell_type": "markdown",
   "metadata": {},
   "source": [
    "Operators like `*`, `^2`, `sin()`, or `exp()` apply to their whole argument (unlike NumPy):"
   ]
  },
  {
   "cell_type": "code",
   "execution_count": 22,
   "metadata": {},
   "outputs": [
    {
     "data": {
      "text/plain": [
       "3×3 Matrix{Int64}:\n",
       "  30   36   42\n",
       "  66   81   96\n",
       " 102  126  150"
      ]
     },
     "metadata": {},
     "output_type": "display_data"
    }
   ],
   "source": [
    "A^2"
   ]
  },
  {
   "cell_type": "code",
   "execution_count": 23,
   "metadata": {},
   "outputs": [
    {
     "data": {
      "text/plain": [
       "3×3 Matrix{Float64}:\n",
       " 1.11891e6  1.37482e6  1.63072e6\n",
       " 2.53388e6  3.11342e6  3.69295e6\n",
       " 3.94886e6  4.85201e6  5.75517e6"
      ]
     },
     "metadata": {},
     "output_type": "display_data"
    }
   ],
   "source": [
    "exp(A)"
   ]
  },
  {
   "cell_type": "code",
   "execution_count": 24,
   "metadata": {},
   "outputs": [
    {
     "data": {
      "text/plain": [
       "3-element Vector{Int64}:\n",
       " 14\n",
       " 32\n",
       " 50"
      ]
     },
     "metadata": {},
     "output_type": "display_data"
    }
   ],
   "source": [
    "A * [1, 2, 3]"
   ]
  },
  {
   "cell_type": "markdown",
   "metadata": {},
   "source": [
    "## Broadcasting\n",
    "If you want to apply an operation *element wise* you can prefix anything (**anything**) with a `.`:"
   ]
  },
  {
   "cell_type": "code",
   "execution_count": 25,
   "metadata": {},
   "outputs": [
    {
     "data": {
      "text/plain": [
       "3×3 Matrix{Int64}:\n",
       "  1   2   3\n",
       "  8  10  12\n",
       " 21  24  27"
      ]
     },
     "metadata": {},
     "output_type": "display_data"
    }
   ],
   "source": [
    "A .* [1, 2, 3]"
   ]
  },
  {
   "cell_type": "code",
   "execution_count": 26,
   "metadata": {},
   "outputs": [
    {
     "data": {
      "text/plain": [
       "3×3 Matrix{Int64}:\n",
       "  1   4   9\n",
       " 16  25  36\n",
       " 49  64  81"
      ]
     },
     "metadata": {},
     "output_type": "display_data"
    }
   ],
   "source": [
    "A.^2"
   ]
  },
  {
   "cell_type": "code",
   "execution_count": 27,
   "metadata": {},
   "outputs": [
    {
     "data": {
      "text/plain": [
       "3×3 Matrix{Float64}:\n",
       "  0.841471   0.909297   0.14112\n",
       " -0.756802  -0.958924  -0.279415\n",
       "  0.656987   0.989358   0.412118"
      ]
     },
     "metadata": {},
     "output_type": "display_data"
    }
   ],
   "source": [
    "sin.(A)"
   ]
  },
  {
   "cell_type": "code",
   "execution_count": 28,
   "metadata": {},
   "outputs": [
    {
     "data": {
      "text/plain": [
       "3×2 Matrix{String}:\n",
       " \"Aa\"  \"Ab\"\n",
       " \"Ba\"  \"Bb\"\n",
       " \"Ca\"  \"Cb\""
      ]
     },
     "metadata": {},
     "output_type": "display_data"
    }
   ],
   "source": [
    "strs = [\n",
    "    \"A\",\n",
    "    \"B\",\n",
    "    \"C\",\n",
    "]\n",
    "strs2 = [\"a\" \"b\"]\n",
    "strs .* strs2"
   ]
  },
  {
   "cell_type": "markdown",
   "metadata": {},
   "source": [
    "Ranges just store the start, step, and stop, but otherwise work just like any other Array:"
   ]
  },
  {
   "cell_type": "code",
   "execution_count": 29,
   "metadata": {},
   "outputs": [
    {
     "data": {
      "text/plain": [
       "1:5"
      ]
     },
     "metadata": {},
     "output_type": "display_data"
    }
   ],
   "source": [
    "1:5"
   ]
  },
  {
   "cell_type": "code",
   "execution_count": 30,
   "metadata": {},
   "outputs": [
    {
     "data": {
      "text/plain": [
       "8-element Vector{Int64}:\n",
       " 1\n",
       " 2\n",
       " 3\n",
       " 4\n",
       " 5\n",
       " 6\n",
       " 7\n",
       " 8"
      ]
     },
     "metadata": {},
     "output_type": "display_data"
    }
   ],
   "source": [
    "y = vcat(1:5, 6:8)"
   ]
  },
  {
   "cell_type": "code",
   "execution_count": 31,
   "metadata": {},
   "outputs": [
    {
     "name": "stdout",
     "output_type": "stream",
     "text": [
      "length(A) = 9\n",
      "size(A) = (3, 3)\n",
      "eachindex(A) = Base.OneTo(9)\n"
     ]
    }
   ],
   "source": [
    "@show length(A)\n",
    "@show size(A)\n",
    "@show eachindex(A);"
   ]
  },
  {
   "cell_type": "markdown",
   "metadata": {},
   "source": [
    "## Loops \n",
    "Loops are not bad! You can use for loops in your Julia programs as much as you want †, or you can use arrays if that makes more sense for a problem. You are free to choose!\n",
    "\n",
    "†: If they're inside functions\n"
   ]
  },
  {
   "cell_type": "code",
   "execution_count": 32,
   "metadata": {},
   "outputs": [
    {
     "name": "stdout",
     "output_type": "stream",
     "text": [
      "1\n",
      "4\n",
      "9\n",
      "16\n",
      "25\n",
      "36\n",
      "49\n",
      "64\n",
      "81\n",
      "100\n"
     ]
    }
   ],
   "source": [
    "for i in 1:10\n",
    "    println(i^2)\n",
    "end"
   ]
  },
  {
   "cell_type": "markdown",
   "metadata": {},
   "source": [
    "## Symbolic Calculations\n",
    "You can combine your calculations with symbolic variables, a bit like SymPy or Mathematica"
   ]
  },
  {
   "cell_type": "code",
   "execution_count": 33,
   "metadata": {},
   "outputs": [
    {
     "data": {
      "text/latex": [
       "\\begin{equation}\n",
       "\\frac{\\left( e^{u} \\right)^{w}}{w}\n",
       "\\end{equation}\n"
      ],
      "text/plain": [
       "(exp(u)^w) / w"
      ]
     },
     "metadata": {},
     "output_type": "display_data"
    }
   ],
   "source": [
    "using Symbolics\n",
    "@variables u v w\n",
    "\n",
    "expr = exp(u)^w / w"
   ]
  },
  {
   "cell_type": "code",
   "execution_count": 34,
   "metadata": {},
   "outputs": [
    {
     "data": {
      "text/latex": [
       "\\begin{equation}\n",
       "\\frac{e^{u w}}{w}\n",
       "\\end{equation}\n"
      ],
      "text/plain": [
       "exp(u*w) / w"
      ]
     },
     "metadata": {},
     "output_type": "display_data"
    }
   ],
   "source": [
    "simplify(expr)"
   ]
  },
  {
   "cell_type": "markdown",
   "metadata": {},
   "source": [
    "## Automatic Differentiation\n",
    "\n",
    "Most Julia code can be differentiated just like any other mathematical expression using an autodiff library. Here, we'll use ForwardDiff.jl.\n",
    "\n",
    "This is a super power: if you have a forward modelling code and you want to compare it to data, you can get not just the $\\chi^2$ but also the gradient of that $\\chi^2$ with respect to all your model parameters. This can make your modelling code even more efficient!\n"
   ]
  },
  {
   "cell_type": "code",
   "execution_count": 68,
   "metadata": {},
   "outputs": [
    {
     "data": {
      "text/plain": [
       "0.6082812951104912"
      ]
     },
     "metadata": {},
     "output_type": "display_data"
    }
   ],
   "source": [
    "using ForwardDiff\n",
    "\n",
    "model(x, μ, A, σ) = A * exp(-(x-μ)^2/σ)\n",
    "\n",
    "xdat = 0:0.5:3\n",
    "dat = sin.(xdat)\n",
    "\n",
    "meansquare(d1, d2) = sqrt(mean((d1 .- d2).^2))\n",
    "\n",
    "fit((μ, A, σ)) = meansquare(model.(xdat, μ, A, σ), dat)\n",
    "\n",
    "fit((1, 0.1, 2))\n"
   ]
  },
  {
   "cell_type": "code",
   "execution_count": 69,
   "metadata": {},
   "outputs": [
    {
     "data": {
      "text/plain": [
       "3-element Vector{Float64}:\n",
       " -0.025605665549015857\n",
       " -0.6031166374068061\n",
       " -0.00732369724687677"
      ]
     },
     "metadata": {},
     "output_type": "display_data"
    }
   ],
   "source": [
    "ForwardDiff.gradient(fit, [1, 0.1, 2])"
   ]
  },
  {
   "cell_type": "markdown",
   "metadata": {},
   "source": [
    "All second order partial derviatives (the Hessian matrix):"
   ]
  },
  {
   "cell_type": "code",
   "execution_count": 75,
   "metadata": {},
   "outputs": [
    {
     "data": {
      "text/plain": [
       "3×3 Matrix{Float64}:\n",
       "  0.0333105   -0.276872    0.00476344\n",
       " -0.276872     0.204517   -0.0720698\n",
       "  0.00476344  -0.0720698   0.00490133"
      ]
     },
     "metadata": {},
     "output_type": "display_data"
    }
   ],
   "source": [
    "ForwardDiff.hessian(fit, [1, 0.1, 2])"
   ]
  },
  {
   "cell_type": "markdown",
   "metadata": {},
   "source": [
    "Let's combine this with a symbolic variable for a mixed numerical/analytic expression"
   ]
  },
  {
   "cell_type": "code",
   "execution_count": 78,
   "metadata": {},
   "outputs": [
    {
     "data": {
      "text/latex": [
       "\\begin{equation}\n",
       "\\frac{ - 0.10510841176326924 u^{2} + 0.03866722378188934 u \\left( -0.2822400161197344 + 0.2706705664732254 u \\right) - 0.06303549304175682 u \\left( -0.958851077208406 + 1.764993805169191 u \\right) + 0.06956838586250351 u \\left( -1.1969442882079129 + 0.6493049347166995 u \\right) + 0.06303549304175682 u \\left( -1.994989973208109 + 1.764993805169191 u \\right) + 0.08664723710180477 u \\left( -1.8185948536513634 + 1.2130613194252668 u \\right)}{2 \\sqrt{0.05255420588163462 u^{2} + \\frac{1}{7} \\left( -0.8414709848078965 + u \\right)^{2} + \\frac{1}{7} \\left( -0.1411200080598672 + 0.1353352832366127 u \\right)^{2} + \\frac{1}{7} \\left( -0.5984721441039564 + 0.32465246735834974 u \\right)^{2} + \\frac{1}{7} \\left( -0.9092974268256817 + 0.6065306597126334 u \\right)^{2} + \\frac{1}{7} \\left( -0.479425538604203 + 0.8824969025845955 u \\right)^{2} + \\frac{1}{7} \\left( -0.9974949866040544 + 0.8824969025845955 u \\right)^{2}}}\n",
       "\\end{equation}\n"
      ],
      "text/plain": [
       "(0.03866722378188934u*(0.2706705664732254u - 0.2822400161197344) + 0.06956838586250351u*(0.6493049347166995u - 1.1969442882079129) + 0.06303549304175682u*(1.764993805169191u - 1.994989973208109) + 0.08664723710180477u*(1.2130613194252668u - 1.8185948536513634) - 0.10510841176326924(u^2) - 0.06303549304175682u*(1.764993805169191u - 0.958851077208406)) / (2sqrt(0.05255420588163462(u^2) + (1//7)*((u - 0.8414709848078965)^2) + (1//7)*((0.1353352832366127u - 0.1411200080598672)^2) + (1//7)*((0.32465246735834974u - 0.5984721441039564)^2) + (1//7)*((0.6065306597126334u - 0.9092974268256817)^2) + (1//7)*((0.8824969025845955u - 0.479425538604203)^2) + (1//7)*((0.8824969025845955u - 0.9974949866040544)^2)))"
      ]
     },
     "metadata": {},
     "output_type": "display_data"
    }
   ],
   "source": [
    "ForwardDiff.gradient(fit, [1, u, 2])[1]"
   ]
  },
  {
   "cell_type": "markdown",
   "metadata": {},
   "source": [
    "## Uncertainty"
   ]
  },
  {
   "cell_type": "code",
   "execution_count": 84,
   "metadata": {},
   "outputs": [
    {
     "data": {
      "text/latex": [
       "$8.0 \\pm 5.7$"
      ],
      "text/plain": [
       "8.0 ± 5.7"
      ]
     },
     "metadata": {},
     "output_type": "display_data"
    }
   ],
   "source": [
    "using Measurements\n",
    "a = 2 ± 1\n",
    "b = 4 ± 2\n",
    "\n",
    "a * b"
   ]
  },
  {
   "cell_type": "markdown",
   "metadata": {},
   "source": [
    "## Plotting\n",
    "\n",
    "There are two great sets of plotting packages: `Plots.jl` and `Makie.jl`. Makie is a little slow to start, but makes for some really beautiful plots, so we'll use that today."
   ]
  },
  {
   "cell_type": "code",
   "execution_count": 36,
   "metadata": {},
   "outputs": [],
   "source": [
    "using WGLMakie\n",
    "\n",
    "# CairoMakie: for nice PDF exports, figures for papers\n",
    "# GLMakie   : for interactive or 3D plots in a separate window\n",
    "# WGLMakie  : for quick interactive plots in Jupyter"
   ]
  },
  {
   "cell_type": "code",
   "execution_count": 37,
   "metadata": {},
   "outputs": [
    {
     "data": {
      "text/html": [
       "<div data-jscall-id=\"2\"><script data-jscall-id=\"3\" type=\"text/javascript\">\n",
       "    function register_resize_handler(remote_origin) {\n",
       "        function resize_callback(event) {\n",
       "            if (event.origin !== remote_origin) {\n",
       "                return;\n",
       "            }\n",
       "            const uuid = event.data[0];\n",
       "            const width = event.data[1];\n",
       "            const height = event.data[2];\n",
       "            const iframe = document.getElementById('da1df34d-7e7b-480f-9cc7-ef168238dff2');\n",
       "            if (iframe) {\n",
       "                iframe.style.width = width + \"px\";\n",
       "                iframe.style.height = height + \"px\";\n",
       "            }\n",
       "        }\n",
       "        if (window.addEventListener) {\n",
       "            window.addEventListener(\"message\", resize_callback, false);\n",
       "        } else if (window.attachEvent) {\n",
       "            window.attachEvent(\"onmessage\", resize_callback);\n",
       "        }\n",
       "    }\n",
       "    register_resize_handler('http://127.0.0.1:9284')\n",
       "\n",
       "</script><iframe scrolling=\"no\" id=\"da1df34d-7e7b-480f-9cc7-ef168238dff2\" data-jscall-id=\"1\" src=\"http://127.0.0.1:9284/da1df34d-7e7b-480f-9cc7-ef168238dff2\" style=\"position: relative; display: block; width: 100%; height: 100%; padding: 0; overflow: hidden; border: none\"></iframe></div>\n"
      ]
     },
     "metadata": {},
     "output_type": "display_data"
    }
   ],
   "source": [
    "lines(1:90, sind.(1:90), axis=(xlabel=\"x\", ylabel=\"y\"))"
   ]
  },
  {
   "cell_type": "code",
   "execution_count": 38,
   "metadata": {},
   "outputs": [
    {
     "data": {
      "text/html": [
       "<div data-jscall-id=\"19\"><script data-jscall-id=\"20\" type=\"text/javascript\">\n",
       "    function register_resize_handler(remote_origin) {\n",
       "        function resize_callback(event) {\n",
       "            if (event.origin !== remote_origin) {\n",
       "                return;\n",
       "            }\n",
       "            const uuid = event.data[0];\n",
       "            const width = event.data[1];\n",
       "            const height = event.data[2];\n",
       "            const iframe = document.getElementById('24c4c219-2f7f-4317-90af-76902b403b04');\n",
       "            if (iframe) {\n",
       "                iframe.style.width = width + \"px\";\n",
       "                iframe.style.height = height + \"px\";\n",
       "            }\n",
       "        }\n",
       "        if (window.addEventListener) {\n",
       "            window.addEventListener(\"message\", resize_callback, false);\n",
       "        } else if (window.attachEvent) {\n",
       "            window.attachEvent(\"onmessage\", resize_callback);\n",
       "        }\n",
       "    }\n",
       "    register_resize_handler('http://127.0.0.1:9284')\n",
       "\n",
       "</script><iframe scrolling=\"no\" id=\"24c4c219-2f7f-4317-90af-76902b403b04\" data-jscall-id=\"18\" src=\"http://127.0.0.1:9284/24c4c219-2f7f-4317-90af-76902b403b04\" style=\"position: relative; display: block; width: 100%; height: 100%; padding: 0; overflow: hidden; border: none\"></iframe></div>\n"
      ]
     },
     "metadata": {},
     "output_type": "display_data"
    }
   ],
   "source": [
    "x = range(-π, π, length=100)\n",
    "y = range(-π, π, length=100)\n",
    "z = sinc.(sqrt.(x.^2 .+ y'.^2))\n",
    "\n",
    "surface(x, y, z, colormap=:plasma)"
   ]
  },
  {
   "cell_type": "code",
   "execution_count": 39,
   "metadata": {},
   "outputs": [
    {
     "data": {
      "text/html": [
       "<div data-jscall-id=\"22\"><script data-jscall-id=\"23\" type=\"text/javascript\">\n",
       "    function register_resize_handler(remote_origin) {\n",
       "        function resize_callback(event) {\n",
       "            if (event.origin !== remote_origin) {\n",
       "                return;\n",
       "            }\n",
       "            const uuid = event.data[0];\n",
       "            const width = event.data[1];\n",
       "            const height = event.data[2];\n",
       "            const iframe = document.getElementById('5ecda22b-10d1-4bd6-8cde-1e908d92244d');\n",
       "            if (iframe) {\n",
       "                iframe.style.width = width + \"px\";\n",
       "                iframe.style.height = height + \"px\";\n",
       "            }\n",
       "        }\n",
       "        if (window.addEventListener) {\n",
       "            window.addEventListener(\"message\", resize_callback, false);\n",
       "        } else if (window.attachEvent) {\n",
       "            window.attachEvent(\"onmessage\", resize_callback);\n",
       "        }\n",
       "    }\n",
       "    register_resize_handler('http://127.0.0.1:9284')\n",
       "\n",
       "</script><iframe scrolling=\"no\" id=\"5ecda22b-10d1-4bd6-8cde-1e908d92244d\" data-jscall-id=\"21\" src=\"http://127.0.0.1:9284/5ecda22b-10d1-4bd6-8cde-1e908d92244d\" style=\"position: relative; display: block; width: 100%; height: 100%; padding: 0; overflow: hidden; border: none\"></iframe></div>\n"
      ]
     },
     "metadata": {},
     "output_type": "display_data"
    }
   ],
   "source": [
    "fig = Figure(\n",
    "    resolution=(800,800)\n",
    ")\n",
    "\n",
    "xx = π/2*randn(1000)\n",
    "yy = π/2*randn(1000)\n",
    "\n",
    "ax1 = Makie.Axis(fig[1,1], xlabel=\"x\", ylabel=\"y\")\n",
    "scatter!(ax1, xx, yy, )\n",
    "\n",
    "ax2 = Makie.Axis(fig[2,1], xlabel=\"x\", ylabel=\"y\")\n",
    "h = contourf!(ax2, x, y, z)\n",
    "\n",
    "Colorbar(fig[1:2, 2], h, label=\"Colorbar\")\n",
    "\n",
    "\n",
    "linkxaxes!(ax1, ax2)\n",
    "\n",
    "fig"
   ]
  },
  {
   "cell_type": "code",
   "execution_count": 40,
   "metadata": {},
   "outputs": [],
   "source": [
    "fig = Figure(\n",
    "    resolution=(800,800)\n",
    ")\n",
    "\n",
    "xx = π/2*randn(1000)\n",
    "yy = π/2*randn(1000)\n",
    "\n",
    "ax1 = Makie.Axis(fig[1,1], xlabel=\"x\", ylabel=\"y\")\n",
    "scatter!(ax1, xx, yy, )\n",
    "\n",
    "ax2 = Makie.Axis(fig[2,1], xlabel=\"x\", ylabel=\"y\")\n",
    "h = contourf!(ax2, x, y, z)\n",
    "\n",
    "Colorbar(fig[1:2, 2], h, label=\"Colorbar\")\n",
    "\n",
    "\n",
    "linkxaxes!(ax1, ax2)"
   ]
  },
  {
   "cell_type": "code",
   "execution_count": 41,
   "metadata": {},
   "outputs": [],
   "source": [
    "using WGLMakie\n",
    "WGLMakie.activate!()"
   ]
  },
  {
   "cell_type": "code",
   "execution_count": 42,
   "metadata": {},
   "outputs": [],
   "source": []
  }
 ],
 "metadata": {
  "kernelspec": {
   "display_name": "Julia 1.7.2",
   "language": "julia",
   "name": "julia-1.7"
  },
  "language_info": {
   "file_extension": ".jl",
   "mimetype": "application/julia",
   "name": "julia",
   "version": "1.7.2"
  },
  "orig_nbformat": 4
 },
 "nbformat": 4,
 "nbformat_minor": 2
}
