{
 "cells": [
  {
   "cell_type": "markdown",
   "metadata": {},
   "source": [
    "Set up our project environment (more on this later)"
   ]
  },
  {
   "cell_type": "code",
   "execution_count": 2,
   "metadata": {},
   "outputs": [
    {
     "name": "stderr",
     "output_type": "stream",
     "text": [
      "\u001b[32m\u001b[1m  Activating\u001b[22m\u001b[39m project at `c:\\Users\\William\\.julia\\dev\\JuliaNotes`\n"
     ]
    }
   ],
   "source": [
    "using Pkg\n",
    "Pkg.activate(\".\")\n",
    "Pkg.instantiate() # Only need the first time"
   ]
  },
  {
   "cell_type": "markdown",
   "metadata": {},
   "source": [
    "# Presentation\n",
    "\n",
    "What to highlight:\n",
    "* Speed\n",
    "* Syntax\n",
    "* Autodiff\n",
    "* Multi-threading, distributed\n",
    "* Turing\n",
    "* GPU"
   ]
  },
  {
   "cell_type": "markdown",
   "metadata": {},
   "source": [
    "I'm going to be talking up Julia a lot during this workshop, but I want to note:\n",
    "* These are my own opions\n",
    "* there's no universal \"best\" solution for everyone\n",
    "* I am aware that it's *possible* to do most things in other languages\n",
    "\n",
    "Instead, I hope to show you some of the areas that Julia really shines.\n",
    "\n",
    "* I'm going to be contrasting Julia with Python a lot today since it's the language this audience is the most familiar with\n",
    "* But I love Python! I used it for years, it's great at what it does, and has massive library of thoughfully developed packages"
   ]
  },
  {
   "cell_type": "markdown",
   "metadata": {},
   "source": [
    "## Why Julia\n",
    "\n",
    "* Our goal should be to \"do\" science as fast, and correctly as we can\n",
    "* Easy to reproduce results: free, open source, good package management\n",
    "* Easy to read, write, and *understand* (no black boxes!)\n",
    "* And *very, very fast*\n",
    "\n",
    "----\n",
    "Where we were without Julia:\n",
    "\n",
    "People want to develop their ideas in a convenient language like MATLAB or Python, but when their problems grows they need to stop and re-write it from scratch in a \"hard\" but fast language like C or Fortran.\n",
    "This is called the **Two Language Problem**\n",
    "\n",
    "This is a real impediment to research!\n",
    "\n",
    "Since Python is so slow, most numerical libraries are actually written in C or Fortran\n",
    "This leads to issues even if you never write your own pacakge:\n",
    "   * The pacakge you need might not compile on your system\n",
    "   * If you're using a library function, say numpy.median and you want to make your own version that's a little different, you can't (without learning all about C, compilers, combining C and Python, etc)\n",
    "   * Libraries don't combine easily\n",
    "   * Numbers work differently depending on if their in a NumPy array?\n",
    "   * Lists vs arrays vs matrices?\n",
    "\n"
   ]
  },
  {
   "cell_type": "markdown",
   "metadata": {},
   "source": [
    "Enter Julia....\n",
    "\n",
    "Julia is a \"new\" programming language.\n",
    "\n",
    "* 10th birthday on Monday!\n",
    "* Roughly 100,000 users\n",
    "\n",
    "* Created at MIT by Alan Edelman and his graduate students, now co-founders of Julia Computing\n",
    "* Free open source language but you can pay for support\n",
    "\n"
   ]
  },
  {
   "cell_type": "markdown",
   "metadata": {},
   "source": [
    "Julia is an interative language just like Python. You can use it in in a terminal, in Jupyter notebooks, in Pluto Notebooks (more on this later), VS Code, etc. But it's also a compiled language like C. \n",
    "The first time you run a function, it gets compiled to fast native code (\"assembly\")."
   ]
  },
  {
   "cell_type": "code",
   "execution_count": 3,
   "metadata": {},
   "outputs": [
    {
     "name": "stdout",
     "output_type": "stream",
     "text": [
      "\t\u001b[0m.text\n",
      "\u001b[90m; ┌ @ int.jl:88 within `*`\u001b[39m\n",
      "\t\u001b[96m\u001b[1mpushq\u001b[22m\u001b[39m\t\u001b[0m%rbp\n",
      "\t\u001b[96m\u001b[1mmovq\u001b[22m\u001b[39m\t\u001b[0m%rsp\u001b[0m, \u001b[0m%rbp\n",
      "\t\u001b[96m\u001b[1mmovq\u001b[22m\u001b[39m\t\u001b[0m%rcx\u001b[0m, \u001b[0m%rax\n",
      "\t\u001b[96m\u001b[1mimulq\u001b[22m\u001b[39m\t\u001b[0m%rdx\u001b[0m, \u001b[0m%rax\n",
      "\t\u001b[96m\u001b[1mpopq\u001b[22m\u001b[39m\t\u001b[0m%rbp\n",
      "\t\u001b[96m\u001b[1mretq\u001b[22m\u001b[39m\n",
      "\t\u001b[96m\u001b[1mnopl\u001b[22m\u001b[39m\t\u001b[33m(\u001b[39m\u001b[0m%rax\u001b[33m)\u001b[39m\n",
      "\u001b[90m; └\u001b[39m\n"
     ]
    }
   ],
   "source": [
    "@code_native 1 * 1"
   ]
  },
  {
   "cell_type": "markdown",
   "metadata": {},
   "source": [
    "Most of this is function call overhead. There is really only one instruction executed, `imulq`\n",
    "This is not the case with Python, MATLAB, R, etc.\n",
    "They read the text of your program and step through line by line.\n",
    "\n",
    "We can estimate how many instructions Python uses to multiply two integers:"
   ]
  },
  {
   "cell_type": "code",
   "execution_count": 4,
   "metadata": {},
   "outputs": [
    {
     "name": "stdout",
     "output_type": "stream",
     "text": [
      "Est. instructions per Python multiply: 659.2657566070557\r\n"
     ]
    }
   ],
   "source": [
    "write(\"pythontest1.py\", \"\"\"\n",
    "\n",
    "import time\n",
    "start = time.time()\n",
    "for i in range(0,1_000_000):\n",
    "    i * i\n",
    "end = time.time()\n",
    "elapsed = (end - start)\n",
    "\n",
    "instrs = 3.5e9 * elapsed/1_000_000\n",
    "\n",
    "print(f\"Est. instructions per Python multiply: {instrs}\")\n",
    "\"\"\")\n",
    "\n",
    "# You may need to change this if you want to run these comparisons yourself\n",
    "# pypath = \"python\"\n",
    "pypath = raw\"C:\\Users\\William\\miniconda3\\python.exe\"\n",
    "run(`$pypath pythontest1.py`);"
   ]
  },
  {
   "cell_type": "markdown",
   "metadata": {},
   "source": [
    "This is a good estimate of how much faster Julia is than Python.\n",
    "When I run the same test using large NumPy arrays (best case) I get around 12 instructions.\n",
    "\n",
    "In general, Julia is roughly 100-400× faster than Python, and 10-50× faster than NumPy.\n",
    "For some applications like differential equations or optimization, Julia can be **350×** faster than SciPy."
   ]
  },
  {
   "cell_type": "markdown",
   "metadata": {},
   "source": [
    "## So What?\n",
    "* Because Julia is so fast, you can solve problems on your own laptop that would otherwise need a compute cluster\n",
    "* Because it is compiled, you can write programs in natural ways without reaching for arrays all the time\n",
    "* You can see how Julia packages work and make your own changes\n",
    "\n",
    "Some words from Paul Barret:\n",
    "> As an astronomer and scientific programmer at the Space Telescope Science Institute, I was one of the early developers of Numpy and matplotlib, and early advocates for its use by the astronomical community. It is now the de facto language in astronomy. However, we were aware of the two language problem at the time, but did not have the time nor the resources to implement a new language. Knowing this limitation, I was prepared to adopt Scipy's successor, if and when it arrived. Julia is that successor. Like 25 years ago, I am now advocating for Julia to become the de facto language in astonomy.\n",
    "\n",
    "Let's dive in..."
   ]
  },
  {
   "cell_type": "markdown",
   "metadata": {},
   "source": [
    "## Getting Started\n",
    "\n",
    "### Get the notes\n",
    "* Download these notes using `git` or as a zip folder from [GitHub](https://github.com/sefffal/JuliaNotes)\n",
    "    * Click \"Code\" and then clone it, or \"Download ZIP\"\n",
    "\n",
    "### Get Julia\n",
    "\n",
    "* Download Julia: [`www.julialang.org`](https://www.julialang.org/downloads/).\n",
    "Pick the current stable release.\n",
    "\n",
    "* Install on your laptop \n",
    "\n",
    "* Pick either: VS Code or Jupyter\n",
    "\n",
    "#### Jupyter\n",
    "1. Start Julia in a terminal `julia`\n",
    "2. Type `using IJulia` and then `y` to download\n",
    "4. Run `jupyterlab()`\n",
    "\n",
    "#### VS Code\n",
    "1. Download Visual Studio Code: [`code.visualstudio.com`](https://code.visualstudio.com/download)\n",
    "2. Click the \"Extensions\" button on the left panel and search for Julia.\n",
    "3. Click \"Install\"\n"
   ]
  },
  {
   "cell_type": "markdown",
   "metadata": {},
   "source": [
    "# Julia Syntax"
   ]
  },
  {
   "cell_type": "markdown",
   "metadata": {},
   "source": [
    "Variables"
   ]
  },
  {
   "cell_type": "code",
   "execution_count": 5,
   "metadata": {},
   "outputs": [
    {
     "data": {
      "text/plain": [
       "1//2"
      ]
     },
     "metadata": {},
     "output_type": "display_data"
    }
   ],
   "source": [
    "a = 1\n",
    "b = 3.0\n",
    "c = 1//2"
   ]
  },
  {
   "cell_type": "markdown",
   "metadata": {},
   "source": [
    "Mathematical expressions"
   ]
  },
  {
   "cell_type": "code",
   "execution_count": 6,
   "metadata": {},
   "outputs": [
    {
     "data": {
      "text/plain": [
       "1155"
      ]
     },
     "metadata": {},
     "output_type": "display_data"
    }
   ],
   "source": [
    "α = 3a + 2c\n",
    "\n",
    "∑x = sum(3xi^2 for xi = 1:10)"
   ]
  },
  {
   "cell_type": "markdown",
   "metadata": {},
   "source": [
    "Functions"
   ]
  },
  {
   "cell_type": "code",
   "execution_count": 7,
   "metadata": {},
   "outputs": [
    {
     "data": {
      "text/plain": [
       "f (generic function with 1 method)"
      ]
     },
     "metadata": {},
     "output_type": "display_data"
    }
   ],
   "source": [
    "f(x) = 2x^2 + 3x^3 + 6"
   ]
  },
  {
   "cell_type": "code",
   "execution_count": 8,
   "metadata": {},
   "outputs": [
    {
     "data": {
      "text/plain": [
       "38"
      ]
     },
     "metadata": {},
     "output_type": "display_data"
    }
   ],
   "source": [
    "f(2)"
   ]
  },
  {
   "cell_type": "markdown",
   "metadata": {},
   "source": [
    "Mathemtically notation"
   ]
  },
  {
   "cell_type": "code",
   "execution_count": 9,
   "metadata": {},
   "outputs": [
    {
     "data": {
      "text/plain": [
       "4.2169574573568775"
      ]
     },
     "metadata": {},
     "output_type": "display_data"
    }
   ],
   "source": [
    "∇²(σₐ) = √3 + log(σₐ)\n",
    "\n",
    "∇²(12.0)"
   ]
  },
  {
   "cell_type": "markdown",
   "metadata": {},
   "source": [
    "There are a few different ways you can print things:"
   ]
  },
  {
   "cell_type": "code",
   "execution_count": 10,
   "metadata": {},
   "outputs": [
    {
     "name": "stdout",
     "output_type": "stream",
     "text": [
      "The answer to life, the universe, and everything is\n",
      "d = 42\n"
     ]
    }
   ],
   "source": [
    "# Output a string (like Python print)\n",
    "println(\"The answer to life, the universe, and everything is\")\n",
    "\n",
    "# Quick show for debugging\n",
    "d = 42\n",
    "@show d;"
   ]
  },
  {
   "cell_type": "code",
   "execution_count": 11,
   "metadata": {},
   "outputs": [
    {
     "name": "stderr",
     "output_type": "stream",
     "text": [
      "┌ Info: The answer ... is\n",
      "│   d = 42\n",
      "└ @ Main c:\\Users\\William\\.julia\\dev\\JuliaNotes\\notes-1.ipynb:2\n",
      "┌ Warning: But what is the question?\n",
      "└ @ Main c:\\Users\\William\\.julia\\dev\\JuliaNotes\\notes-1.ipynb:3\n"
     ]
    }
   ],
   "source": [
    "# Nice logging messages\n",
    "@info \"The answer ... is\" d\n",
    "@warn \"But what is the question?\""
   ]
  },
  {
   "cell_type": "markdown",
   "metadata": {},
   "source": [
    "## Types\n",
    "In Julia, every value has a `type`. "
   ]
  },
  {
   "cell_type": "code",
   "execution_count": 12,
   "metadata": {},
   "outputs": [
    {
     "name": "stdout",
     "output_type": "stream",
     "text": [
      "typeof(1) = Int64\n",
      "typeof(1.0) = Float64\n",
      "typeof(\"abc\") = String\n"
     ]
    }
   ],
   "source": [
    "@show typeof(1)\n",
    "@show typeof(1.0)\n",
    "@show typeof(\"abc\");"
   ]
  },
  {
   "cell_type": "markdown",
   "metadata": {},
   "source": [
    "There are lots of different types in Julia. They decide what your program does!\n",
    "But you almost never need to specify them and they get inferred automatically."
   ]
  },
  {
   "cell_type": "markdown",
   "metadata": {},
   "source": [
    "## Importing Libraries\n",
    "\n",
    "The normal way to import Julia libraries is with `using SomePackage`\n",
    "\n",
    "This loads the package (if installed).\n",
    "\n",
    "You can then access functions from that package like `SomePackage.func()`:"
   ]
  },
  {
   "cell_type": "code",
   "execution_count": 13,
   "metadata": {},
   "outputs": [
    {
     "name": "stdout",
     "output_type": "stream",
     "text": [
      "Weather report: Victoria, Canada\n",
      "\n",
      "  \u001b[38;5;226m    \\   /    \u001b[0m Clear\n",
      "  \u001b[38;5;226m     .-.     \u001b[0m \u001b[38;5;049m+2\u001b[0m(\u001b[38;5;050m1\u001b[0m) °C\u001b[0m       \n",
      "  \u001b[38;5;226m  ― (   ) ―  \u001b[0m \u001b[1m→\u001b[0m \u001b[38;5;082m2\u001b[0m km/h\u001b[0m       \n",
      "  \u001b[38;5;226m     `-’     \u001b[0m 10 km\u001b[0m          \n",
      "  \u001b[38;5;226m    /   \\    \u001b[0m 0.0 mm\u001b[0m         \n",
      "                                                       \n"
     ]
    }
   ],
   "source": [
    "using Downloads\n",
    "filename = Downloads.download(\"https://wttr.in/\")\n",
    "\n",
    "println(readuntil(filename, \"┌\"))"
   ]
  },
  {
   "cell_type": "markdown",
   "metadata": {},
   "source": [
    "Whenever it's not ambiguous, most Julia packages `export` their key functions so you can use them without a prefix:"
   ]
  },
  {
   "cell_type": "code",
   "execution_count": 14,
   "metadata": {},
   "outputs": [
    {
     "data": {
      "text/plain": [
       "2.0"
      ]
     },
     "metadata": {},
     "output_type": "display_data"
    }
   ],
   "source": [
    "using Statistics\n",
    "mean([1,2,3])"
   ]
  },
  {
   "cell_type": "markdown",
   "metadata": {},
   "source": [
    "You can load most kinds of files using the `load` function as long as you have the right package installed.\n",
    "Here we'll download a an image as a PNG and load it:"
   ]
  },
  {
   "cell_type": "code",
   "execution_count": 15,
   "metadata": {},
   "outputs": [
    {
     "data": {
      "image/png": "[encoded data removed]",
      "text/plain": [
       "200×320 Array{RGBA{N0f8},2} with eltype RGBA{N0f8}:\n",
       " RGBA{N0f8}(0.0,0.0,0.0,0.0)  …  RGBA{N0f8}(0.0,0.0,0.0,0.0)\n",
       " RGBA{N0f8}(0.0,0.0,0.0,0.0)     RGBA{N0f8}(0.0,0.0,0.0,0.0)\n",
       " RGBA{N0f8}(0.0,0.0,0.0,0.0)     RGBA{N0f8}(0.0,0.0,0.0,0.0)\n",
       " RGBA{N0f8}(0.0,0.0,0.0,0.0)     RGBA{N0f8}(0.0,0.0,0.0,0.0)\n",
       " RGBA{N0f8}(0.0,0.0,0.0,0.0)     RGBA{N0f8}(0.0,0.0,0.0,0.0)\n",
       " RGBA{N0f8}(0.0,0.0,0.0,0.0)  …  RGBA{N0f8}(0.0,0.0,0.0,0.0)\n",
       " RGBA{N0f8}(0.0,0.0,0.0,0.0)     RGBA{N0f8}(0.0,0.0,0.0,0.0)\n",
       " RGBA{N0f8}(0.0,0.0,0.0,0.0)     RGBA{N0f8}(0.0,0.0,0.0,0.0)\n",
       " RGBA{N0f8}(0.0,0.0,0.0,0.0)     RGBA{N0f8}(0.0,0.0,0.0,0.0)\n",
       " RGBA{N0f8}(0.0,0.0,0.0,0.0)     RGBA{N0f8}(0.0,0.0,0.0,0.0)\n",
       " ⋮                            ⋱  \n",
       " RGBA{N0f8}(0.0,0.0,0.0,0.0)     RGBA{N0f8}(0.0,0.0,0.0,0.0)\n",
       " RGBA{N0f8}(0.0,0.0,0.0,0.0)     RGBA{N0f8}(0.0,0.0,0.0,0.0)\n",
       " RGBA{N0f8}(0.0,0.0,0.0,0.0)     RGBA{N0f8}(0.0,0.0,0.0,0.0)\n",
       " RGBA{N0f8}(0.0,0.0,0.0,0.0)     RGBA{N0f8}(0.0,0.0,0.0,0.0)\n",
       " RGBA{N0f8}(0.0,0.0,0.0,0.0)  …  RGBA{N0f8}(0.0,0.0,0.0,0.0)\n",
       " RGBA{N0f8}(0.0,0.0,0.0,0.0)     RGBA{N0f8}(0.0,0.0,0.0,0.0)\n",
       " RGBA{N0f8}(0.0,0.0,0.0,0.0)     RGBA{N0f8}(0.0,0.0,0.0,0.0)\n",
       " RGBA{N0f8}(0.0,0.0,0.0,0.0)     RGBA{N0f8}(0.0,0.0,0.0,0.0)\n",
       " RGBA{N0f8}(0.0,0.0,0.0,0.0)     RGBA{N0f8}(0.0,0.0,0.0,0.0)"
      ]
     },
     "metadata": {},
     "output_type": "display_data"
    }
   ],
   "source": [
    "using Images\n",
    "filename = Downloads.download(\"https://github.com/JuliaLang/julia-logo-graphics/blob/master/images/julia-logo-color.png?raw=true\")\n",
    "\n",
    "load(filename)"
   ]
  },
  {
   "cell_type": "markdown",
   "metadata": {},
   "source": [
    "## Arrays\n",
    "In Julia, vectors, matrices, etc are all just `Array`s:"
   ]
  },
  {
   "cell_type": "code",
   "execution_count": 16,
   "metadata": {},
   "outputs": [
    {
     "data": {
      "text/plain": [
       "3-element Vector{Int64}:\n",
       " 1\n",
       " 2\n",
       " 3"
      ]
     },
     "metadata": {},
     "output_type": "display_data"
    }
   ],
   "source": [
    "x = [1, 2, 3]"
   ]
  },
  {
   "cell_type": "markdown",
   "metadata": {},
   "source": [
    "You can push new items into a vector using `push!`: The `!` isn't anything special. People add it to function names as a convention when that function modifies something."
   ]
  },
  {
   "cell_type": "code",
   "execution_count": 17,
   "metadata": {},
   "outputs": [
    {
     "data": {
      "text/plain": [
       "4-element Vector{Int64}:\n",
       " 1\n",
       " 2\n",
       " 3\n",
       " 4"
      ]
     },
     "metadata": {},
     "output_type": "display_data"
    }
   ],
   "source": [
    "push!(x, 4)"
   ]
  },
  {
   "cell_type": "markdown",
   "metadata": {},
   "source": [
    "Array indexing starts at 1! \n",
    "\n",
    "The first element is index 1, the second is 2, *wow*!"
   ]
  },
  {
   "cell_type": "code",
   "execution_count": 22,
   "metadata": {},
   "outputs": [
    {
     "name": "stdout",
     "output_type": "stream",
     "text": [
      "q[1] = 1\n",
      "q[2] = 2\n",
      "q[3] = 3\n"
     ]
    }
   ],
   "source": [
    "q = [1,2,3,4]\n",
    "@show q[1] q[2] q[3];"
   ]
  },
  {
   "cell_type": "markdown",
   "metadata": {},
   "source": [
    "You can also use `begin` and `end`:"
   ]
  },
  {
   "cell_type": "code",
   "execution_count": 25,
   "metadata": {},
   "outputs": [
    {
     "name": "stdout",
     "output_type": "stream",
     "text": [
      "q[begin] = 1\n",
      "q[end] = 4\n",
      "q[end - 1] = 3\n",
      "q[begin:end ÷ 2] = [1, 2]\n"
     ]
    },
    {
     "data": {
      "text/plain": [
       "2-element Vector{Int64}:\n",
       " 1\n",
       " 2"
      ]
     },
     "metadata": {},
     "output_type": "display_data"
    }
   ],
   "source": [
    "@show q[begin]\n",
    "@show q[end]\n",
    "@show q[end - 1]\n",
    "\n",
    "@show q[begin:end÷2]\n",
    "\n",
    "@show q[begin:end÷2]"
   ]
  },
  {
   "cell_type": "markdown",
   "metadata": {},
   "source": [
    "Just like MATLAB and Fortran, in Julia 1D arrays are column vectors by default. This is opposite from Python!\n",
    "\n",
    "You can make matrices really easily:"
   ]
  },
  {
   "cell_type": "code",
   "execution_count": 18,
   "metadata": {},
   "outputs": [
    {
     "data": {
      "text/plain": [
       "3×3 Matrix{Int64}:\n",
       " 1  2  3\n",
       " 4  5  6\n",
       " 7  8  9"
      ]
     },
     "metadata": {},
     "output_type": "display_data"
    }
   ],
   "source": [
    "A = [\n",
    "    1 2 3\n",
    "    4 5 6\n",
    "    7 8 9\n",
    "]"
   ]
  },
  {
   "cell_type": "markdown",
   "metadata": {},
   "source": [
    "Operators like `*`, `^2`, `sin()`, or `exp()` apply to their whole argument (unlike NumPy):"
   ]
  },
  {
   "cell_type": "code",
   "execution_count": 19,
   "metadata": {},
   "outputs": [
    {
     "data": {
      "text/plain": [
       "3×3 Matrix{Int64}:\n",
       "  30   36   42\n",
       "  66   81   96\n",
       " 102  126  150"
      ]
     },
     "metadata": {},
     "output_type": "display_data"
    }
   ],
   "source": [
    "A^2"
   ]
  },
  {
   "cell_type": "code",
   "execution_count": 20,
   "metadata": {},
   "outputs": [
    {
     "data": {
      "text/plain": [
       "3×3 Matrix{Float64}:\n",
       " 1.11891e6  1.37482e6  1.63072e6\n",
       " 2.53388e6  3.11342e6  3.69295e6\n",
       " 3.94886e6  4.85201e6  5.75517e6"
      ]
     },
     "metadata": {},
     "output_type": "display_data"
    }
   ],
   "source": [
    "exp(A)"
   ]
  },
  {
   "cell_type": "code",
   "execution_count": 21,
   "metadata": {},
   "outputs": [
    {
     "data": {
      "text/plain": [
       "3-element Vector{Int64}:\n",
       " 14\n",
       " 32\n",
       " 50"
      ]
     },
     "metadata": {},
     "output_type": "display_data"
    }
   ],
   "source": [
    "A * [1, 2, 3]"
   ]
  },
  {
   "cell_type": "markdown",
   "metadata": {},
   "source": [
    "## Broadcasting\n",
    "If you want to apply an operation *element wise* you can prefix anything (**anything**) with a `.`:"
   ]
  },
  {
   "cell_type": "code",
   "execution_count": 22,
   "metadata": {},
   "outputs": [
    {
     "data": {
      "text/plain": [
       "3×3 Matrix{Int64}:\n",
       "  1   2   3\n",
       "  8  10  12\n",
       " 21  24  27"
      ]
     },
     "metadata": {},
     "output_type": "display_data"
    }
   ],
   "source": [
    "A .* [1, 2, 3]"
   ]
  },
  {
   "cell_type": "code",
   "execution_count": 23,
   "metadata": {},
   "outputs": [
    {
     "data": {
      "text/plain": [
       "3×3 Matrix{Int64}:\n",
       "  1   4   9\n",
       " 16  25  36\n",
       " 49  64  81"
      ]
     },
     "metadata": {},
     "output_type": "display_data"
    }
   ],
   "source": [
    "A.^2"
   ]
  },
  {
   "cell_type": "code",
   "execution_count": 24,
   "metadata": {},
   "outputs": [
    {
     "data": {
      "text/plain": [
       "3×3 Matrix{Int64}:\n",
       " 1  2  3\n",
       " 2  4  6\n",
       " 3  6  9"
      ]
     },
     "metadata": {},
     "output_type": "display_data"
    }
   ],
   "source": [
    "[1 2 3] .* [\n",
    "             1\n",
    "             2\n",
    "             3 ]"
   ]
  },
  {
   "cell_type": "code",
   "execution_count": 25,
   "metadata": {},
   "outputs": [
    {
     "data": {
      "text/plain": [
       "3×3 Matrix{Float64}:\n",
       "  0.841471   0.909297   0.14112\n",
       " -0.756802  -0.958924  -0.279415\n",
       "  0.656987   0.989358   0.412118"
      ]
     },
     "metadata": {},
     "output_type": "display_data"
    }
   ],
   "source": [
    "sin.(A)"
   ]
  },
  {
   "cell_type": "code",
   "execution_count": 26,
   "metadata": {},
   "outputs": [
    {
     "data": {
      "text/plain": [
       "3×2 Matrix{String}:\n",
       " \"Aa\"  \"Ab\"\n",
       " \"Ba\"  \"Bb\"\n",
       " \"Ca\"  \"Cb\""
      ]
     },
     "metadata": {},
     "output_type": "display_data"
    }
   ],
   "source": [
    "strs = [\n",
    "    \"A\",\n",
    "    \"B\",\n",
    "    \"C\",\n",
    "]\n",
    "strs2 = [\"a\" \"b\"]\n",
    "strs .* strs2"
   ]
  },
  {
   "cell_type": "markdown",
   "metadata": {},
   "source": [
    "Ranges just store the start, step, and stop, but otherwise work just like any other Array:"
   ]
  },
  {
   "cell_type": "code",
   "execution_count": 27,
   "metadata": {},
   "outputs": [
    {
     "data": {
      "text/plain": [
       "1:5"
      ]
     },
     "metadata": {},
     "output_type": "display_data"
    }
   ],
   "source": [
    "1:5"
   ]
  },
  {
   "cell_type": "code",
   "execution_count": 28,
   "metadata": {},
   "outputs": [
    {
     "data": {
      "text/plain": [
       "8-element Vector{Int64}:\n",
       " 1\n",
       " 2\n",
       " 3\n",
       " 4\n",
       " 5\n",
       " 6\n",
       " 7\n",
       " 8"
      ]
     },
     "metadata": {},
     "output_type": "display_data"
    }
   ],
   "source": [
    "y = vcat(1:5, 6:8)"
   ]
  },
  {
   "cell_type": "code",
   "execution_count": 29,
   "metadata": {},
   "outputs": [
    {
     "name": "stdout",
     "output_type": "stream",
     "text": [
      "length(A) = 9\n",
      "size(A) = (3, 3)\n",
      "eachindex(A) = Base.OneTo(9)\n"
     ]
    }
   ],
   "source": [
    "@show length(A)\n",
    "@show size(A)\n",
    "@show eachindex(A);"
   ]
  },
  {
   "cell_type": "markdown",
   "metadata": {},
   "source": [
    "### Boolean Masks, Slicing"
   ]
  },
  {
   "cell_type": "code",
   "execution_count": 35,
   "metadata": {},
   "outputs": [
    {
     "data": {
      "text/plain": [
       "10-element BitVector:\n",
       " 0\n",
       " 0\n",
       " 0\n",
       " 1\n",
       " 0\n",
       " 1\n",
       " 0\n",
       " 1\n",
       " 1\n",
       " 1"
      ]
     },
     "metadata": {},
     "output_type": "display_data"
    }
   ],
   "source": [
    "a = randn(10)\n",
    "mask = -0.8 .< a .< 0.8"
   ]
  },
  {
   "cell_type": "code",
   "execution_count": 36,
   "metadata": {},
   "outputs": [
    {
     "data": {
      "text/plain": [
       "5-element Vector{Float64}:\n",
       " -0.6156713921600271\n",
       " -0.7578740036675421\n",
       "  0.5049952322965069\n",
       " -0.24989711078683527\n",
       " -0.34485944759162057"
      ]
     },
     "metadata": {},
     "output_type": "display_data"
    }
   ],
   "source": [
    "a[mask]"
   ]
  },
  {
   "cell_type": "code",
   "execution_count": 40,
   "metadata": {},
   "outputs": [
    {
     "name": "stdout",
     "output_type": "stream",
     "text": [
      "This is an if statement\n",
      "This way is fine too\n"
     ]
    }
   ],
   "source": [
    "if 2 ∈ (1,2,3,4)\n",
    "    println(\"This is an if statement\")\n",
    "end\n",
    "\n",
    "if 2 in (1,2,3,4)\n",
    "    println(\"This way is fine too\")\n",
    "end"
   ]
  },
  {
   "cell_type": "markdown",
   "metadata": {},
   "source": [
    "## Loops \n",
    "Loops are not bad! You can use for loops in your Julia programs as much as you want †, or you can use arrays if that makes more sense for a problem. You are free to choose!\n",
    "\n",
    "†: If they're inside functions\n"
   ]
  },
  {
   "cell_type": "code",
   "execution_count": 30,
   "metadata": {},
   "outputs": [
    {
     "name": "stdout",
     "output_type": "stream",
     "text": [
      "1\n",
      "4\n",
      "9\n",
      "16\n",
      "25\n",
      "36\n",
      "49\n",
      "64\n",
      "81\n",
      "100\n"
     ]
    }
   ],
   "source": [
    "for i in 1:10\n",
    "    println(i^2)\n",
    "end"
   ]
  },
  {
   "cell_type": "code",
   "execution_count": 17,
   "metadata": {},
   "outputs": [
    {
     "name": "stdout",
     "output_type": "stream",
     "text": [
      "A1 B1 C1 D1 E1 F1 G1 \n",
      "A2 B2 C2 D2 E2 F2 G2 \n",
      "A3 B3 C3 D3 E3 F3 G3 \n",
      "A4 B4 C4 D4 E4 F4 G4 \n",
      "A5 B5 C5 D5 E5 F5 G5 \n",
      "A6 B6 C6 D6 E6 F6 G6 \n",
      "A7 B7 C7 D7 E7 F7 G7 \n",
      "A8 B8 C8 D8 E8 F8 G8 \n",
      "A9 B9 C9 D9 E9 F9 G9 \n"
     ]
    }
   ],
   "source": [
    "for i in 1:9, j in 'A':'G'\n",
    "    print(j,i,\" \")\n",
    "    if j == 'G'\n",
    "        println()\n",
    "    end\n",
    "end"
   ]
  },
  {
   "cell_type": "markdown",
   "metadata": {},
   "source": [
    "## Symbolic Calculations\n",
    "You can combine your calculations with symbolic variables, a bit like SymPy or Mathematica"
   ]
  },
  {
   "cell_type": "code",
   "execution_count": 31,
   "metadata": {},
   "outputs": [
    {
     "data": {
      "text/latex": [
       "\\begin{equation}\n",
       "\\frac{\\left( e^{u} \\right)^{w}}{w}\n",
       "\\end{equation}\n"
      ],
      "text/plain": [
       "(exp(u)^w) / w"
      ]
     },
     "metadata": {},
     "output_type": "display_data"
    }
   ],
   "source": [
    "using Symbolics\n",
    "@variables u v w\n",
    "\n",
    "expr = exp(u)^w / w"
   ]
  },
  {
   "cell_type": "code",
   "execution_count": 32,
   "metadata": {},
   "outputs": [
    {
     "data": {
      "text/latex": [
       "\\begin{equation}\n",
       "\\frac{e^{u w}}{w}\n",
       "\\end{equation}\n"
      ],
      "text/plain": [
       "exp(u*w) / w"
      ]
     },
     "metadata": {},
     "output_type": "display_data"
    }
   ],
   "source": [
    "simplify(expr)"
   ]
  },
  {
   "cell_type": "markdown",
   "metadata": {},
   "source": [
    "## Automatic Differentiation\n",
    "\n",
    "Most Julia code can be differentiated just like any other mathematical expression using an autodiff library. Here, we'll use ForwardDiff.jl.\n",
    "\n",
    "This is a super power: if you have a forward modelling code and you want to compare it to data, you can get not just the $\\chi^2$ but also the gradient of that $\\chi^2$ with respect to all your model parameters. This can make your modelling code even more efficient!\n"
   ]
  },
  {
   "cell_type": "code",
   "execution_count": 33,
   "metadata": {},
   "outputs": [
    {
     "data": {
      "text/plain": [
       "0.6082812951104912"
      ]
     },
     "metadata": {},
     "output_type": "display_data"
    }
   ],
   "source": [
    "using ForwardDiff\n",
    "\n",
    "model(x, μ, A, σ) = A * exp(-(x-μ)^2/σ)\n",
    "\n",
    "xdat = 0:0.5:3\n",
    "dat = sin.(xdat)\n",
    "\n",
    "meansquare(d1, d2) = sqrt(mean((d1 .- d2).^2))\n",
    "\n",
    "fit((μ, A, σ)) = meansquare(model.(xdat, μ, A, σ), dat)\n",
    "\n",
    "fit((1, 0.1, 2))\n"
   ]
  },
  {
   "cell_type": "code",
   "execution_count": 34,
   "metadata": {},
   "outputs": [
    {
     "data": {
      "text/plain": [
       "3-element Vector{Float64}:\n",
       " -0.025605665549015857\n",
       " -0.6031166374068061\n",
       " -0.00732369724687677"
      ]
     },
     "metadata": {},
     "output_type": "display_data"
    }
   ],
   "source": [
    "ForwardDiff.gradient(fit, [1, 0.1, 2])"
   ]
  },
  {
   "cell_type": "markdown",
   "metadata": {},
   "source": [
    "All second order partial derviatives (the Hessian matrix):"
   ]
  },
  {
   "cell_type": "code",
   "execution_count": 35,
   "metadata": {},
   "outputs": [
    {
     "data": {
      "text/plain": [
       "3×3 Matrix{Float64}:\n",
       "  0.0333105   -0.276872    0.00476344\n",
       " -0.276872     0.204517   -0.0720698\n",
       "  0.00476344  -0.0720698   0.00490133"
      ]
     },
     "metadata": {},
     "output_type": "display_data"
    }
   ],
   "source": [
    "ForwardDiff.hessian(fit, [1, 0.1, 2])"
   ]
  },
  {
   "cell_type": "markdown",
   "metadata": {},
   "source": [
    "## Uncertainty"
   ]
  },
  {
   "cell_type": "code",
   "execution_count": 36,
   "metadata": {},
   "outputs": [
    {
     "data": {
      "text/latex": [
       "$8.0 \\pm 5.7$"
      ],
      "text/plain": [
       "8.0 ± 5.7"
      ]
     },
     "metadata": {},
     "output_type": "display_data"
    }
   ],
   "source": [
    "using Measurements\n",
    "a = 2 ± 1\n",
    "b = 4 ± 2\n",
    "\n",
    "a * b"
   ]
  },
  {
   "cell_type": "markdown",
   "metadata": {},
   "source": [
    "## Data\n",
    "Julia has great libraries for working with tabular data. You can easily load:\n",
    " * CSV\n",
    " * Numpy .npz\n",
    " * Excel\n",
    " * R data\n",
    " * MATLAB .mat\n",
    " * SQL\n",
    " * Arrow\n",
    " \n",
    "And so many more..."
   ]
  },
  {
   "cell_type": "code",
   "execution_count": 4,
   "metadata": {},
   "outputs": [
    {
     "data": {
      "text/html": [
       "<div class=\"data-frame\"><p>10 rows × 2 columns</p><table class=\"data-frame\"><thead><tr><th></th><th>A</th><th>B</th></tr><tr><th></th><th title=\"Int64\">Int64</th><th title=\"Int64\">Int64</th></tr></thead><tbody><tr><th>1</th><td>1</td><td>11</td></tr><tr><th>2</th><td>2</td><td>12</td></tr><tr><th>3</th><td>3</td><td>13</td></tr><tr><th>4</th><td>4</td><td>14</td></tr><tr><th>5</th><td>5</td><td>15</td></tr><tr><th>6</th><td>6</td><td>16</td></tr><tr><th>7</th><td>7</td><td>17</td></tr><tr><th>8</th><td>8</td><td>18</td></tr><tr><th>9</th><td>9</td><td>19</td></tr><tr><th>10</th><td>10</td><td>20</td></tr></tbody></table></div>"
      ],
      "text/latex": [
       "\\begin{tabular}{r|cc}\n",
       "\t& A & B\\\\\n",
       "\t\\hline\n",
       "\t& Int64 & Int64\\\\\n",
       "\t\\hline\n",
       "\t1 & 1 & 11 \\\\\n",
       "\t2 & 2 & 12 \\\\\n",
       "\t3 & 3 & 13 \\\\\n",
       "\t4 & 4 & 14 \\\\\n",
       "\t5 & 5 & 15 \\\\\n",
       "\t6 & 6 & 16 \\\\\n",
       "\t7 & 7 & 17 \\\\\n",
       "\t8 & 8 & 18 \\\\\n",
       "\t9 & 9 & 19 \\\\\n",
       "\t10 & 10 & 20 \\\\\n",
       "\\end{tabular}\n"
      ],
      "text/plain": [
       "\u001b[1m10×2 DataFrame\u001b[0m\n",
       "\u001b[1m Row \u001b[0m│\u001b[1m A     \u001b[0m\u001b[1m B     \u001b[0m\n",
       "\u001b[1m     \u001b[0m│\u001b[90m Int64 \u001b[0m\u001b[90m Int64 \u001b[0m\n",
       "─────┼──────────────\n",
       "   1 │     1     11\n",
       "   2 │     2     12\n",
       "   3 │     3     13\n",
       "   4 │     4     14\n",
       "   5 │     5     15\n",
       "   6 │     6     16\n",
       "   7 │     7     17\n",
       "   8 │     8     18\n",
       "   9 │     9     19\n",
       "  10 │    10     20"
      ]
     },
     "metadata": {},
     "output_type": "display_data"
    }
   ],
   "source": [
    "using DataFrames\n",
    "\n",
    "df = DataFrame(\n",
    "    \"A\" =>  1:10,\n",
    "    \"B\" => 11:20\n",
    ")"
   ]
  },
  {
   "cell_type": "markdown",
   "metadata": {},
   "source": [
    "Let's load the Hipparcos-Gaia Catalog of Accelerations by Tim Brandt (2021) as a CSV file:"
   ]
  },
  {
   "cell_type": "code",
   "execution_count": 5,
   "metadata": {},
   "outputs": [
    {
     "data": {
      "text/html": [
       "<div class=\"data-frame\"><p>115,346 rows × 35 columns</p><table class=\"data-frame\"><thead><tr><th></th><th>hip_id</th><th>gaia_source_id</th><th>gaia_ra</th><th>gaia_dec</th><th>radial_velocity</th><th>radial_velocity_error</th><th>radial_velocity_source</th><th>parallax_gaia</th><th>parallax_gaia_error</th><th>pmra_gaia</th><th>pmdec_gaia</th><th>pmra_gaia_error</th><th>pmdec_gaia_error</th><th>pmra_pmdec_gaia</th><th>pmra_hg</th><th>pmdec_hg</th><th>pmra_hg_error</th><th>pmdec_hg_error</th><th>pmra_pmdec_hg</th><th>pmra_hip</th><th>pmdec_hip</th><th>pmra_hip_error</th><th>pmdec_hip_error</th><th>pmra_pmdec_hip</th><th>epoch_ra_gaia</th><th>epoch_dec_gaia</th><th>epoch_ra_hip</th><th>epoch_dec_hip</th><th>crosscal_pmra_hip</th><th>crosscal_pmdec_hip</th><th>crosscal_pmra_hg</th><th>crosscal_pmdec_hg</th><th>nonlinear_dpmra</th><th>nonlinear_dpmdec</th><th>chisq</th></tr><tr><th></th><th title=\"Int64\">Int64</th><th title=\"Int64\">Int64</th><th title=\"Float64\">Float64</th><th title=\"Float64\">Float64</th><th title=\"Union{Missing, Float64}\">Float64?</th><th title=\"Union{Missing, Float64}\">Float64?</th><th title=\"String15\">String15</th><th title=\"Float64\">Float64</th><th title=\"Float64\">Float64</th><th title=\"Float64\">Float64</th><th title=\"Float64\">Float64</th><th title=\"Float64\">Float64</th><th title=\"Float64\">Float64</th><th title=\"Float64\">Float64</th><th title=\"Float64\">Float64</th><th title=\"Float64\">Float64</th><th title=\"Float64\">Float64</th><th title=\"Float64\">Float64</th><th title=\"Float64\">Float64</th><th title=\"Float64\">Float64</th><th title=\"Float64\">Float64</th><th title=\"Float64\">Float64</th><th title=\"Float64\">Float64</th><th title=\"Float64\">Float64</th><th title=\"Float64\">Float64</th><th title=\"Float64\">Float64</th><th title=\"Float64\">Float64</th><th title=\"Float64\">Float64</th><th title=\"Float64\">Float64</th><th title=\"Float64\">Float64</th><th title=\"Float64\">Float64</th><th title=\"Float64\">Float64</th><th title=\"Float64\">Float64</th><th title=\"Float64\">Float64</th><th title=\"Float64\">Float64</th></tr></thead><tbody><tr><th>1</th><td>1</td><td>2738327528519591936</td><td>0.000871957</td><td>1.08898</td><td>8.26094</td><td>0.264233</td><td>Gaia_DR2</td><td>5.4151</td><td>0.0331369</td><td>-0.360141</td><td>-5.05262</td><td>0.0790698</td><td>0.0295514</td><td>0.112322</td><td>-5.83165</td><td>-5.09297</td><td>0.0508516</td><td>0.0285352</td><td>0.370446</td><td>-4.87324</td><td>-1.01569</td><td>1.30626</td><td>0.798923</td><td>0.350112</td><td>2015.93</td><td>2015.53</td><td>1991.55</td><td>1991.28</td><td>-0.0284562</td><td>0.466251</td><td>-0.00134159</td><td>-0.00372788</td><td>4.26126e-7</td><td>5.66852e-6</td><td>3515.52</td></tr><tr><th>2</th><td>2</td><td>2341871673090078592</td><td>0.00511158</td><td>-19.4988</td><td><em>missing</em></td><td><em>missing</em></td><td>None</td><td>26.7979</td><td>0.506636</td><td>179.805</td><td>-1.04101</td><td>0.783449</td><td>0.57891</td><td>0.0693343</td><td>181.51</td><td>-0.440148</td><td>0.0482116</td><td>0.0287168</td><td>0.124236</td><td>183.278</td><td>-1.27354</td><td>1.40956</td><td>0.783624</td><td>0.143072</td><td>2015.82</td><td>2015.51</td><td>1991.48</td><td>1991.42</td><td>-0.384869</td><td>0.0401743</td><td>-0.0116708</td><td>0.00813583</td><td>7.97636e-6</td><td>0.000668439</td><td>5.51048</td></tr><tr><th>3</th><td>3</td><td>2881742980523997824</td><td>0.00506023</td><td>38.8593</td><td>0.0</td><td>4.2</td><td>Gaia_DR2</td><td>2.99269</td><td>0.0427549</td><td>5.76132</td><td>-2.40556</td><td>0.0375025</td><td>0.0315063</td><td>0.187129</td><td>5.76201</td><td>-2.47363</td><td>0.0143335</td><td>0.0116901</td><td>0.0793275</td><td>4.6529</td><td>-2.96515</td><td>0.488108</td><td>0.414301</td><td>0.174885</td><td>2016.61</td><td>2016.14</td><td>1990.85</td><td>1991.05</td><td>0.0157797</td><td>0.245494</td><td>0.00264757</td><td>-0.000475211</td><td>-7.44679e-7</td><td>-1.75141e-6</td><td>4.24397</td></tr><tr><th>4</th><td>4</td><td>4973386040722654336</td><td>0.00907157</td><td>-51.8935</td><td><em>missing</em></td><td><em>missing</em></td><td>None</td><td>7.31314</td><td>0.0213819</td><td>61.9649</td><td>1.30216</td><td>0.0185844</td><td>0.0254567</td><td>-0.334147</td><td>61.9723</td><td>1.30706</td><td>0.0174344</td><td>0.0209368</td><td>-0.324121</td><td>62.849</td><td>0.552826</td><td>0.600688</td><td>0.572225</td><td>-0.160557</td><td>2015.97</td><td>2016.02</td><td>1991.01</td><td>1991.18</td><td>0.141746</td><td>0.317793</td><td>-0.0229892</td><td>0.0140929</td><td>-5.84233e-6</td><td>0.000294803</td><td>0.153008</td></tr><tr><th>5</th><td>5</td><td>2305974989264598272</td><td>0.00997423</td><td>-40.5912</td><td>20.1973</td><td>0.174826</td><td>Gaia_DR2</td><td>2.60551</td><td>0.0220667</td><td>1.02164</td><td>8.73266</td><td>0.0284247</td><td>0.0259288</td><td>0.0296427</td><td>0.986495</td><td>8.74377</td><td>0.0219728</td><td>0.0215064</td><td>0.0697696</td><td>1.86614</td><td>8.63798</td><td>0.634796</td><td>0.700016</td><td>0.089169</td><td>2016.38</td><td>2015.88</td><td>1991.1</td><td>1991.48</td><td>-0.154247</td><td>0.0743634</td><td>-0.0149238</td><td>-0.0119545</td><td>-1.91705e-6</td><td>-1.20387e-5</td><td>1.09704</td></tr><tr><th>6</th><td>6</td><td>2740326852975975040</td><td>0.019676</td><td>3.94641</td><td>-1.41318</td><td>0.549218</td><td>Gaia_DR2</td><td>15.3938</td><td>0.0294875</td><td>223.197</td><td>-11.4984</td><td>0.0397578</td><td>0.0259851</td><td>0.226979</td><td>223.167</td><td>-11.5861</td><td>0.173997</td><td>0.0960696</td><td>0.369584</td><td>224.047</td><td>-14.0697</td><td>5.77342</td><td>3.18512</td><td>0.254783</td><td>2015.95</td><td>2015.43</td><td>1991.34</td><td>1991.26</td><td>-0.0202837</td><td>0.292651</td><td>0.00315663</td><td>-0.0148663</td><td>0.000119214</td><td>-0.000207324</td><td>0.803724</td></tr><tr><th>7</th><td>7</td><td>2846308881856186240</td><td>0.0210282</td><td>20.0353</td><td>5.34501</td><td>0.218706</td><td>Gaia_DR2</td><td>17.4912</td><td>0.0242287</td><td>-206.509</td><td>-196.098</td><td>0.0389593</td><td>0.0172017</td><td>-0.0983088</td><td>-211.04</td><td>-197.017</td><td>0.0392897</td><td>0.0308591</td><td>0.326317</td><td>-207.907</td><td>-200.985</td><td>1.09466</td><td>0.776415</td><td>0.410332</td><td>2015.62</td><td>2015.34</td><td>1991.29</td><td>1991.23</td><td>0.0845642</td><td>0.211941</td><td>0.0380017</td><td>-0.00486428</td><td>0.00135701</td><td>-0.000442318</td><td>6859.68</td></tr><tr><th>8</th><td>8</td><td>2853169937491828608</td><td>0.0274359</td><td>25.8864</td><td>-31.0</td><td>4.6</td><td>Gaia_DR2</td><td>1.52042</td><td>0.0595536</td><td>18.7456</td><td>-6.4717</td><td>0.0940196</td><td>0.0485898</td><td>-0.22311</td><td>18.7125</td><td>-6.63527</td><td>0.0479436</td><td>0.031393</td><td>0.024752</td><td>19.0393</td><td>-6.35167</td><td>1.32206</td><td>0.769785</td><td>0.0495995</td><td>2016.07</td><td>2015.82</td><td>1991.57</td><td>1991.45</td><td>-0.0637585</td><td>0.18816</td><td>0.00796219</td><td>-0.0252843</td><td>1.70947e-5</td><td>-1.74072e-5</td><td>8.60121</td></tr><tr><th>9</th><td>9</td><td>2880160886370458368</td><td>0.0352903</td><td>36.586</td><td>14.8068</td><td>0.164856</td><td>Gaia_DR2</td><td>3.10007</td><td>0.0237009</td><td>-6.0707</td><td>9.29572</td><td>0.0278574</td><td>0.0208069</td><td>-0.145737</td><td>-6.0434</td><td>9.24368</td><td>0.0343399</td><td>0.0213056</td><td>0.0116024</td><td>-6.82103</td><td>8.71982</td><td>1.04833</td><td>0.639637</td><td>0.114597</td><td>2015.94</td><td>2015.85</td><td>1991.26</td><td>1991.2</td><td>-0.16195</td><td>0.252334</td><td>-0.000240517</td><td>-0.00891998</td><td>5.08093e-6</td><td>-1.27994e-5</td><td>3.32158</td></tr><tr><th>10</th><td>10</td><td>4976500987226833024</td><td>0.0367144</td><td>-50.8668</td><td>6.87476</td><td>0.254449</td><td>Gaia_DR2</td><td>10.7024</td><td>0.0169056</td><td>42.2977</td><td>40.8413</td><td>0.0141411</td><td>0.0176819</td><td>-0.383674</td><td>42.3214</td><td>40.8331</td><td>0.0278107</td><td>0.0277678</td><td>-0.106187</td><td>42.0888</td><td>40.8119</td><td>0.956899</td><td>0.800817</td><td>-0.112176</td><td>2016.01</td><td>2016.1</td><td>1991.23</td><td>1991.41</td><td>0.123592</td><td>0.294097</td><td>-0.022155</td><td>0.0128772</td><td>-0.000207201</td><td>5.64702e-5</td><td>0.591973</td></tr><tr><th>11</th><td>11</td><td>387133547311154432</td><td>0.0374092</td><td>46.94</td><td>-25.8</td><td>2.4</td><td>Gaia_DR2</td><td>3.36452</td><td>0.0268172</td><td>11.0083</td><td>-2.082</td><td>0.0326335</td><td>0.0273654</td><td>-0.21321</td><td>11.0142</td><td>-2.07956</td><td>0.016754</td><td>0.0157677</td><td>0.0210613</td><td>11.2691</td><td>-2.1979</td><td>0.506516</td><td>0.4804</td><td>0.0734274</td><td>2016.4</td><td>2016.2</td><td>1991.52</td><td>1991.09</td><td>-0.0868663</td><td>0.0511392</td><td>0.0228702</td><td>0.000603914</td><td>2.26762e-5</td><td>-1.23497e-5</td><td>0.0368504</td></tr><tr><th>12</th><td>12</td><td>2308086876223750656</td><td>0.04087</td><td>-35.9602</td><td>10.1362</td><td>0.134452</td><td>Gaia_DR2</td><td>1.81416</td><td>0.0232858</td><td>-5.51573</td><td>1.42609</td><td>0.0291708</td><td>0.0259484</td><td>0.152782</td><td>-5.51266</td><td>1.40374</td><td>0.0272265</td><td>0.0195145</td><td>0.163628</td><td>-5.64527</td><td>0.852811</td><td>0.95405</td><td>0.677185</td><td>-0.0177845</td><td>2016.25</td><td>2015.84</td><td>1991.48</td><td>1991.57</td><td>-0.0173786</td><td>0.189308</td><td>-0.00465779</td><td>-0.0137799</td><td>3.23643e-6</td><td>6.80705e-7</td><td>0.509099</td></tr><tr><th>13</th><td>13</td><td>2340148424835415552</td><td>0.0417235</td><td>-22.5948</td><td>-5.06405</td><td>0.207851</td><td>Gaia_DR2</td><td>2.40826</td><td>0.0242384</td><td>5.84037</td><td>-10.4928</td><td>0.0297532</td><td>0.0227318</td><td>0.00768895</td><td>5.9241</td><td>-10.5061</td><td>0.044332</td><td>0.0232598</td><td>0.118514</td><td>8.13338</td><td>-10.2553</td><td>1.35205</td><td>0.588592</td><td>-0.06876</td><td>2015.79</td><td>2015.64</td><td>1991.23</td><td>1991.71</td><td>-0.126723</td><td>-0.254947</td><td>-0.0118089</td><td>0.00684431</td><td>3.18545e-6</td><td>-1.10684e-6</td><td>2.73482</td></tr><tr><th>14</th><td>14</td><td>2449930576356314880</td><td>0.048686</td><td>-0.360491</td><td>23.3791</td><td>0.145668</td><td>Gaia_DR2</td><td>5.99658</td><td>0.0285304</td><td>58.7259</td><td>-10.2108</td><td>0.0397594</td><td>0.0256794</td><td>0.285918</td><td>60.0203</td><td>-10.3385</td><td>0.0278295</td><td>0.0181339</td><td>0.385968</td><td>61.3781</td><td>-10.747</td><td>0.947702</td><td>0.509461</td><td>0.380684</td><td>2016.08</td><td>2015.57</td><td>1991.12</td><td>1991.52</td><td>-0.277935</td><td>0.234126</td><td>-0.00747984</td><td>-0.0127149</td><td>-0.000212762</td><td>3.71032e-5</td><td>887.278</td></tr><tr><th>15</th><td>15</td><td>394029134492039424</td><td>0.0504513</td><td>50.7912</td><td>-11.476</td><td>0.163328</td><td>Gaia_DR2</td><td>2.52516</td><td>0.0221605</td><td>12.9662</td><td>5.31179</td><td>0.0223995</td><td>0.0220788</td><td>-0.486398</td><td>12.9632</td><td>5.28531</td><td>0.024676</td><td>0.0264949</td><td>-0.282234</td><td>13.9811</td><td>5.36115</td><td>0.825702</td><td>0.705646</td><td>-0.15681</td><td>2016.28</td><td>2016.02</td><td>1991.06</td><td>1991.34</td><td>-0.263018</td><td>0.0617074</td><td>0.0150067</td><td>0.0100821</td><td>1.44041e-5</td><td>-8.59946e-6</td><td>0.752397</td></tr><tr><th>16</th><td>16</td><td>4923847578691749120</td><td>0.0545309</td><td>-54.9148</td><td>141.018</td><td>9.91086</td><td>Gaia_DR2</td><td>3.26452</td><td>0.0153434</td><td>259.645</td><td>-97.3024</td><td>0.0174655</td><td>0.0198922</td><td>-0.33286</td><td>259.343</td><td>-97.4601</td><td>0.0580471</td><td>0.0647759</td><td>-0.268103</td><td>256.919</td><td>-96.5286</td><td>1.77986</td><td>1.91299</td><td>-0.216251</td><td>2016.16</td><td>2016.08</td><td>1991.25</td><td>1991.35</td><td>0.0712244</td><td>0.183766</td><td>-0.0202828</td><td>0.0183574</td><td>-0.0008893</td><td>0.00688488</td><td>39.5812</td></tr><tr><th>17</th><td>17</td><td>2306077724882156928</td><td>0.0507873</td><td>-40.1925</td><td>23.1748</td><td>0.264159</td><td>Gaia_DR2</td><td>6.7015</td><td>0.0231991</td><td>-34.6067</td><td>-27.7644</td><td>0.0253813</td><td>0.0281139</td><td>0.260804</td><td>-34.5517</td><td>-27.7152</td><td>0.018042</td><td>0.0182502</td><td>0.160258</td><td>-34.3712</td><td>-27.4086</td><td>0.572192</td><td>0.599195</td><td>0.115447</td><td>2016.12</td><td>2015.77</td><td>1990.99</td><td>1991.56</td><td>-0.141363</td><td>0.0618338</td><td>-0.0229612</td><td>-0.00588234</td><td>8.81535e-5</td><td>0.000165326</td><td>4.31937</td></tr><tr><th>18</th><td>18</td><td>2447815287783063040</td><td>0.0523189</td><td>-4.05358</td><td>25.3224</td><td>0.207385</td><td>Gaia_DR2</td><td>22.783</td><td>0.0205572</td><td>-119.288</td><td>24.1219</td><td>0.0292018</td><td>0.0224424</td><td>0.381239</td><td>-119.259</td><td>24.1156</td><td>0.0812895</td><td>0.0431474</td><td>0.293921</td><td>-126.651</td><td>23.8475</td><td>2.53835</td><td>1.07337</td><td>0.231296</td><td>2015.96</td><td>2015.47</td><td>1991.32</td><td>1991.52</td><td>-0.279616</td><td>0.102532</td><td>-0.00801173</td><td>-0.00683185</td><td>0.00174169</td><td>-0.000281594</td><td>0.168421</td></tr><tr><th>19</th><td>19</td><td>2880594231390895104</td><td>0.0533021</td><td>38.304</td><td>4.66807</td><td>0.210313</td><td>Gaia_DR2</td><td>4.45583</td><td>0.0248618</td><td>-0.436077</td><td>-13.1146</td><td>0.0361896</td><td>0.0229396</td><td>-0.0533754</td><td>-1.72168</td><td>-14.3445</td><td>0.0142733</td><td>0.0116344</td><td>0.191555</td><td>-3.03865</td><td>-14.9743</td><td>0.497219</td><td>0.397065</td><td>0.202993</td><td>2016.02</td><td>2015.9</td><td>1990.8</td><td>1991.05</td><td>0.0369113</td><td>0.262449</td><td>-0.00653187</td><td>-0.00870252</td><td>5.23405e-7</td><td>7.61731e-6</td><td>3418.64</td></tr><tr><th>20</th><td>20</td><td>2848390257367536384</td><td>0.0632224</td><td>23.5291</td><td>38.1311</td><td>0.256109</td><td>Gaia_DR2</td><td>10.0663</td><td>0.0233568</td><td>36.1715</td><td>-22.9948</td><td>0.0272454</td><td>0.0160736</td><td>0.0476761</td><td>36.1555</td><td>-22.9989</td><td>0.0280166</td><td>0.0208596</td><td>0.286134</td><td>36.1857</td><td>-22.5395</td><td>0.834987</td><td>0.552985</td><td>0.322133</td><td>2016.08</td><td>2015.54</td><td>1991.18</td><td>1991.31</td><td>0.0837855</td><td>0.137856</td><td>0.0207979</td><td>-0.00275178</td><td>-0.000377171</td><td>0.00018578</td><td>0.175047</td></tr><tr><th>21</th><td>21</td><td>2746745664420425344</td><td>0.0666619</td><td>8.00723</td><td>-11.1698</td><td>0.141782</td><td>Gaia_DR2</td><td>3.50949</td><td>0.0271031</td><td>61.2931</td><td>-0.0496944</td><td>0.039163</td><td>0.0201717</td><td>0.0242376</td><td>61.2989</td><td>0.00253896</td><td>0.0319071</td><td>0.0192081</td><td>0.250918</td><td>61.2529</td><td>-0.408121</td><td>0.820766</td><td>0.538217</td><td>0.320017</td><td>2016.04</td><td>2015.44</td><td>1991.4</td><td>1991.4</td><td>-0.0580663</td><td>0.164047</td><td>-3.76563e-5</td><td>-0.0188139</td><td>6.30638e-5</td><td>-3.08472e-5</td><td>3.5301</td></tr><tr><th>22</th><td>22</td><td>4977625894998735872</td><td>0.0700604</td><td>-49.3523</td><td>12.1734</td><td>0.139288</td><td>Gaia_DR2</td><td>4.85239</td><td>0.018052</td><td>-7.24137</td><td>1.78317</td><td>0.0133142</td><td>0.0186771</td><td>-0.357371</td><td>-7.18595</td><td>1.71886</td><td>0.024369</td><td>0.0289978</td><td>-0.116995</td><td>-7.72326</td><td>1.04306</td><td>0.823061</td><td>0.88149</td><td>0.0867645</td><td>2015.89</td><td>2016.12</td><td>1991.26</td><td>1991.47</td><td>0.0657306</td><td>0.199551</td><td>-0.0161278</td><td>0.00623403</td><td>1.18059e-5</td><td>1.02889e-6</td><td>6.32961</td></tr><tr><th>23</th><td>23</td><td>2767134252131256448</td><td>0.0748051</td><td>13.3123</td><td>-14.0636</td><td>0.237769</td><td>Gaia_DR2</td><td>10.7299</td><td>0.0251147</td><td>53.4187</td><td>9.41552</td><td>0.0325107</td><td>0.0217033</td><td>0.103266</td><td>53.3921</td><td>9.4272</td><td>0.029286</td><td>0.0175408</td><td>0.239479</td><td>53.3292</td><td>9.29362</td><td>0.798642</td><td>0.494867</td><td>0.344862</td><td>2015.9</td><td>2015.67</td><td>1991.44</td><td>1991.37</td><td>-0.0211628</td><td>0.26827</td><td>0.00976176</td><td>-0.00493907</td><td>0.000209259</td><td>-4.41991e-6</td><td>0.644515</td></tr><tr><th>24</th><td>24</td><td>2339755869120492800</td><td>0.0770083</td><td>-23.4526</td><td>37.2772</td><td>0.293808</td><td>Gaia_DR2</td><td>10.9015</td><td>0.015375</td><td>127.976</td><td>21.2221</td><td>0.0204681</td><td>0.0164648</td><td>0.122298</td><td>127.981</td><td>21.2634</td><td>0.0359978</td><td>0.0211045</td><td>0.093637</td><td>127.206</td><td>21.6277</td><td>1.07173</td><td>0.541749</td><td>-0.0876179</td><td>2015.98</td><td>2015.54</td><td>1991.4</td><td>1991.73</td><td>0.00283276</td><td>-0.450541</td><td>-0.0143743</td><td>0.00858955</td><td>-0.00137997</td><td>0.000200474</td><td>2.37307</td></tr><tr><th>&vellip;</th><td>&vellip;</td><td>&vellip;</td><td>&vellip;</td><td>&vellip;</td><td>&vellip;</td><td>&vellip;</td><td>&vellip;</td><td>&vellip;</td><td>&vellip;</td><td>&vellip;</td><td>&vellip;</td><td>&vellip;</td><td>&vellip;</td><td>&vellip;</td><td>&vellip;</td><td>&vellip;</td><td>&vellip;</td><td>&vellip;</td><td>&vellip;</td><td>&vellip;</td><td>&vellip;</td><td>&vellip;</td><td>&vellip;</td><td>&vellip;</td><td>&vellip;</td><td>&vellip;</td><td>&vellip;</td><td>&vellip;</td><td>&vellip;</td><td>&vellip;</td><td>&vellip;</td><td>&vellip;</td><td>&vellip;</td><td>&vellip;</td><td>&vellip;</td></tr></tbody></table></div>"
      ],
      "text/latex": [
       "\\begin{tabular}{r|ccccccccccccccccccccccccccccccccccc}\n",
       "\t& hip\\_id & gaia\\_source\\_id & gaia\\_ra & gaia\\_dec & radial\\_velocity & radial\\_velocity\\_error & radial\\_velocity\\_source & parallax\\_gaia & parallax\\_gaia\\_error & pmra\\_gaia & pmdec\\_gaia & pmra\\_gaia\\_error & pmdec\\_gaia\\_error & pmra\\_pmdec\\_gaia & pmra\\_hg & pmdec\\_hg & pmra\\_hg\\_error & pmdec\\_hg\\_error & pmra\\_pmdec\\_hg & pmra\\_hip & pmdec\\_hip & pmra\\_hip\\_error & pmdec\\_hip\\_error & pmra\\_pmdec\\_hip & epoch\\_ra\\_gaia & epoch\\_dec\\_gaia & epoch\\_ra\\_hip & epoch\\_dec\\_hip & crosscal\\_pmra\\_hip & crosscal\\_pmdec\\_hip & crosscal\\_pmra\\_hg & crosscal\\_pmdec\\_hg & nonlinear\\_dpmra & nonlinear\\_dpmdec & chisq\\\\\n",
       "\t\\hline\n",
       "\t& Int64 & Int64 & Float64 & Float64 & Float64? & Float64? & String15 & Float64 & Float64 & Float64 & Float64 & Float64 & Float64 & Float64 & Float64 & Float64 & Float64 & Float64 & Float64 & Float64 & Float64 & Float64 & Float64 & Float64 & Float64 & Float64 & Float64 & Float64 & Float64 & Float64 & Float64 & Float64 & Float64 & Float64 & Float64\\\\\n",
       "\t\\hline\n",
       "\t1 & 1 & 2738327528519591936 & 0.000871957 & 1.08898 & 8.26094 & 0.264233 & Gaia\\_DR2 & 5.4151 & 0.0331369 & -0.360141 & -5.05262 & 0.0790698 & 0.0295514 & 0.112322 & -5.83165 & -5.09297 & 0.0508516 & 0.0285352 & 0.370446 & -4.87324 & -1.01569 & 1.30626 & 0.798923 & 0.350112 & 2015.93 & 2015.53 & 1991.55 & 1991.28 & -0.0284562 & 0.466251 & -0.00134159 & -0.00372788 & 4.26126e-7 & 5.66852e-6 & 3515.52 \\\\\n",
       "\t2 & 2 & 2341871673090078592 & 0.00511158 & -19.4988 & \\emph{missing} & \\emph{missing} & None & 26.7979 & 0.506636 & 179.805 & -1.04101 & 0.783449 & 0.57891 & 0.0693343 & 181.51 & -0.440148 & 0.0482116 & 0.0287168 & 0.124236 & 183.278 & -1.27354 & 1.40956 & 0.783624 & 0.143072 & 2015.82 & 2015.51 & 1991.48 & 1991.42 & -0.384869 & 0.0401743 & -0.0116708 & 0.00813583 & 7.97636e-6 & 0.000668439 & 5.51048 \\\\\n",
       "\t3 & 3 & 2881742980523997824 & 0.00506023 & 38.8593 & 0.0 & 4.2 & Gaia\\_DR2 & 2.99269 & 0.0427549 & 5.76132 & -2.40556 & 0.0375025 & 0.0315063 & 0.187129 & 5.76201 & -2.47363 & 0.0143335 & 0.0116901 & 0.0793275 & 4.6529 & -2.96515 & 0.488108 & 0.414301 & 0.174885 & 2016.61 & 2016.14 & 1990.85 & 1991.05 & 0.0157797 & 0.245494 & 0.00264757 & -0.000475211 & -7.44679e-7 & -1.75141e-6 & 4.24397 \\\\\n",
       "\t4 & 4 & 4973386040722654336 & 0.00907157 & -51.8935 & \\emph{missing} & \\emph{missing} & None & 7.31314 & 0.0213819 & 61.9649 & 1.30216 & 0.0185844 & 0.0254567 & -0.334147 & 61.9723 & 1.30706 & 0.0174344 & 0.0209368 & -0.324121 & 62.849 & 0.552826 & 0.600688 & 0.572225 & -0.160557 & 2015.97 & 2016.02 & 1991.01 & 1991.18 & 0.141746 & 0.317793 & -0.0229892 & 0.0140929 & -5.84233e-6 & 0.000294803 & 0.153008 \\\\\n",
       "\t5 & 5 & 2305974989264598272 & 0.00997423 & -40.5912 & 20.1973 & 0.174826 & Gaia\\_DR2 & 2.60551 & 0.0220667 & 1.02164 & 8.73266 & 0.0284247 & 0.0259288 & 0.0296427 & 0.986495 & 8.74377 & 0.0219728 & 0.0215064 & 0.0697696 & 1.86614 & 8.63798 & 0.634796 & 0.700016 & 0.089169 & 2016.38 & 2015.88 & 1991.1 & 1991.48 & -0.154247 & 0.0743634 & -0.0149238 & -0.0119545 & -1.91705e-6 & -1.20387e-5 & 1.09704 \\\\\n",
       "\t6 & 6 & 2740326852975975040 & 0.019676 & 3.94641 & -1.41318 & 0.549218 & Gaia\\_DR2 & 15.3938 & 0.0294875 & 223.197 & -11.4984 & 0.0397578 & 0.0259851 & 0.226979 & 223.167 & -11.5861 & 0.173997 & 0.0960696 & 0.369584 & 224.047 & -14.0697 & 5.77342 & 3.18512 & 0.254783 & 2015.95 & 2015.43 & 1991.34 & 1991.26 & -0.0202837 & 0.292651 & 0.00315663 & -0.0148663 & 0.000119214 & -0.000207324 & 0.803724 \\\\\n",
       "\t7 & 7 & 2846308881856186240 & 0.0210282 & 20.0353 & 5.34501 & 0.218706 & Gaia\\_DR2 & 17.4912 & 0.0242287 & -206.509 & -196.098 & 0.0389593 & 0.0172017 & -0.0983088 & -211.04 & -197.017 & 0.0392897 & 0.0308591 & 0.326317 & -207.907 & -200.985 & 1.09466 & 0.776415 & 0.410332 & 2015.62 & 2015.34 & 1991.29 & 1991.23 & 0.0845642 & 0.211941 & 0.0380017 & -0.00486428 & 0.00135701 & -0.000442318 & 6859.68 \\\\\n",
       "\t8 & 8 & 2853169937491828608 & 0.0274359 & 25.8864 & -31.0 & 4.6 & Gaia\\_DR2 & 1.52042 & 0.0595536 & 18.7456 & -6.4717 & 0.0940196 & 0.0485898 & -0.22311 & 18.7125 & -6.63527 & 0.0479436 & 0.031393 & 0.024752 & 19.0393 & -6.35167 & 1.32206 & 0.769785 & 0.0495995 & 2016.07 & 2015.82 & 1991.57 & 1991.45 & -0.0637585 & 0.18816 & 0.00796219 & -0.0252843 & 1.70947e-5 & -1.74072e-5 & 8.60121 \\\\\n",
       "\t9 & 9 & 2880160886370458368 & 0.0352903 & 36.586 & 14.8068 & 0.164856 & Gaia\\_DR2 & 3.10007 & 0.0237009 & -6.0707 & 9.29572 & 0.0278574 & 0.0208069 & -0.145737 & -6.0434 & 9.24368 & 0.0343399 & 0.0213056 & 0.0116024 & -6.82103 & 8.71982 & 1.04833 & 0.639637 & 0.114597 & 2015.94 & 2015.85 & 1991.26 & 1991.2 & -0.16195 & 0.252334 & -0.000240517 & -0.00891998 & 5.08093e-6 & -1.27994e-5 & 3.32158 \\\\\n",
       "\t10 & 10 & 4976500987226833024 & 0.0367144 & -50.8668 & 6.87476 & 0.254449 & Gaia\\_DR2 & 10.7024 & 0.0169056 & 42.2977 & 40.8413 & 0.0141411 & 0.0176819 & -0.383674 & 42.3214 & 40.8331 & 0.0278107 & 0.0277678 & -0.106187 & 42.0888 & 40.8119 & 0.956899 & 0.800817 & -0.112176 & 2016.01 & 2016.1 & 1991.23 & 1991.41 & 0.123592 & 0.294097 & -0.022155 & 0.0128772 & -0.000207201 & 5.64702e-5 & 0.591973 \\\\\n",
       "\t11 & 11 & 387133547311154432 & 0.0374092 & 46.94 & -25.8 & 2.4 & Gaia\\_DR2 & 3.36452 & 0.0268172 & 11.0083 & -2.082 & 0.0326335 & 0.0273654 & -0.21321 & 11.0142 & -2.07956 & 0.016754 & 0.0157677 & 0.0210613 & 11.2691 & -2.1979 & 0.506516 & 0.4804 & 0.0734274 & 2016.4 & 2016.2 & 1991.52 & 1991.09 & -0.0868663 & 0.0511392 & 0.0228702 & 0.000603914 & 2.26762e-5 & -1.23497e-5 & 0.0368504 \\\\\n",
       "\t12 & 12 & 2308086876223750656 & 0.04087 & -35.9602 & 10.1362 & 0.134452 & Gaia\\_DR2 & 1.81416 & 0.0232858 & -5.51573 & 1.42609 & 0.0291708 & 0.0259484 & 0.152782 & -5.51266 & 1.40374 & 0.0272265 & 0.0195145 & 0.163628 & -5.64527 & 0.852811 & 0.95405 & 0.677185 & -0.0177845 & 2016.25 & 2015.84 & 1991.48 & 1991.57 & -0.0173786 & 0.189308 & -0.00465779 & -0.0137799 & 3.23643e-6 & 6.80705e-7 & 0.509099 \\\\\n",
       "\t13 & 13 & 2340148424835415552 & 0.0417235 & -22.5948 & -5.06405 & 0.207851 & Gaia\\_DR2 & 2.40826 & 0.0242384 & 5.84037 & -10.4928 & 0.0297532 & 0.0227318 & 0.00768895 & 5.9241 & -10.5061 & 0.044332 & 0.0232598 & 0.118514 & 8.13338 & -10.2553 & 1.35205 & 0.588592 & -0.06876 & 2015.79 & 2015.64 & 1991.23 & 1991.71 & -0.126723 & -0.254947 & -0.0118089 & 0.00684431 & 3.18545e-6 & -1.10684e-6 & 2.73482 \\\\\n",
       "\t14 & 14 & 2449930576356314880 & 0.048686 & -0.360491 & 23.3791 & 0.145668 & Gaia\\_DR2 & 5.99658 & 0.0285304 & 58.7259 & -10.2108 & 0.0397594 & 0.0256794 & 0.285918 & 60.0203 & -10.3385 & 0.0278295 & 0.0181339 & 0.385968 & 61.3781 & -10.747 & 0.947702 & 0.509461 & 0.380684 & 2016.08 & 2015.57 & 1991.12 & 1991.52 & -0.277935 & 0.234126 & -0.00747984 & -0.0127149 & -0.000212762 & 3.71032e-5 & 887.278 \\\\\n",
       "\t15 & 15 & 394029134492039424 & 0.0504513 & 50.7912 & -11.476 & 0.163328 & Gaia\\_DR2 & 2.52516 & 0.0221605 & 12.9662 & 5.31179 & 0.0223995 & 0.0220788 & -0.486398 & 12.9632 & 5.28531 & 0.024676 & 0.0264949 & -0.282234 & 13.9811 & 5.36115 & 0.825702 & 0.705646 & -0.15681 & 2016.28 & 2016.02 & 1991.06 & 1991.34 & -0.263018 & 0.0617074 & 0.0150067 & 0.0100821 & 1.44041e-5 & -8.59946e-6 & 0.752397 \\\\\n",
       "\t16 & 16 & 4923847578691749120 & 0.0545309 & -54.9148 & 141.018 & 9.91086 & Gaia\\_DR2 & 3.26452 & 0.0153434 & 259.645 & -97.3024 & 0.0174655 & 0.0198922 & -0.33286 & 259.343 & -97.4601 & 0.0580471 & 0.0647759 & -0.268103 & 256.919 & -96.5286 & 1.77986 & 1.91299 & -0.216251 & 2016.16 & 2016.08 & 1991.25 & 1991.35 & 0.0712244 & 0.183766 & -0.0202828 & 0.0183574 & -0.0008893 & 0.00688488 & 39.5812 \\\\\n",
       "\t17 & 17 & 2306077724882156928 & 0.0507873 & -40.1925 & 23.1748 & 0.264159 & Gaia\\_DR2 & 6.7015 & 0.0231991 & -34.6067 & -27.7644 & 0.0253813 & 0.0281139 & 0.260804 & -34.5517 & -27.7152 & 0.018042 & 0.0182502 & 0.160258 & -34.3712 & -27.4086 & 0.572192 & 0.599195 & 0.115447 & 2016.12 & 2015.77 & 1990.99 & 1991.56 & -0.141363 & 0.0618338 & -0.0229612 & -0.00588234 & 8.81535e-5 & 0.000165326 & 4.31937 \\\\\n",
       "\t18 & 18 & 2447815287783063040 & 0.0523189 & -4.05358 & 25.3224 & 0.207385 & Gaia\\_DR2 & 22.783 & 0.0205572 & -119.288 & 24.1219 & 0.0292018 & 0.0224424 & 0.381239 & -119.259 & 24.1156 & 0.0812895 & 0.0431474 & 0.293921 & -126.651 & 23.8475 & 2.53835 & 1.07337 & 0.231296 & 2015.96 & 2015.47 & 1991.32 & 1991.52 & -0.279616 & 0.102532 & -0.00801173 & -0.00683185 & 0.00174169 & -0.000281594 & 0.168421 \\\\\n",
       "\t19 & 19 & 2880594231390895104 & 0.0533021 & 38.304 & 4.66807 & 0.210313 & Gaia\\_DR2 & 4.45583 & 0.0248618 & -0.436077 & -13.1146 & 0.0361896 & 0.0229396 & -0.0533754 & -1.72168 & -14.3445 & 0.0142733 & 0.0116344 & 0.191555 & -3.03865 & -14.9743 & 0.497219 & 0.397065 & 0.202993 & 2016.02 & 2015.9 & 1990.8 & 1991.05 & 0.0369113 & 0.262449 & -0.00653187 & -0.00870252 & 5.23405e-7 & 7.61731e-6 & 3418.64 \\\\\n",
       "\t20 & 20 & 2848390257367536384 & 0.0632224 & 23.5291 & 38.1311 & 0.256109 & Gaia\\_DR2 & 10.0663 & 0.0233568 & 36.1715 & -22.9948 & 0.0272454 & 0.0160736 & 0.0476761 & 36.1555 & -22.9989 & 0.0280166 & 0.0208596 & 0.286134 & 36.1857 & -22.5395 & 0.834987 & 0.552985 & 0.322133 & 2016.08 & 2015.54 & 1991.18 & 1991.31 & 0.0837855 & 0.137856 & 0.0207979 & -0.00275178 & -0.000377171 & 0.00018578 & 0.175047 \\\\\n",
       "\t21 & 21 & 2746745664420425344 & 0.0666619 & 8.00723 & -11.1698 & 0.141782 & Gaia\\_DR2 & 3.50949 & 0.0271031 & 61.2931 & -0.0496944 & 0.039163 & 0.0201717 & 0.0242376 & 61.2989 & 0.00253896 & 0.0319071 & 0.0192081 & 0.250918 & 61.2529 & -0.408121 & 0.820766 & 0.538217 & 0.320017 & 2016.04 & 2015.44 & 1991.4 & 1991.4 & -0.0580663 & 0.164047 & -3.76563e-5 & -0.0188139 & 6.30638e-5 & -3.08472e-5 & 3.5301 \\\\\n",
       "\t22 & 22 & 4977625894998735872 & 0.0700604 & -49.3523 & 12.1734 & 0.139288 & Gaia\\_DR2 & 4.85239 & 0.018052 & -7.24137 & 1.78317 & 0.0133142 & 0.0186771 & -0.357371 & -7.18595 & 1.71886 & 0.024369 & 0.0289978 & -0.116995 & -7.72326 & 1.04306 & 0.823061 & 0.88149 & 0.0867645 & 2015.89 & 2016.12 & 1991.26 & 1991.47 & 0.0657306 & 0.199551 & -0.0161278 & 0.00623403 & 1.18059e-5 & 1.02889e-6 & 6.32961 \\\\\n",
       "\t23 & 23 & 2767134252131256448 & 0.0748051 & 13.3123 & -14.0636 & 0.237769 & Gaia\\_DR2 & 10.7299 & 0.0251147 & 53.4187 & 9.41552 & 0.0325107 & 0.0217033 & 0.103266 & 53.3921 & 9.4272 & 0.029286 & 0.0175408 & 0.239479 & 53.3292 & 9.29362 & 0.798642 & 0.494867 & 0.344862 & 2015.9 & 2015.67 & 1991.44 & 1991.37 & -0.0211628 & 0.26827 & 0.00976176 & -0.00493907 & 0.000209259 & -4.41991e-6 & 0.644515 \\\\\n",
       "\t24 & 24 & 2339755869120492800 & 0.0770083 & -23.4526 & 37.2772 & 0.293808 & Gaia\\_DR2 & 10.9015 & 0.015375 & 127.976 & 21.2221 & 0.0204681 & 0.0164648 & 0.122298 & 127.981 & 21.2634 & 0.0359978 & 0.0211045 & 0.093637 & 127.206 & 21.6277 & 1.07173 & 0.541749 & -0.0876179 & 2015.98 & 2015.54 & 1991.4 & 1991.73 & 0.00283276 & -0.450541 & -0.0143743 & 0.00858955 & -0.00137997 & 0.000200474 & 2.37307 \\\\\n",
       "\t$\\dots$ & $\\dots$ & $\\dots$ & $\\dots$ & $\\dots$ & $\\dots$ & $\\dots$ & $\\dots$ & $\\dots$ & $\\dots$ & $\\dots$ & $\\dots$ & $\\dots$ & $\\dots$ & $\\dots$ & $\\dots$ & $\\dots$ & $\\dots$ & $\\dots$ & $\\dots$ & $\\dots$ & $\\dots$ & $\\dots$ & $\\dots$ & $\\dots$ & $\\dots$ & $\\dots$ & $\\dots$ & $\\dots$ & $\\dots$ & $\\dots$ & $\\dots$ & $\\dots$ & $\\dots$ & $\\dots$ & $\\dots$ \\\\\n",
       "\\end{tabular}\n"
      ],
      "text/plain": [
       "\u001b[1m115346×35 DataFrame\u001b[0m\n",
       "\u001b[1m    Row \u001b[0m│\u001b[1m hip_id \u001b[0m\u001b[1m gaia_source_id      \u001b[0m\u001b[1m gaia_ra       \u001b[0m\u001b[1m gaia_dec  \u001b[0m\u001b[1m radial_velocity \u001b[0m\u001b[1m radial_velocity_error \u001b[0m\u001b[1m radial_velocity_source \u001b[0m\u001b[1m parallax_gaia \u001b[0m\u001b[1m parallax_gaia_error \u001b[0m\u001b[1m pmra_gaia   \u001b[0m\u001b[1m pmdec_gaia   \u001b[0m\u001b[1m pmra_gaia_error \u001b[0m\u001b[1m pmdec_gaia_error \u001b[0m\u001b[1m pmra_pmdec_gaia \u001b[0m\u001b[1m pmra_hg     \u001b[0m\u001b[1m pmdec_hg     \u001b[0m\u001b[1m pmra_hg_error \u001b[0m\u001b[1m pmdec_hg_error \u001b[0m\u001b[1m pmra_pmdec_hg \u001b[0m\u001b[1m pmra_hip   \u001b[0m\u001b[1m pmdec_hip   \u001b[0m\u001b[1m pmra_hip_error \u001b[0m\u001b[1m pmdec_hip_error \u001b[0m\u001b[1m pmra_pmdec_hip \u001b[0m\u001b[1m epoch_ra_gaia \u001b[0m\u001b[1m epoch_dec_gaia \u001b[0m\u001b[1m epoch_ra_hip \u001b[0m\u001b[1m epoch_dec_hip \u001b[0m\u001b[1m crosscal_pmra_hip \u001b[0m\u001b[1m crosscal_pmdec_hip \u001b[0m\u001b[1m crosscal_pmra_hg \u001b[0m\u001b[1m crosscal_pmdec_hg \u001b[0m\u001b[1m nonlinear_dpmra \u001b[0m\u001b[1m nonlinear_dpmdec \u001b[0m\u001b[1m chisq        \u001b[0m\n",
       "\u001b[1m        \u001b[0m│\u001b[90m Int64  \u001b[0m\u001b[90m Int64               \u001b[0m\u001b[90m Float64       \u001b[0m\u001b[90m Float64   \u001b[0m\u001b[90m Float64?        \u001b[0m\u001b[90m Float64?              \u001b[0m\u001b[90m String15               \u001b[0m\u001b[90m Float64       \u001b[0m\u001b[90m Float64             \u001b[0m\u001b[90m Float64     \u001b[0m\u001b[90m Float64      \u001b[0m\u001b[90m Float64         \u001b[0m\u001b[90m Float64          \u001b[0m\u001b[90m Float64         \u001b[0m\u001b[90m Float64     \u001b[0m\u001b[90m Float64      \u001b[0m\u001b[90m Float64       \u001b[0m\u001b[90m Float64        \u001b[0m\u001b[90m Float64       \u001b[0m\u001b[90m Float64    \u001b[0m\u001b[90m Float64     \u001b[0m\u001b[90m Float64        \u001b[0m\u001b[90m Float64         \u001b[0m\u001b[90m Float64        \u001b[0m\u001b[90m Float64       \u001b[0m\u001b[90m Float64        \u001b[0m\u001b[90m Float64      \u001b[0m\u001b[90m Float64       \u001b[0m\u001b[90m Float64           \u001b[0m\u001b[90m Float64            \u001b[0m\u001b[90m Float64          \u001b[0m\u001b[90m Float64           \u001b[0m\u001b[90m Float64         \u001b[0m\u001b[90m Float64          \u001b[0m\u001b[90m Float64      \u001b[0m\n",
       "────────┼──────────────────────────────────────────────────────────────────────────────────────────────────────────────────────────────────────────────────────────────────────────────────────────────────────────────────────────────────────────────────────────────────────────────────────────────────────────────────────────────────────────────────────────────────────────────────────────────────────────────────────────────────────────────────────────────────────────────────────────────────────────────────────────────────────────────────────────────────────────────────────\n",
       "      1 │      1  2738327528519591936    0.000871957    1.08898          8.26094               0.264233  Gaia_DR2                     5.4151             0.0331369     -0.360141    -5.05262          0.0790698         0.0295514        0.112322     -5.83165     -5.09297        0.0508516       0.0285352      0.370446     -4.87324    -1.01569         1.30626          0.798923       0.350112         2015.93         2015.53       1991.55        1991.28         -0.0284562           0.466251       -0.00134159        -0.00372788       4.26126e-7        5.66852e-6   3515.52\n",
       "      2 │      2  2341871673090078592    0.00511158   -19.4988  \u001b[90m   missing       \u001b[0m\u001b[90m        missing        \u001b[0m None                        26.7979             0.506636     179.805       -1.04101          0.783449          0.57891          0.0693343   181.51        -0.440148       0.0482116       0.0287168      0.124236    183.278      -1.27354         1.40956          0.783624       0.143072         2015.82         2015.51       1991.48        1991.42         -0.384869            0.0401743      -0.0116708          0.00813583       7.97636e-6        0.000668439     5.51048\n",
       "      3 │      3  2881742980523997824    0.00506023    38.8593           0.0                   4.2       Gaia_DR2                     2.99269            0.0427549      5.76132     -2.40556          0.0375025         0.0315063        0.187129      5.76201     -2.47363        0.0143335       0.0116901      0.0793275     4.6529     -2.96515         0.488108         0.414301       0.174885         2016.61         2016.14       1990.85        1991.05          0.0157797           0.245494        0.00264757        -0.000475211     -7.44679e-7       -1.75141e-6      4.24397\n",
       "      4 │      4  4973386040722654336    0.00907157   -51.8935  \u001b[90m   missing       \u001b[0m\u001b[90m        missing        \u001b[0m None                         7.31314            0.0213819     61.9649       1.30216          0.0185844         0.0254567       -0.334147     61.9723       1.30706        0.0174344       0.0209368     -0.324121     62.849       0.552826        0.600688         0.572225      -0.160557         2015.97         2016.02       1991.01        1991.18          0.141746            0.317793       -0.0229892          0.0140929       -5.84233e-6        0.000294803     0.153008\n",
       "      5 │      5  2305974989264598272    0.00997423   -40.5912          20.1973                0.174826  Gaia_DR2                     2.60551            0.0220667      1.02164      8.73266          0.0284247         0.0259288        0.0296427     0.986495     8.74377        0.0219728       0.0215064      0.0697696     1.86614     8.63798         0.634796         0.700016       0.089169         2016.38         2015.88       1991.1         1991.48         -0.154247            0.0743634      -0.0149238         -0.0119545       -1.91705e-6       -1.20387e-5      1.09704\n",
       "      6 │      6  2740326852975975040    0.019676       3.94641         -1.41318               0.549218  Gaia_DR2                    15.3938             0.0294875    223.197      -11.4984           0.0397578         0.0259851        0.226979    223.167      -11.5861         0.173997        0.0960696      0.369584    224.047     -14.0697          5.77342          3.18512        0.254783         2015.95         2015.43       1991.34        1991.26         -0.0202837           0.292651        0.00315663        -0.0148663        0.000119214      -0.000207324     0.803724\n",
       "      7 │      7  2846308881856186240    0.0210282     20.0353           5.34501               0.218706  Gaia_DR2                    17.4912             0.0242287   -206.509     -196.098            0.0389593         0.0172017       -0.0983088  -211.04      -197.017          0.0392897       0.0308591      0.326317   -207.907    -200.985           1.09466          0.776415       0.410332         2015.62         2015.34       1991.29        1991.23          0.0845642           0.211941        0.0380017         -0.00486428       0.00135701       -0.000442318  6859.68\n",
       "      8 │      8  2853169937491828608    0.0274359     25.8864         -31.0                   4.6       Gaia_DR2                     1.52042            0.0595536     18.7456      -6.4717           0.0940196         0.0485898       -0.22311      18.7125      -6.63527        0.0479436       0.031393       0.024752     19.0393     -6.35167         1.32206          0.769785       0.0495995        2016.07         2015.82       1991.57        1991.45         -0.0637585           0.18816         0.00796219        -0.0252843        1.70947e-5       -1.74072e-5      8.60121\n",
       "   ⋮    │   ⋮              ⋮                 ⋮            ⋮             ⋮                   ⋮                      ⋮                   ⋮                 ⋮                ⋮            ⋮               ⋮                ⋮                 ⋮              ⋮            ⋮              ⋮              ⋮               ⋮            ⋮            ⋮             ⋮                ⋮               ⋮               ⋮              ⋮              ⋮              ⋮                ⋮                  ⋮                  ⋮                  ⋮                 ⋮                ⋮               ⋮\n",
       " 115340 │ 120276  1132314766916966400  150.524         79.7054         -82.9937                0.723559  Gaia_DR2                     7.44235            0.00979104   155.367     -123.39             0.0175646         0.0172855        0.0381217   155.261     -123.452          0.130191        0.12898        0.0650965   159.933    -131.448           6.6141           5.58705       -0.0298722        2016.05         2016.14       1991.83        1992.05          0.176159            0.0644073       0.00136133        -0.00417039      -0.00382709       -0.0096351       0.828401\n",
       " 115341 │ 120290  1338820612738052480  254.421         35.2697         -16.2219                0.151866  Gaia_DR2                     2.3871             0.0121818     16.5911       0.0826497        0.0163277         0.0209032        0.222003     16.6276       0.0891183      0.0534529       0.0549245      0.242452     18.8243     -0.641577        1.93181          2.35767        0.21013          2015.87         2015.98       1992.06        1991.94         -0.330995           -0.0345349      -0.00742992        -0.0108089        1.45402e-5       -1.12713e-5      0.428672\n",
       " 115342 │ 120313  1244641978617773696  206.399         17.7424         -11.7855                0.425086  Gaia_DR2                     0.939146           0.0190291     -2.60751     -2.89656          0.0226831         0.0186263       -0.195994     -2.65262     -3.05839        0.068822        0.132371      -0.244696     -3.41027    -7.00853         3.22872          2.75304       -0.441996         2015.98         2015.91       1992.36        1991.75         -0.274031           -0.200835       -0.0207087         -0.0123549       -5.57473e-7       -8.29979e-7      2.34659\n",
       " 115343 │ 120401  5290738562888564736  119.382        -60.6309          32.2                   1.0       Gaia_DR2                     2.42914            0.0272891     -4.32319     11.5238           0.051916          0.0404158        0.0915804    -4.42184     11.4646         0.119725        0.10539        0.0758318    -7.48068    16.3737          7.08974          8.28903       -0.151656         2016.01         2016.23       1992.24        1992.24         -0.195437           -0.146271        0.0010383         -0.0112695        1.34633e-5       -2.05169e-5      0.78948\n",
       " 115344 │ 120402  5290832364972775808  119.449        -60.6097          16.3                 999.0       Gaia_DR2                     2.48534            0.025147      -3.98067     10.6614           0.0441931         0.0377595        0.0655389    -4.98835     11.0488         0.0835457       0.0705711     -0.22666      -8.11636     4.27194         5.06473          5.74107       -0.209833         2016.04         2016.13       1992.24        1992.26         -0.188158           -0.155196        0.00190744        -0.0162228        8.47021e-6       -9.55649e-6    123.613\n",
       " 115345 │ 120403  5290725643625189504  119.455        -60.6836          18.0                   3.7       Gaia_DR2                     2.44597            0.0265466     -4.12116     12.4921           0.0529454         0.0389181        0.119002     -4.44078     11.1375         0.0850363       0.0831983     -0.0342094    -7.78032    12.3504          4.91298          6.16397       -0.283326         2016.04         2016.12       1992.28        1992.2          -0.185774           -0.156832        0.0016517         -0.0141316        9.96023e-6       -1.15306e-5    227.658\n",
       " 115346 │ 120404  5290820682661822848  119.512        -60.6147          22.7                   0.4       Gaia_DR2                     2.40732            0.0311705     -5.02313     11.201            0.0502587         0.0422935        0.0439801    -4.73922     10.9447         0.0662629       0.0590021     -0.072813     -4.98336    12.6579          3.61716          3.81705       -0.344528         2016.07         2016.28       1992.3         1992.25         -0.181513           -0.159433        0.00184413        -0.0156032        1.22044e-5       -1.29593e-5     23.3774\n",
       "\u001b[36m                                                                                                                                                                                                                                                                                                                                                                                                                                                                                                                                                                            115331 rows omitted\u001b[0m"
      ]
     },
     "metadata": {},
     "output_type": "display_data"
    }
   ],
   "source": [
    "using CSV\n",
    "\n",
    "# Show more columns by default in the notebook...\n",
    "ENV[\"ROWS\"] = 12\n",
    "ENV[\"COLUMNS\"] = 600\n",
    "\n",
    "hgca = CSV.read(\"HGCA_vEDR3.csv\", DataFrame)"
   ]
  },
  {
   "cell_type": "markdown",
   "metadata": {},
   "source": [
    "This catalog gives the position, RV, proper motion, and astrometric acceleration of nearby stars by cross calibrating Hipparcos and GAIA.\n",
    "\n",
    "Let's select nearby stars with the most astrometric acceleration:"
   ]
  },
  {
   "cell_type": "code",
   "execution_count": 6,
   "metadata": {},
   "outputs": [
    {
     "data": {
      "text/html": [
       "<div class=\"data-frame\"><p>1,000 rows × 35 columns</p><table class=\"data-frame\"><thead><tr><th></th><th>hip_id</th><th>gaia_source_id</th><th>gaia_ra</th><th>gaia_dec</th><th>radial_velocity</th><th>radial_velocity_error</th><th>radial_velocity_source</th><th>parallax_gaia</th><th>parallax_gaia_error</th><th>pmra_gaia</th><th>pmdec_gaia</th><th>pmra_gaia_error</th><th>pmdec_gaia_error</th><th>pmra_pmdec_gaia</th><th>pmra_hg</th><th>pmdec_hg</th><th>pmra_hg_error</th><th>pmdec_hg_error</th><th>pmra_pmdec_hg</th><th>pmra_hip</th><th>pmdec_hip</th><th>pmra_hip_error</th><th>pmdec_hip_error</th><th>pmra_pmdec_hip</th><th>epoch_ra_gaia</th><th>epoch_dec_gaia</th><th>epoch_ra_hip</th><th>epoch_dec_hip</th><th>crosscal_pmra_hip</th><th>crosscal_pmdec_hip</th><th>crosscal_pmra_hg</th><th>crosscal_pmdec_hg</th><th>nonlinear_dpmra</th><th>nonlinear_dpmdec</th><th>chisq</th></tr><tr><th></th><th title=\"Int64\">Int64</th><th title=\"Int64\">Int64</th><th title=\"Float64\">Float64</th><th title=\"Float64\">Float64</th><th title=\"Union{Missing, Float64}\">Float64?</th><th title=\"Union{Missing, Float64}\">Float64?</th><th title=\"String15\">String15</th><th title=\"Float64\">Float64</th><th title=\"Float64\">Float64</th><th title=\"Float64\">Float64</th><th title=\"Float64\">Float64</th><th title=\"Float64\">Float64</th><th title=\"Float64\">Float64</th><th title=\"Float64\">Float64</th><th title=\"Float64\">Float64</th><th title=\"Float64\">Float64</th><th title=\"Float64\">Float64</th><th title=\"Float64\">Float64</th><th title=\"Float64\">Float64</th><th title=\"Float64\">Float64</th><th title=\"Float64\">Float64</th><th title=\"Float64\">Float64</th><th title=\"Float64\">Float64</th><th title=\"Float64\">Float64</th><th title=\"Float64\">Float64</th><th title=\"Float64\">Float64</th><th title=\"Float64\">Float64</th><th title=\"Float64\">Float64</th><th title=\"Float64\">Float64</th><th title=\"Float64\">Float64</th><th title=\"Float64\">Float64</th><th title=\"Float64\">Float64</th><th title=\"Float64\">Float64</th><th title=\"Float64\">Float64</th><th title=\"Float64\">Float64</th></tr></thead><tbody><tr><th>1</th><td>19233</td><td>4675955810263106432</td><td>61.8421</td><td>-64.2209</td><td>28.5044</td><td>0.155054</td><td>Gaia_DR2</td><td>42.382</td><td>0.0274924</td><td>186.418</td><td>337.075</td><td>0.0527617</td><td>0.0458047</td><td>0.208572</td><td>209.775</td><td>328.05</td><td>0.0136742</td><td>0.0143729</td><td>-0.0662618</td><td>185.747</td><td>337.223</td><td>0.410465</td><td>0.45747</td><td>-0.074494</td><td>2016.2</td><td>2016.04</td><td>1991.36</td><td>1991.21</td><td>0.0165383</td><td>0.293973</td><td>0.0095606</td><td>0.00929145</td><td>-0.0135578</td><td>-0.00602422</td><td>2.58323e5</td></tr><tr><th>2</th><td>17544</td><td>5080543413172761088</td><td>56.3521</td><td>-27.862</td><td>32.522</td><td>0.183033</td><td>Gaia_DR2</td><td>48.4931</td><td>0.0285364</td><td>303.236</td><td>111.826</td><td>0.028661</td><td>0.0362368</td><td>-0.25705</td><td>315.158</td><td>123.197</td><td>0.0276666</td><td>0.0300863</td><td>-0.229936</td><td>320.541</td><td>139.488</td><td>0.700119</td><td>0.81371</td><td>0.00505769</td><td>2016.27</td><td>2016.12</td><td>1991.22</td><td>1991.34</td><td>-0.191166</td><td>-0.135774</td><td>-0.00215582</td><td>0.0118704</td><td>-0.0133431</td><td>-0.00155309</td><td>1.94791e5</td></tr><tr><th>3</th><td>25119</td><td>3234412606443085824</td><td>80.6565</td><td>2.60239</td><td>36.2951</td><td>0.243</td><td>Gaia_DR2</td><td>50.5171</td><td>0.0368108</td><td>65.9528</td><td>-182.17</td><td>0.0587524</td><td>0.0388484</td><td>-0.297233</td><td>58.3898</td><td>-160.637</td><td>0.0447782</td><td>0.0309374</td><td>0.284081</td><td>55.2318</td><td>-139.336</td><td>1.35817</td><td>0.840188</td><td>0.19827</td><td>2016.28</td><td>2016.63</td><td>1991.05</td><td>1990.85</td><td>-0.132147</td><td>0.158557</td><td>-0.0124356</td><td>0.00754834</td><td>-0.00315222</td><td>0.00881162</td><td>1.9276e5</td></tr><tr><th>4</th><td>103455</td><td>1844639838900425472</td><td>314.417</td><td>26.4055</td><td>-26.797</td><td>0.20024</td><td>Gaia_DR2</td><td>31.2765</td><td>0.036503</td><td>251.123</td><td>84.9655</td><td>0.0451634</td><td>0.0442197</td><td>-0.260593</td><td>256.675</td><td>100.519</td><td>0.0172346</td><td>0.015751</td><td>0.00741566</td><td>272.954</td><td>96.1199</td><td>0.567809</td><td>0.494177</td><td>0.0149795</td><td>2016.25</td><td>2016.27</td><td>1991.47</td><td>1991.08</td><td>-0.237511</td><td>0.254862</td><td>-0.00274456</td><td>0.0138432</td><td>0.00595898</td><td>-7.6631e-5</td><td>1.48103e5</td></tr><tr><th>5</th><td>117712</td><td>2232348941893483520</td><td>358.111</td><td>75.5447</td><td>4.6</td><td>0.2</td><td>Gaia_DR2</td><td>91.7722</td><td>0.0424846</td><td>309.9</td><td>25.3336</td><td>0.0714962</td><td>0.0814236</td><td>-0.348172</td><td>334.368</td><td>24.4612</td><td>0.0148906</td><td>0.0135989</td><td>-0.100359</td><td>341.245</td><td>41.7322</td><td>0.460519</td><td>0.421117</td><td>-0.127966</td><td>2016.26</td><td>2016.08</td><td>1991.49</td><td>1991.45</td><td>-0.0486428</td><td>0.153616</td><td>0.000681684</td><td>-0.0051896</td><td>-0.00150423</td><td>-0.022521</td><td>1.2429e5</td></tr><tr><th>6</th><td>89912</td><td>4586000675189058304</td><td>275.205</td><td>27.5308</td><td>-20.9144</td><td>0.173702</td><td>Gaia_DR2</td><td>34.6195</td><td>0.0240315</td><td>42.5762</td><td>88.6412</td><td>0.0267923</td><td>0.0297979</td><td>0.0322418</td><td>37.5562</td><td>98.3828</td><td>0.0142369</td><td>0.017255</td><td>0.0126017</td><td>40.788</td><td>105.877</td><td>0.479597</td><td>0.571104</td><td>0.00335314</td><td>2015.93</td><td>2016.06</td><td>1991.36</td><td>1991.45</td><td>0.0347571</td><td>-0.13337</td><td>-0.00169269</td><td>-0.000480918</td><td>0.000889002</td><td>0.00155841</td><td>1.10084e5</td></tr><tr><th>7</th><td>68</td><td>2772904695310603520</td><td>0.200194</td><td>16.9868</td><td>-17.7872</td><td>0.407923</td><td>Gaia_DR2</td><td>33.259</td><td>0.0427849</td><td>-52.2017</td><td>-307.385</td><td>0.0753759</td><td>0.0413901</td><td>-0.0393014</td><td>-62.2969</td><td>-322.491</td><td>0.0375684</td><td>0.0249622</td><td>0.384882</td><td>-99.3582</td><td>-317.879</td><td>1.0712</td><td>0.730856</td><td>0.335535</td><td>2015.73</td><td>2015.77</td><td>1991.19</td><td>1991.33</td><td>-0.070675</td><td>0.248471</td><td>0.0197106</td><td>-0.00865357</td><td>-0.000479286</td><td>-0.00460067</td><td>1.08029e5</td></tr><tr><th>8</th><td>85007</td><td>4570293086432167168</td><td>260.616</td><td>24.8786</td><td>34.1877</td><td>0.140003</td><td>Gaia_DR2</td><td>33.5684</td><td>0.0166339</td><td>74.258</td><td>-176.618</td><td>0.0189082</td><td>0.0221509</td><td>0.0211881</td><td>67.3057</td><td>-173.888</td><td>0.0127318</td><td>0.0192025</td><td>0.140598</td><td>63.0605</td><td>-160.505</td><td>0.433724</td><td>0.683268</td><td>0.125548</td><td>2016.09</td><td>2016.02</td><td>1991.3</td><td>1991.3</td><td>-0.0508317</td><td>-0.271464</td><td>-0.00875678</td><td>-0.00931728</td><td>-0.00252259</td><td>0.00499101</td><td>1.05814e5</td></tr><tr><th>9</th><td>107062</td><td>1766575647197540480</td><td>325.255</td><td>11.2625</td><td>-50.1466</td><td>0.14779</td><td>Gaia_DR2</td><td>31.4285</td><td>0.0313921</td><td>-75.1187</td><td>-109.887</td><td>0.0390955</td><td>0.0428239</td><td>0.115052</td><td>-68.0204</td><td>-123.343</td><td>0.0471634</td><td>0.0252716</td><td>0.357898</td><td>-72.5208</td><td>-111.946</td><td>1.69563</td><td>0.924498</td><td>0.43533</td><td>2016.11</td><td>2016.54</td><td>1991.2</td><td>1991.82</td><td>0.136809</td><td>0.406002</td><td>-0.00791931</td><td>0.00366027</td><td>-0.00291692</td><td>-0.00444304</td><td>1.03694e5</td></tr><tr><th>10</th><td>52296</td><td>5443030196164951168</td><td>160.29</td><td>-36.8964</td><td>59.5555</td><td>2.64226</td><td>Gaia_DR2</td><td>64.3363</td><td>0.0510218</td><td>213.073</td><td>-219.335</td><td>0.0617464</td><td>0.0657668</td><td>0.126753</td><td>185.995</td><td>-213.585</td><td>0.0621132</td><td>0.055059</td><td>-0.0780013</td><td>166.411</td><td>-194.344</td><td>1.94881</td><td>1.86089</td><td>-0.277192</td><td>2016.08</td><td>2015.96</td><td>1991.41</td><td>1991.58</td><td>-0.0107386</td><td>-0.233993</td><td>0.00637458</td><td>-0.0056602</td><td>-0.0185018</td><td>0.0229826</td><td>1.01563e5</td></tr><tr><th>11</th><td>5842</td><td>4692276170589724288</td><td>18.7587</td><td>-68.8186</td><td>9.0</td><td>1.51</td><td>Gaia_DR2</td><td>47.4358</td><td>0.0609734</td><td>360.374</td><td>96.2495</td><td>0.113389</td><td>0.0851748</td><td>-0.0263827</td><td>386.905</td><td>76.8404</td><td>0.0378315</td><td>0.0396693</td><td>0.0615424</td><td>416.853</td><td>75.8273</td><td>1.05106</td><td>1.04932</td><td>-0.163042</td><td>2016.03</td><td>2015.73</td><td>1991.48</td><td>1991.5</td><td>-0.126023</td><td>0.199048</td><td>-0.0050145</td><td>0.00470424</td><td>-0.00920615</td><td>0.0186625</td><td>90627.0</td></tr><tr><th>12</th><td>2743</td><td>4900637266186106752</td><td>8.77073</td><td>-63.6975</td><td>3.4824</td><td>0.167415</td><td>Gaia_DR2</td><td>35.0336</td><td>0.0268819</td><td>888.482</td><td>-517.882</td><td>0.0413565</td><td>0.0379868</td><td>-0.153357</td><td>888.22</td><td>-531.101</td><td>0.0257402</td><td>0.0250002</td><td>-0.00985396</td><td>881.883</td><td>-534.847</td><td>0.75635</td><td>0.770658</td><td>-0.0412355</td><td>2016.14</td><td>2015.93</td><td>1991.43</td><td>1991.26</td><td>-0.0121515</td><td>0.113443</td><td>-0.0126866</td><td>0.00601242</td><td>0.0529698</td><td>0.0971072</td><td>85941.8</td></tr><tr><th>13</th><td>102851</td><td>1858219151114884352</td><td>312.544</td><td>29.3839</td><td>-8.57926</td><td>0.127422</td><td>Gaia_DR2</td><td>49.5944</td><td>0.0281859</td><td>-3.07656</td><td>-36.2908</td><td>0.0275224</td><td>0.0363731</td><td>-0.530836</td><td>7.32816</td><td>-47.0069</td><td>0.0327257</td><td>0.0339231</td><td>-0.141052</td><td>22.5271</td><td>-60.1601</td><td>1.05225</td><td>1.01292</td><td>0.0562232</td><td>2016.1</td><td>2016.1</td><td>1991.37</td><td>1991.32</td><td>-0.312969</td><td>0.015614</td><td>-0.00301131</td><td>0.0218199</td><td>-2.92798e-5</td><td>-0.000390502</td><td>80091.4</td></tr><tr><th>14</th><td>73470</td><td>1586968533015434624</td><td>225.233</td><td>45.4277</td><td>-13.3004</td><td>0.203745</td><td>Gaia_DR2</td><td>85.4119</td><td>0.0255139</td><td>225.065</td><td>328.52</td><td>0.0341192</td><td>0.0421878</td><td>0.0475537</td><td>225.577</td><td>352.681</td><td>0.0492958</td><td>0.0743488</td><td>-0.0447079</td><td>240.769</td><td>370.042</td><td>1.39082</td><td>1.3439</td><td>0.0356052</td><td>2016.04</td><td>2016.06</td><td>1991.27</td><td>1991.33</td><td>-0.0944473</td><td>-0.269745</td><td>-0.00458205</td><td>-0.00410684</td><td>0.0109729</td><td>0.00632698</td><td>80074.9</td></tr><tr><th>15</th><td>10138</td><td>4937000898856156288</td><td>32.623</td><td>-50.8209</td><td>55.227</td><td>0.179832</td><td>Gaia_DR2</td><td>92.9251</td><td>0.0460793</td><td>2125.42</td><td>637.975</td><td>0.065578</td><td>0.0843349</td><td>-0.431304</td><td>2107.37</td><td>641.564</td><td>0.0134358</td><td>0.0151434</td><td>-0.139443</td><td>2092.07</td><td>654.285</td><td>0.427399</td><td>0.462164</td><td>-0.082702</td><td>2016.03</td><td>2015.79</td><td>1991.23</td><td>1991.38</td><td>-0.0492099</td><td>0.188999</td><td>-0.00223241</td><td>0.0055231</td><td>-0.376799</td><td>0.246375</td><td>78929.4</td></tr><tr><th>16</th><td>30480</td><td>5477304657957793280</td><td>96.1107</td><td>-63.4294</td><td>25.0876</td><td>0.172428</td><td>Gaia_DR2</td><td>31.216</td><td>0.0553176</td><td>-16.4436</td><td>-86.0465</td><td>0.0960951</td><td>0.0854679</td><td>-0.195427</td><td>-2.52468</td><td>-108.242</td><td>0.0153998</td><td>0.0166636</td><td>-0.0845021</td><td>18.962</td><td>-115.38</td><td>0.452496</td><td>0.479912</td><td>-0.210885</td><td>2016.02</td><td>2016.27</td><td>1991.17</td><td>1991.35</td><td>-0.221556</td><td>0.233935</td><td>-0.000377512</td><td>0.0185145</td><td>0.000157151</td><td>0.00175132</td><td>74163.0</td></tr><tr><th>17</th><td>107133</td><td>6785377870401276288</td><td>325.517</td><td>-30.5941</td><td>14.6872</td><td>4.3161</td><td>Gaia_DR2</td><td>31.2922</td><td>0.0864468</td><td>-69.4902</td><td>33.6033</td><td>0.19401</td><td>0.144985</td><td>0.233344</td><td>-58.7139</td><td>-3.62976</td><td>0.0715423</td><td>0.0414158</td><td>0.229269</td><td>-58.3989</td><td>12.8948</td><td>2.32634</td><td>1.12116</td><td>0.115744</td><td>2016.63</td><td>2016.75</td><td>1991.07</td><td>1991.19</td><td>-0.109926</td><td>0.13792</td><td>-0.0193442</td><td>0.0114028</td><td>0.000918727</td><td>-0.000228636</td><td>73642.9</td></tr><tr><th>18</th><td>22596</td><td>254503754623418240</td><td>72.9339</td><td>45.8316</td><td>30.0434</td><td>1.03826</td><td>Gaia_DR2</td><td>32.2304</td><td>0.0294004</td><td>372.127</td><td>-553.583</td><td>0.0505593</td><td>0.0389536</td><td>-0.0318469</td><td>380.924</td><td>-563.461</td><td>0.0303963</td><td>0.0223237</td><td>0.202157</td><td>375.713</td><td>-564.452</td><td>1.10657</td><td>0.780127</td><td>0.161024</td><td>2016.07</td><td>2016.23</td><td>1991.18</td><td>1991.08</td><td>0.0115933</td><td>0.120964</td><td>0.00699292</td><td>-0.00970893</td><td>-0.0219775</td><td>0.00509916</td><td>72543.4</td></tr><tr><th>19</th><td>15799</td><td>4852870701505115904</td><td>50.8973</td><td>-40.0762</td><td>12.1876</td><td>0.13443</td><td>Gaia_DR2</td><td>56.557</td><td>0.027008</td><td>63.9855</td><td>35.1747</td><td>0.03279</td><td>0.0492621</td><td>-0.22025</td><td>53.0357</td><td>39.153</td><td>0.025672</td><td>0.025322</td><td>-0.040279</td><td>40.6461</td><td>42.8876</td><td>0.780498</td><td>0.778229</td><td>0.0977741</td><td>2015.84</td><td>2015.96</td><td>1991.37</td><td>1991.23</td><td>-0.118366</td><td>0.0103926</td><td>-0.0056278</td><td>0.00495976</td><td>-0.00122102</td><td>-0.000405137</td><td>69958.1</td></tr><tr><th>20</th><td>115112</td><td>2661015540211140864</td><td>349.729</td><td>5.4051</td><td>-12.67</td><td>0.13</td><td>Gaia_DR2</td><td>30.5538</td><td>0.0978089</td><td>482.018</td><td>-115.306</td><td>0.111002</td><td>0.0916924</td><td>0.14085</td><td>472.444</td><td>-92.1186</td><td>0.0623729</td><td>0.0449662</td><td>0.593748</td><td>438.883</td><td>-96.9008</td><td>1.75241</td><td>1.41204</td><td>0.160065</td><td>2015.99</td><td>2015.91</td><td>1991.4</td><td>1991.34</td><td>-0.152461</td><td>0.312805</td><td>-0.00644311</td><td>0.00880984</td><td>0.0043459</td><td>-0.00243192</td><td>69278.7</td></tr><tr><th>21</th><td>88745</td><td>4590758227641991424</td><td>271.756</td><td>30.5623</td><td>-0.17374</td><td>0.146508</td><td>Gaia_DR2</td><td>63.3943</td><td>0.0750006</td><td>-100.15</td><td>53.9981</td><td>0.106199</td><td>0.113802</td><td>0.229514</td><td>-73.9814</td><td>69.593</td><td>0.0139639</td><td>0.0160576</td><td>0.091315</td><td>-100.822</td><td>110.653</td><td>0.410008</td><td>0.439499</td><td>0.0644455</td><td>2016.11</td><td>2016.1</td><td>1991.01</td><td>1991.22</td><td>-0.269026</td><td>-0.0924636</td><td>-0.00817985</td><td>-0.00958207</td><td>-0.000228453</td><td>-0.000345594</td><td>66473.8</td></tr><tr><th>22</th><td>67422</td><td>1451450048399808384</td><td>207.265</td><td>26.9794</td><td>-20.46</td><td>0.09</td><td>Gaia_DR2</td><td>74.0937</td><td>0.0370234</td><td>-417.14</td><td>-111.759</td><td>0.0491403</td><td>0.0313429</td><td>-0.0464322</td><td>-417.271</td><td>-100.907</td><td>0.0359949</td><td>0.029415</td><td>-0.033226</td><td>-421.966</td><td>-89.9471</td><td>0.976395</td><td>0.709254</td><td>-0.0473839</td><td>2016.03</td><td>2015.85</td><td>1991.39</td><td>1991.25</td><td>0.213041</td><td>-0.265986</td><td>-0.0194419</td><td>-0.004315</td><td>-0.0144914</td><td>-0.00954928</td><td>63803.7</td></tr><tr><th>23</th><td>3185</td><td>2347427402266219008</td><td>10.1398</td><td>-23.8065</td><td>-45.4163</td><td>0.169266</td><td>Gaia_DR2</td><td>35.0508</td><td>0.0640764</td><td>668.109</td><td>-346.811</td><td>0.0920473</td><td>0.0757268</td><td>0.294917</td><td>648.041</td><td>-359.766</td><td>0.0198283</td><td>0.0144441</td><td>0.110052</td><td>635.53</td><td>-363.204</td><td>0.616336</td><td>0.425162</td><td>0.0510046</td><td>2015.59</td><td>2015.85</td><td>1991.44</td><td>1991.36</td><td>0.156377</td><td>0.262086</td><td>-0.0140645</td><td>-0.00866104</td><td>0.0322137</td><td>-0.00211541</td><td>57850.1</td></tr><tr><th>24</th><td>58576</td><td>3575733210781078016</td><td>180.186</td><td>-10.4482</td><td>-0.137881</td><td>0.13542</td><td>Gaia_DR2</td><td>78.3359</td><td>0.0923265</td><td>83.7934</td><td>-482.006</td><td>0.14135</td><td>0.0909886</td><td>-0.223693</td><td>109.679</td><td>-499.813</td><td>0.0195214</td><td>0.0131048</td><td>-0.326185</td><td>141.753</td><td>-483.612</td><td>0.50825</td><td>0.399632</td><td>-0.331907</td><td>2015.8</td><td>2015.46</td><td>1991.3</td><td>1991.42</td><td>-0.110992</td><td>-0.121707</td><td>-0.00227268</td><td>0.011904</td><td>0.000463564</td><td>-3.00145e-5</td><td>57499.8</td></tr><tr><th>&vellip;</th><td>&vellip;</td><td>&vellip;</td><td>&vellip;</td><td>&vellip;</td><td>&vellip;</td><td>&vellip;</td><td>&vellip;</td><td>&vellip;</td><td>&vellip;</td><td>&vellip;</td><td>&vellip;</td><td>&vellip;</td><td>&vellip;</td><td>&vellip;</td><td>&vellip;</td><td>&vellip;</td><td>&vellip;</td><td>&vellip;</td><td>&vellip;</td><td>&vellip;</td><td>&vellip;</td><td>&vellip;</td><td>&vellip;</td><td>&vellip;</td><td>&vellip;</td><td>&vellip;</td><td>&vellip;</td><td>&vellip;</td><td>&vellip;</td><td>&vellip;</td><td>&vellip;</td><td>&vellip;</td><td>&vellip;</td><td>&vellip;</td><td>&vellip;</td></tr></tbody></table></div>"
      ],
      "text/latex": [
       "\\begin{tabular}{r|ccccccccccccccccccccccccccccccccccc}\n",
       "\t& hip\\_id & gaia\\_source\\_id & gaia\\_ra & gaia\\_dec & radial\\_velocity & radial\\_velocity\\_error & radial\\_velocity\\_source & parallax\\_gaia & parallax\\_gaia\\_error & pmra\\_gaia & pmdec\\_gaia & pmra\\_gaia\\_error & pmdec\\_gaia\\_error & pmra\\_pmdec\\_gaia & pmra\\_hg & pmdec\\_hg & pmra\\_hg\\_error & pmdec\\_hg\\_error & pmra\\_pmdec\\_hg & pmra\\_hip & pmdec\\_hip & pmra\\_hip\\_error & pmdec\\_hip\\_error & pmra\\_pmdec\\_hip & epoch\\_ra\\_gaia & epoch\\_dec\\_gaia & epoch\\_ra\\_hip & epoch\\_dec\\_hip & crosscal\\_pmra\\_hip & crosscal\\_pmdec\\_hip & crosscal\\_pmra\\_hg & crosscal\\_pmdec\\_hg & nonlinear\\_dpmra & nonlinear\\_dpmdec & chisq\\\\\n",
       "\t\\hline\n",
       "\t& Int64 & Int64 & Float64 & Float64 & Float64? & Float64? & String15 & Float64 & Float64 & Float64 & Float64 & Float64 & Float64 & Float64 & Float64 & Float64 & Float64 & Float64 & Float64 & Float64 & Float64 & Float64 & Float64 & Float64 & Float64 & Float64 & Float64 & Float64 & Float64 & Float64 & Float64 & Float64 & Float64 & Float64 & Float64\\\\\n",
       "\t\\hline\n",
       "\t1 & 19233 & 4675955810263106432 & 61.8421 & -64.2209 & 28.5044 & 0.155054 & Gaia\\_DR2 & 42.382 & 0.0274924 & 186.418 & 337.075 & 0.0527617 & 0.0458047 & 0.208572 & 209.775 & 328.05 & 0.0136742 & 0.0143729 & -0.0662618 & 185.747 & 337.223 & 0.410465 & 0.45747 & -0.074494 & 2016.2 & 2016.04 & 1991.36 & 1991.21 & 0.0165383 & 0.293973 & 0.0095606 & 0.00929145 & -0.0135578 & -0.00602422 & 2.58323e5 \\\\\n",
       "\t2 & 17544 & 5080543413172761088 & 56.3521 & -27.862 & 32.522 & 0.183033 & Gaia\\_DR2 & 48.4931 & 0.0285364 & 303.236 & 111.826 & 0.028661 & 0.0362368 & -0.25705 & 315.158 & 123.197 & 0.0276666 & 0.0300863 & -0.229936 & 320.541 & 139.488 & 0.700119 & 0.81371 & 0.00505769 & 2016.27 & 2016.12 & 1991.22 & 1991.34 & -0.191166 & -0.135774 & -0.00215582 & 0.0118704 & -0.0133431 & -0.00155309 & 1.94791e5 \\\\\n",
       "\t3 & 25119 & 3234412606443085824 & 80.6565 & 2.60239 & 36.2951 & 0.243 & Gaia\\_DR2 & 50.5171 & 0.0368108 & 65.9528 & -182.17 & 0.0587524 & 0.0388484 & -0.297233 & 58.3898 & -160.637 & 0.0447782 & 0.0309374 & 0.284081 & 55.2318 & -139.336 & 1.35817 & 0.840188 & 0.19827 & 2016.28 & 2016.63 & 1991.05 & 1990.85 & -0.132147 & 0.158557 & -0.0124356 & 0.00754834 & -0.00315222 & 0.00881162 & 1.9276e5 \\\\\n",
       "\t4 & 103455 & 1844639838900425472 & 314.417 & 26.4055 & -26.797 & 0.20024 & Gaia\\_DR2 & 31.2765 & 0.036503 & 251.123 & 84.9655 & 0.0451634 & 0.0442197 & -0.260593 & 256.675 & 100.519 & 0.0172346 & 0.015751 & 0.00741566 & 272.954 & 96.1199 & 0.567809 & 0.494177 & 0.0149795 & 2016.25 & 2016.27 & 1991.47 & 1991.08 & -0.237511 & 0.254862 & -0.00274456 & 0.0138432 & 0.00595898 & -7.6631e-5 & 1.48103e5 \\\\\n",
       "\t5 & 117712 & 2232348941893483520 & 358.111 & 75.5447 & 4.6 & 0.2 & Gaia\\_DR2 & 91.7722 & 0.0424846 & 309.9 & 25.3336 & 0.0714962 & 0.0814236 & -0.348172 & 334.368 & 24.4612 & 0.0148906 & 0.0135989 & -0.100359 & 341.245 & 41.7322 & 0.460519 & 0.421117 & -0.127966 & 2016.26 & 2016.08 & 1991.49 & 1991.45 & -0.0486428 & 0.153616 & 0.000681684 & -0.0051896 & -0.00150423 & -0.022521 & 1.2429e5 \\\\\n",
       "\t6 & 89912 & 4586000675189058304 & 275.205 & 27.5308 & -20.9144 & 0.173702 & Gaia\\_DR2 & 34.6195 & 0.0240315 & 42.5762 & 88.6412 & 0.0267923 & 0.0297979 & 0.0322418 & 37.5562 & 98.3828 & 0.0142369 & 0.017255 & 0.0126017 & 40.788 & 105.877 & 0.479597 & 0.571104 & 0.00335314 & 2015.93 & 2016.06 & 1991.36 & 1991.45 & 0.0347571 & -0.13337 & -0.00169269 & -0.000480918 & 0.000889002 & 0.00155841 & 1.10084e5 \\\\\n",
       "\t7 & 68 & 2772904695310603520 & 0.200194 & 16.9868 & -17.7872 & 0.407923 & Gaia\\_DR2 & 33.259 & 0.0427849 & -52.2017 & -307.385 & 0.0753759 & 0.0413901 & -0.0393014 & -62.2969 & -322.491 & 0.0375684 & 0.0249622 & 0.384882 & -99.3582 & -317.879 & 1.0712 & 0.730856 & 0.335535 & 2015.73 & 2015.77 & 1991.19 & 1991.33 & -0.070675 & 0.248471 & 0.0197106 & -0.00865357 & -0.000479286 & -0.00460067 & 1.08029e5 \\\\\n",
       "\t8 & 85007 & 4570293086432167168 & 260.616 & 24.8786 & 34.1877 & 0.140003 & Gaia\\_DR2 & 33.5684 & 0.0166339 & 74.258 & -176.618 & 0.0189082 & 0.0221509 & 0.0211881 & 67.3057 & -173.888 & 0.0127318 & 0.0192025 & 0.140598 & 63.0605 & -160.505 & 0.433724 & 0.683268 & 0.125548 & 2016.09 & 2016.02 & 1991.3 & 1991.3 & -0.0508317 & -0.271464 & -0.00875678 & -0.00931728 & -0.00252259 & 0.00499101 & 1.05814e5 \\\\\n",
       "\t9 & 107062 & 1766575647197540480 & 325.255 & 11.2625 & -50.1466 & 0.14779 & Gaia\\_DR2 & 31.4285 & 0.0313921 & -75.1187 & -109.887 & 0.0390955 & 0.0428239 & 0.115052 & -68.0204 & -123.343 & 0.0471634 & 0.0252716 & 0.357898 & -72.5208 & -111.946 & 1.69563 & 0.924498 & 0.43533 & 2016.11 & 2016.54 & 1991.2 & 1991.82 & 0.136809 & 0.406002 & -0.00791931 & 0.00366027 & -0.00291692 & -0.00444304 & 1.03694e5 \\\\\n",
       "\t10 & 52296 & 5443030196164951168 & 160.29 & -36.8964 & 59.5555 & 2.64226 & Gaia\\_DR2 & 64.3363 & 0.0510218 & 213.073 & -219.335 & 0.0617464 & 0.0657668 & 0.126753 & 185.995 & -213.585 & 0.0621132 & 0.055059 & -0.0780013 & 166.411 & -194.344 & 1.94881 & 1.86089 & -0.277192 & 2016.08 & 2015.96 & 1991.41 & 1991.58 & -0.0107386 & -0.233993 & 0.00637458 & -0.0056602 & -0.0185018 & 0.0229826 & 1.01563e5 \\\\\n",
       "\t11 & 5842 & 4692276170589724288 & 18.7587 & -68.8186 & 9.0 & 1.51 & Gaia\\_DR2 & 47.4358 & 0.0609734 & 360.374 & 96.2495 & 0.113389 & 0.0851748 & -0.0263827 & 386.905 & 76.8404 & 0.0378315 & 0.0396693 & 0.0615424 & 416.853 & 75.8273 & 1.05106 & 1.04932 & -0.163042 & 2016.03 & 2015.73 & 1991.48 & 1991.5 & -0.126023 & 0.199048 & -0.0050145 & 0.00470424 & -0.00920615 & 0.0186625 & 90627.0 \\\\\n",
       "\t12 & 2743 & 4900637266186106752 & 8.77073 & -63.6975 & 3.4824 & 0.167415 & Gaia\\_DR2 & 35.0336 & 0.0268819 & 888.482 & -517.882 & 0.0413565 & 0.0379868 & -0.153357 & 888.22 & -531.101 & 0.0257402 & 0.0250002 & -0.00985396 & 881.883 & -534.847 & 0.75635 & 0.770658 & -0.0412355 & 2016.14 & 2015.93 & 1991.43 & 1991.26 & -0.0121515 & 0.113443 & -0.0126866 & 0.00601242 & 0.0529698 & 0.0971072 & 85941.8 \\\\\n",
       "\t13 & 102851 & 1858219151114884352 & 312.544 & 29.3839 & -8.57926 & 0.127422 & Gaia\\_DR2 & 49.5944 & 0.0281859 & -3.07656 & -36.2908 & 0.0275224 & 0.0363731 & -0.530836 & 7.32816 & -47.0069 & 0.0327257 & 0.0339231 & -0.141052 & 22.5271 & -60.1601 & 1.05225 & 1.01292 & 0.0562232 & 2016.1 & 2016.1 & 1991.37 & 1991.32 & -0.312969 & 0.015614 & -0.00301131 & 0.0218199 & -2.92798e-5 & -0.000390502 & 80091.4 \\\\\n",
       "\t14 & 73470 & 1586968533015434624 & 225.233 & 45.4277 & -13.3004 & 0.203745 & Gaia\\_DR2 & 85.4119 & 0.0255139 & 225.065 & 328.52 & 0.0341192 & 0.0421878 & 0.0475537 & 225.577 & 352.681 & 0.0492958 & 0.0743488 & -0.0447079 & 240.769 & 370.042 & 1.39082 & 1.3439 & 0.0356052 & 2016.04 & 2016.06 & 1991.27 & 1991.33 & -0.0944473 & -0.269745 & -0.00458205 & -0.00410684 & 0.0109729 & 0.00632698 & 80074.9 \\\\\n",
       "\t15 & 10138 & 4937000898856156288 & 32.623 & -50.8209 & 55.227 & 0.179832 & Gaia\\_DR2 & 92.9251 & 0.0460793 & 2125.42 & 637.975 & 0.065578 & 0.0843349 & -0.431304 & 2107.37 & 641.564 & 0.0134358 & 0.0151434 & -0.139443 & 2092.07 & 654.285 & 0.427399 & 0.462164 & -0.082702 & 2016.03 & 2015.79 & 1991.23 & 1991.38 & -0.0492099 & 0.188999 & -0.00223241 & 0.0055231 & -0.376799 & 0.246375 & 78929.4 \\\\\n",
       "\t16 & 30480 & 5477304657957793280 & 96.1107 & -63.4294 & 25.0876 & 0.172428 & Gaia\\_DR2 & 31.216 & 0.0553176 & -16.4436 & -86.0465 & 0.0960951 & 0.0854679 & -0.195427 & -2.52468 & -108.242 & 0.0153998 & 0.0166636 & -0.0845021 & 18.962 & -115.38 & 0.452496 & 0.479912 & -0.210885 & 2016.02 & 2016.27 & 1991.17 & 1991.35 & -0.221556 & 0.233935 & -0.000377512 & 0.0185145 & 0.000157151 & 0.00175132 & 74163.0 \\\\\n",
       "\t17 & 107133 & 6785377870401276288 & 325.517 & -30.5941 & 14.6872 & 4.3161 & Gaia\\_DR2 & 31.2922 & 0.0864468 & -69.4902 & 33.6033 & 0.19401 & 0.144985 & 0.233344 & -58.7139 & -3.62976 & 0.0715423 & 0.0414158 & 0.229269 & -58.3989 & 12.8948 & 2.32634 & 1.12116 & 0.115744 & 2016.63 & 2016.75 & 1991.07 & 1991.19 & -0.109926 & 0.13792 & -0.0193442 & 0.0114028 & 0.000918727 & -0.000228636 & 73642.9 \\\\\n",
       "\t18 & 22596 & 254503754623418240 & 72.9339 & 45.8316 & 30.0434 & 1.03826 & Gaia\\_DR2 & 32.2304 & 0.0294004 & 372.127 & -553.583 & 0.0505593 & 0.0389536 & -0.0318469 & 380.924 & -563.461 & 0.0303963 & 0.0223237 & 0.202157 & 375.713 & -564.452 & 1.10657 & 0.780127 & 0.161024 & 2016.07 & 2016.23 & 1991.18 & 1991.08 & 0.0115933 & 0.120964 & 0.00699292 & -0.00970893 & -0.0219775 & 0.00509916 & 72543.4 \\\\\n",
       "\t19 & 15799 & 4852870701505115904 & 50.8973 & -40.0762 & 12.1876 & 0.13443 & Gaia\\_DR2 & 56.557 & 0.027008 & 63.9855 & 35.1747 & 0.03279 & 0.0492621 & -0.22025 & 53.0357 & 39.153 & 0.025672 & 0.025322 & -0.040279 & 40.6461 & 42.8876 & 0.780498 & 0.778229 & 0.0977741 & 2015.84 & 2015.96 & 1991.37 & 1991.23 & -0.118366 & 0.0103926 & -0.0056278 & 0.00495976 & -0.00122102 & -0.000405137 & 69958.1 \\\\\n",
       "\t20 & 115112 & 2661015540211140864 & 349.729 & 5.4051 & -12.67 & 0.13 & Gaia\\_DR2 & 30.5538 & 0.0978089 & 482.018 & -115.306 & 0.111002 & 0.0916924 & 0.14085 & 472.444 & -92.1186 & 0.0623729 & 0.0449662 & 0.593748 & 438.883 & -96.9008 & 1.75241 & 1.41204 & 0.160065 & 2015.99 & 2015.91 & 1991.4 & 1991.34 & -0.152461 & 0.312805 & -0.00644311 & 0.00880984 & 0.0043459 & -0.00243192 & 69278.7 \\\\\n",
       "\t21 & 88745 & 4590758227641991424 & 271.756 & 30.5623 & -0.17374 & 0.146508 & Gaia\\_DR2 & 63.3943 & 0.0750006 & -100.15 & 53.9981 & 0.106199 & 0.113802 & 0.229514 & -73.9814 & 69.593 & 0.0139639 & 0.0160576 & 0.091315 & -100.822 & 110.653 & 0.410008 & 0.439499 & 0.0644455 & 2016.11 & 2016.1 & 1991.01 & 1991.22 & -0.269026 & -0.0924636 & -0.00817985 & -0.00958207 & -0.000228453 & -0.000345594 & 66473.8 \\\\\n",
       "\t22 & 67422 & 1451450048399808384 & 207.265 & 26.9794 & -20.46 & 0.09 & Gaia\\_DR2 & 74.0937 & 0.0370234 & -417.14 & -111.759 & 0.0491403 & 0.0313429 & -0.0464322 & -417.271 & -100.907 & 0.0359949 & 0.029415 & -0.033226 & -421.966 & -89.9471 & 0.976395 & 0.709254 & -0.0473839 & 2016.03 & 2015.85 & 1991.39 & 1991.25 & 0.213041 & -0.265986 & -0.0194419 & -0.004315 & -0.0144914 & -0.00954928 & 63803.7 \\\\\n",
       "\t23 & 3185 & 2347427402266219008 & 10.1398 & -23.8065 & -45.4163 & 0.169266 & Gaia\\_DR2 & 35.0508 & 0.0640764 & 668.109 & -346.811 & 0.0920473 & 0.0757268 & 0.294917 & 648.041 & -359.766 & 0.0198283 & 0.0144441 & 0.110052 & 635.53 & -363.204 & 0.616336 & 0.425162 & 0.0510046 & 2015.59 & 2015.85 & 1991.44 & 1991.36 & 0.156377 & 0.262086 & -0.0140645 & -0.00866104 & 0.0322137 & -0.00211541 & 57850.1 \\\\\n",
       "\t24 & 58576 & 3575733210781078016 & 180.186 & -10.4482 & -0.137881 & 0.13542 & Gaia\\_DR2 & 78.3359 & 0.0923265 & 83.7934 & -482.006 & 0.14135 & 0.0909886 & -0.223693 & 109.679 & -499.813 & 0.0195214 & 0.0131048 & -0.326185 & 141.753 & -483.612 & 0.50825 & 0.399632 & -0.331907 & 2015.8 & 2015.46 & 1991.3 & 1991.42 & -0.110992 & -0.121707 & -0.00227268 & 0.011904 & 0.000463564 & -3.00145e-5 & 57499.8 \\\\\n",
       "\t$\\dots$ & $\\dots$ & $\\dots$ & $\\dots$ & $\\dots$ & $\\dots$ & $\\dots$ & $\\dots$ & $\\dots$ & $\\dots$ & $\\dots$ & $\\dots$ & $\\dots$ & $\\dots$ & $\\dots$ & $\\dots$ & $\\dots$ & $\\dots$ & $\\dots$ & $\\dots$ & $\\dots$ & $\\dots$ & $\\dots$ & $\\dots$ & $\\dots$ & $\\dots$ & $\\dots$ & $\\dots$ & $\\dots$ & $\\dots$ & $\\dots$ & $\\dots$ & $\\dots$ & $\\dots$ & $\\dots$ & $\\dots$ \\\\\n",
       "\\end{tabular}\n"
      ],
      "text/plain": [
       "\u001b[1m1000×35 DataFrame\u001b[0m\n",
       "\u001b[1m  Row \u001b[0m│\u001b[1m hip_id \u001b[0m\u001b[1m gaia_source_id      \u001b[0m\u001b[1m gaia_ra    \u001b[0m\u001b[1m gaia_dec  \u001b[0m\u001b[1m radial_velocity \u001b[0m\u001b[1m radial_velocity_error \u001b[0m\u001b[1m radial_velocity_source \u001b[0m\u001b[1m parallax_gaia \u001b[0m\u001b[1m parallax_gaia_error \u001b[0m\u001b[1m pmra_gaia \u001b[0m\u001b[1m pmdec_gaia \u001b[0m\u001b[1m pmra_gaia_error \u001b[0m\u001b[1m pmdec_gaia_error \u001b[0m\u001b[1m pmra_pmdec_gaia \u001b[0m\u001b[1m pmra_hg   \u001b[0m\u001b[1m pmdec_hg  \u001b[0m\u001b[1m pmra_hg_error \u001b[0m\u001b[1m pmdec_hg_error \u001b[0m\u001b[1m pmra_pmdec_hg \u001b[0m\u001b[1m pmra_hip  \u001b[0m\u001b[1m pmdec_hip \u001b[0m\u001b[1m pmra_hip_error \u001b[0m\u001b[1m pmdec_hip_error \u001b[0m\u001b[1m pmra_pmdec_hip \u001b[0m\u001b[1m epoch_ra_gaia \u001b[0m\u001b[1m epoch_dec_gaia \u001b[0m\u001b[1m epoch_ra_hip \u001b[0m\u001b[1m epoch_dec_hip \u001b[0m\u001b[1m crosscal_pmra_hip \u001b[0m\u001b[1m crosscal_pmdec_hip \u001b[0m\u001b[1m crosscal_pmra_hg \u001b[0m\u001b[1m crosscal_pmdec_hg \u001b[0m\u001b[1m nonlinear_dpmra \u001b[0m\u001b[1m nonlinear_dpmdec \u001b[0m\u001b[1m chisq         \u001b[0m\n",
       "\u001b[1m      \u001b[0m│\u001b[90m Int64  \u001b[0m\u001b[90m Int64               \u001b[0m\u001b[90m Float64    \u001b[0m\u001b[90m Float64   \u001b[0m\u001b[90m Float64?        \u001b[0m\u001b[90m Float64?              \u001b[0m\u001b[90m String15               \u001b[0m\u001b[90m Float64       \u001b[0m\u001b[90m Float64             \u001b[0m\u001b[90m Float64   \u001b[0m\u001b[90m Float64    \u001b[0m\u001b[90m Float64         \u001b[0m\u001b[90m Float64          \u001b[0m\u001b[90m Float64         \u001b[0m\u001b[90m Float64   \u001b[0m\u001b[90m Float64   \u001b[0m\u001b[90m Float64       \u001b[0m\u001b[90m Float64        \u001b[0m\u001b[90m Float64       \u001b[0m\u001b[90m Float64   \u001b[0m\u001b[90m Float64   \u001b[0m\u001b[90m Float64        \u001b[0m\u001b[90m Float64         \u001b[0m\u001b[90m Float64        \u001b[0m\u001b[90m Float64       \u001b[0m\u001b[90m Float64        \u001b[0m\u001b[90m Float64      \u001b[0m\u001b[90m Float64       \u001b[0m\u001b[90m Float64           \u001b[0m\u001b[90m Float64            \u001b[0m\u001b[90m Float64          \u001b[0m\u001b[90m Float64           \u001b[0m\u001b[90m Float64         \u001b[0m\u001b[90m Float64          \u001b[0m\u001b[90m Float64       \u001b[0m\n",
       "──────┼────────────────────────────────────────────────────────────────────────────────────────────────────────────────────────────────────────────────────────────────────────────────────────────────────────────────────────────────────────────────────────────────────────────────────────────────────────────────────────────────────────────────────────────────────────────────────────────────────────────────────────────────────────────────────────────────────────────────────────────────────────────────────────────────────────────────────────────────────────\n",
       "    1 │  19233  4675955810263106432   61.8421    -64.2209          28.5044                0.155054  Gaia_DR2                      42.382             0.0274924   186.418     337.075         0.0527617         0.0458047        0.208572    209.775    328.05        0.0136742       0.0143729    -0.0662618    185.747    337.223         0.410465         0.45747      -0.074494          2016.2          2016.04       1991.36        1991.21          0.0165383          0.293973         0.0095606          0.00929145      -0.0135578        -0.00602422       2.58323e5\n",
       "    2 │  17544  5080543413172761088   56.3521    -27.862           32.522                 0.183033  Gaia_DR2                      48.4931            0.0285364   303.236     111.826         0.028661          0.0362368       -0.25705     315.158    123.197       0.0276666       0.0300863    -0.229936     320.541    139.488         0.700119         0.81371       0.00505769        2016.27         2016.12       1991.22        1991.34         -0.191166          -0.135774        -0.00215582         0.0118704       -0.0133431        -0.00155309       1.94791e5\n",
       "    3 │  25119  3234412606443085824   80.6565      2.60239         36.2951                0.243     Gaia_DR2                      50.5171            0.0368108    65.9528   -182.17          0.0587524         0.0388484       -0.297233     58.3898  -160.637       0.0447782       0.0309374     0.284081      55.2318  -139.336         1.35817          0.840188      0.19827           2016.28         2016.63       1991.05        1990.85         -0.132147           0.158557        -0.0124356          0.00754834      -0.00315222        0.00881162       1.9276e5\n",
       "    4 │ 103455  1844639838900425472  314.417      26.4055         -26.797                 0.20024   Gaia_DR2                      31.2765            0.036503    251.123      84.9655        0.0451634         0.0442197       -0.260593    256.675    100.519       0.0172346       0.015751      0.00741566   272.954     96.1199        0.567809         0.494177      0.0149795         2016.25         2016.27       1991.47        1991.08         -0.237511           0.254862        -0.00274456         0.0138432        0.00595898       -7.6631e-5        1.48103e5\n",
       "    5 │ 117712  2232348941893483520  358.111      75.5447           4.6                   0.2       Gaia_DR2                      91.7722            0.0424846   309.9        25.3336        0.0714962         0.0814236       -0.348172    334.368     24.4612      0.0148906       0.0135989    -0.100359     341.245     41.7322        0.460519         0.421117     -0.127966          2016.26         2016.08       1991.49        1991.45         -0.0486428          0.153616         0.000681684       -0.0051896       -0.00150423       -0.022521         1.2429e5\n",
       "    6 │  89912  4586000675189058304  275.205      27.5308         -20.9144                0.173702  Gaia_DR2                      34.6195            0.0240315    42.5762     88.6412        0.0267923         0.0297979        0.0322418    37.5562    98.3828      0.0142369       0.017255      0.0126017     40.788    105.877         0.479597         0.571104      0.00335314        2015.93         2016.06       1991.36        1991.45          0.0347571         -0.13337         -0.00169269        -0.000480918      0.000889002       0.00155841       1.10084e5\n",
       "    7 │     68  2772904695310603520    0.200194   16.9868         -17.7872                0.407923  Gaia_DR2                      33.259             0.0427849   -52.2017   -307.385         0.0753759         0.0413901       -0.0393014   -62.2969  -322.491       0.0375684       0.0249622     0.384882     -99.3582  -317.879         1.0712           0.730856      0.335535          2015.73         2015.77       1991.19        1991.33         -0.070675           0.248471         0.0197106         -0.00865357      -0.000479286      -0.00460067       1.08029e5\n",
       "    8 │  85007  4570293086432167168  260.616      24.8786          34.1877                0.140003  Gaia_DR2                      33.5684            0.0166339    74.258    -176.618         0.0189082         0.0221509        0.0211881    67.3057  -173.888       0.0127318       0.0192025     0.140598      63.0605  -160.505         0.433724         0.683268      0.125548          2016.09         2016.02       1991.3         1991.3          -0.0508317         -0.271464        -0.00875678        -0.00931728      -0.00252259        0.00499101       1.05814e5\n",
       "  ⋮   │   ⋮              ⋮               ⋮           ⋮             ⋮                   ⋮                      ⋮                   ⋮                 ⋮               ⋮          ⋮              ⋮                ⋮                 ⋮             ⋮          ⋮            ⋮              ⋮               ⋮            ⋮          ⋮            ⋮                ⋮               ⋮               ⋮              ⋮              ⋮              ⋮                ⋮                  ⋮                  ⋮                  ⋮                 ⋮                ⋮                ⋮\n",
       "  994 │  59296  6143175840408947840  182.477     -46.2088          -6.51896               0.171561  Gaia_DR2                      50.5536            0.0247927  -382.312     -84.0284        0.0290401         0.0243098        0.172782   -382.38     -83.9889      0.0215563       0.0221311     0.0429456   -382.317    -83.6825        0.615384         0.666509      0.0720688         2016.31         2016.17       1991.55        1991.04         -0.0690244         -0.11321         -0.00907221         0.00687         -0.00520046        0.00857944       5.51669\n",
       "  995 │   5799  2475331528340199936   18.6007     -7.9216          22.1133                0.239097  Gaia_DR2                      41.5747            0.105833    124.225     278.007         0.188062          0.188231         0.35392     124.552    277.841       0.0191082       0.0148392     0.366851     123.931    277.766         0.572819         0.457894      0.474162          2016.18         2015.86       1991.11        1991.38         -0.111935           0.252796         0.0130687          0.0159396       -0.00322754       -0.00629901       5.51304\n",
       "  996 │  25578  3338097377577012480   81.9998      9.64043         59.2                   0.5       Gaia_DR2                      97.8868            0.0287848  -191.344    -756.837         0.0399356         0.0290153       -0.168912   -191.379   -757.072       0.171437        0.0968952     0.230917    -191.074   -758.381         5.37601          3.10408       0.411925          2016.26         2016.66       1991.34        1990.85          0.226461           0.151536         0.0119866          0.003474         0.0297375         0.115437         5.5039\n",
       "  997 │  24472  3207120455805080832   78.7847     -7.34878         41.4081                0.336352  Gaia_DR2                      46.2462            0.014126    265.723    -433.364         0.020294          0.0144405       -0.290256    265.859   -433.552       0.11294         0.0893125    -0.0407004    261.255   -432.094         3.76007          2.44703      -0.180981          2016.15         2016.41       1990.92        1991.2           0.308836           0.202875        -0.00613658         0.0190501       -0.0122307         0.0219636        5.49377\n",
       "  998 │  27080  4657193606465368704   86.1289    -70.1379          14.088                 0.198421  Gaia_DR2                      37.8235            0.0206376  -309.273    1238.86          0.0329475         0.0346346       -0.122923   -309.343   1238.8         0.0238048       0.0251425    -0.149608    -309.572   1238.8           0.689417         0.831768     -0.245697          2016.08         2016.42       1991.59        1991.49         -0.275537          -0.00649473      -0.00747689         0.00239634       0.0671345        -0.000859317      5.49056\n",
       "  999 │  65520  6188331614726318720  201.451     -28.3745         -27.6598                0.403006  Gaia_DR2                      64.9887            0.024003   -451.693    -103.847         0.0308116         0.0240034       -0.168238   -451.726   -103.984       0.0873305       0.0556497    -0.0770625   -452.923   -105.096         2.44373          1.54489      -0.0564072         2016.19         2016.36       1991.22        1990.94         -0.286002           0.0878964       -0.0231759         -0.0242838       -0.0222561         0.00194143       5.47168\n",
       " 1000 │  25716  3390818582171734656   82.3622     15.5767          -5.10077               0.602658  Gaia_DR2                      58.1993            0.0216156   -83.5683   -127.979         0.0270149         0.0176656       -0.399039    -83.668   -128.06        0.0775281       0.0367356     0.0517616    -82.8321  -127.612         2.45004          1.21304       0.312495          2016.29         2016.73       1991.18        1990.64         -0.389047           0.0344877        0.0289052          0.00224171      -0.000455364      -0.00113526       5.45387\n",
       "\u001b[36m                                                                                                                                                                                                                                                                                                                                                                                                                                                                                                                                                               985 rows omitted\u001b[0m"
      ]
     },
     "metadata": {},
     "output_type": "display_data"
    }
   ],
   "source": [
    "nearby = filter(hgca) do row\n",
    "    row.parallax_gaia > 30 # About 40pc\n",
    "end\n",
    "\n",
    "\n",
    "sort!(nearby, [:chisq], rev=true)\n",
    "\n",
    "# And let's pick the top  1000\n",
    "beststars = nearby[1:1000, :]"
   ]
  },
  {
   "cell_type": "markdown",
   "metadata": {},
   "source": [
    "## Plotting\n",
    "\n",
    "There are two great sets of plotting packages: `Plots.jl` and `Makie.jl`. Makie is a little slow to start creates really beautiful, interactive plots, so we'll use that today."
   ]
  },
  {
   "cell_type": "code",
   "execution_count": 3,
   "metadata": {},
   "outputs": [],
   "source": [
    "using WGLMakie\n",
    "\n",
    "# CairoMakie: for nice PDF exports, figures for papers\n",
    "# GLMakie   : for interactive or 3D plots in a separate window\n",
    "# WGLMakie  : for quick interactive plots in Jupyter"
   ]
  },
  {
   "cell_type": "markdown",
   "metadata": {},
   "source": [
    "For presenting this notebook, I would like a larger font size"
   ]
  },
  {
   "cell_type": "code",
   "execution_count": 8,
   "metadata": {},
   "outputs": [],
   "source": [
    "fontsize_theme = Theme(fontsize =20)\n",
    "set_theme!(fontsize_theme)"
   ]
  },
  {
   "cell_type": "code",
   "execution_count": 41,
   "metadata": {},
   "outputs": [
    {
     "data": {
      "text/html": [
       "<div data-jscall-id=\"36\"><script data-jscall-id=\"37\" type=\"text/javascript\">\n",
       "    function register_resize_handler(remote_origin) {\n",
       "        function resize_callback(event) {\n",
       "            if (event.origin !== remote_origin) {\n",
       "                return;\n",
       "            }\n",
       "            const uuid = event.data[0];\n",
       "            const width = event.data[1];\n",
       "            const height = event.data[2];\n",
       "            const iframe = document.getElementById('4e834c83-9c57-4ab3-a227-bd9aeeed7688');\n",
       "            if (iframe) {\n",
       "                iframe.style.width = width + \"px\";\n",
       "                iframe.style.height = height + \"px\";\n",
       "            }\n",
       "        }\n",
       "        if (window.addEventListener) {\n",
       "            window.addEventListener(\"message\", resize_callback, false);\n",
       "        } else if (window.attachEvent) {\n",
       "            window.attachEvent(\"onmessage\", resize_callback);\n",
       "        }\n",
       "    }\n",
       "    register_resize_handler('http://127.0.0.1:9284')\n",
       "\n",
       "</script><iframe scrolling=\"no\" id=\"4e834c83-9c57-4ab3-a227-bd9aeeed7688\" data-jscall-id=\"35\" src=\"http://127.0.0.1:9284/4e834c83-9c57-4ab3-a227-bd9aeeed7688\" style=\"position: relative; display: block; width: 100%; height: 100%; padding: 0; overflow: hidden; border: none\"></iframe></div>\n"
      ]
     },
     "metadata": {},
     "output_type": "display_data"
    }
   ],
   "source": [
    "lines(1:90, sind.(1:90), axis=(xlabel=\"x\", ylabel=\"y\"))"
   ]
  },
  {
   "cell_type": "code",
   "execution_count": null,
   "metadata": {},
   "outputs": [],
   "source": [
    "x = range(-π, π, length=100)\n",
    "y = range(-π, π, length=100)\n",
    "z = sinc.(sqrt.(x.^2 .+ y'.^2))\n",
    "\n",
    "surface(x, y, z, colormap=:plasma)"
   ]
  },
  {
   "cell_type": "markdown",
   "metadata": {},
   "source": [
    "More complex layout:"
   ]
  },
  {
   "cell_type": "code",
   "execution_count": null,
   "metadata": {},
   "outputs": [],
   "source": [
    "fig = Figure(\n",
    "    resolution=(800,800)\n",
    ")\n",
    "\n",
    "xx = π/2*randn(1000)\n",
    "yy = π/2*randn(1000)\n",
    "\n",
    "ax1 = Makie.Axis(fig[1,1], xlabel=\"x\", ylabel=\"y\")\n",
    "scatter!(ax1, xx, yy, )\n",
    "\n",
    "ax2 = Makie.Axis(fig[2,1], xlabel=\"x\", ylabel=\"y\")\n",
    "h = contourf!(ax2, x, y, z)\n",
    "\n",
    "Colorbar(fig[1:2, 2], h, label=\"Colorbar\")\n",
    "\n",
    "\n",
    "linkxaxes!(ax1, ax2)\n",
    "\n",
    "fig"
   ]
  },
  {
   "cell_type": "markdown",
   "metadata": {},
   "source": [
    "## Plotting our DataFrame\n",
    "Returning to our catalog of favourite stars (that likely have companions), let's plot their positions in the sky\n"
   ]
  },
  {
   "cell_type": "code",
   "execution_count": 43,
   "metadata": {},
   "outputs": [
    {
     "data": {
      "text/html": [
       "<div data-jscall-id=\"70\"><script data-jscall-id=\"71\" type=\"text/javascript\">\n",
       "    function register_resize_handler(remote_origin) {\n",
       "        function resize_callback(event) {\n",
       "            if (event.origin !== remote_origin) {\n",
       "                return;\n",
       "            }\n",
       "            const uuid = event.data[0];\n",
       "            const width = event.data[1];\n",
       "            const height = event.data[2];\n",
       "            const iframe = document.getElementById('390fc5a7-6333-4513-b00e-03d221e75480');\n",
       "            if (iframe) {\n",
       "                iframe.style.width = width + \"px\";\n",
       "                iframe.style.height = height + \"px\";\n",
       "            }\n",
       "        }\n",
       "        if (window.addEventListener) {\n",
       "            window.addEventListener(\"message\", resize_callback, false);\n",
       "        } else if (window.attachEvent) {\n",
       "            window.attachEvent(\"onmessage\", resize_callback);\n",
       "        }\n",
       "    }\n",
       "    register_resize_handler('http://127.0.0.1:9284')\n",
       "\n",
       "</script><iframe scrolling=\"no\" id=\"390fc5a7-6333-4513-b00e-03d221e75480\" data-jscall-id=\"69\" src=\"http://127.0.0.1:9284/390fc5a7-6333-4513-b00e-03d221e75480\" style=\"position: relative; display: block; width: 100%; height: 100%; padding: 0; overflow: hidden; border: none\"></iframe></div>\n"
      ]
     },
     "metadata": {},
     "output_type": "display_data"
    }
   ],
   "source": [
    "fig,ax,pl = scatter(\n",
    "    beststars.gaia_ra,\n",
    "    beststars.gaia_dec,\n",
    "    markersize=beststars.parallax_gaia ./ 5,\n",
    "    color=log.(beststars.chisq),\n",
    "    colormap=:turbo,\n",
    "    axis=(;\n",
    "        backgroundcolor=:black,\n",
    "        gridcolor=:white,\n",
    "        xlabel=\"RA\",\n",
    "        ylabel=\"DEC\",\n",
    "    )\n",
    ")\n",
    "Colorbar(fig[1,2], pl, label=\"significance\")\n",
    "fig"
   ]
  },
  {
   "cell_type": "code",
   "execution_count": 98,
   "metadata": {},
   "outputs": [
    {
     "data": {
      "text/html": [
       "<div data-jscall-id=\"689\"><script data-jscall-id=\"690\" type=\"text/javascript\">\n",
       "    function register_resize_handler(remote_origin) {\n",
       "        function resize_callback(event) {\n",
       "            if (event.origin !== remote_origin) {\n",
       "                return;\n",
       "            }\n",
       "            const uuid = event.data[0];\n",
       "            const width = event.data[1];\n",
       "            const height = event.data[2];\n",
       "            const iframe = document.getElementById('9cb22392-bea7-4fff-aa4d-c918c35ca7de');\n",
       "            if (iframe) {\n",
       "                iframe.style.width = width + \"px\";\n",
       "                iframe.style.height = height + \"px\";\n",
       "            }\n",
       "        }\n",
       "        if (window.addEventListener) {\n",
       "            window.addEventListener(\"message\", resize_callback, false);\n",
       "        } else if (window.attachEvent) {\n",
       "            window.attachEvent(\"onmessage\", resize_callback);\n",
       "        }\n",
       "    }\n",
       "    register_resize_handler('http://127.0.0.1:9284')\n",
       "\n",
       "</script><iframe scrolling=\"no\" id=\"9cb22392-bea7-4fff-aa4d-c918c35ca7de\" data-jscall-id=\"688\" src=\"http://127.0.0.1:9284/9cb22392-bea7-4fff-aa4d-c918c35ca7de\" style=\"position: relative; display: block; width: 100%; height: 100%; padding: 0; overflow: hidden; border: none\"></iframe></div>\n"
      ]
     },
     "metadata": {},
     "output_type": "display_data"
    }
   ],
   "source": [
    "ρ = 1 ./ (nearby.parallax_gaia .* 1e-3)\n",
    "φ = nearby.gaia_ra\n",
    "θ = nearby.gaia_dec\n",
    "rv = nearby.radial_velocity\n",
    "rv[ismissing.(rv)] .= 0\n",
    "\n",
    "# Spherical to Cartesian conversion\n",
    "x = @. ρ * sin(φ) * cos(θ)\n",
    "y = @. ρ * sin(φ) * sin(θ)\n",
    "z = @. ρ * cos(φ)\n",
    "# scatter(x, y, z)\n",
    "fig, ax, pl = scatter(\n",
    "    x,\n",
    "    y,\n",
    "    z,\n",
    "    markersize=1000,\n",
    "    color=atan.(rv),\n",
    "    colormap = :bkr,\n",
    "    axis = (;\n",
    "        backgroundcolor=:black\n",
    "    ),\n",
    "    figure = (;\n",
    "        resolution = (1200,900),\n",
    "        backgroundcolor=:black\n",
    "\n",
    "    )\n",
    ")\n",
    "scatter!(ax, [0],[0],[0], marker='⋆', color=:yellow, markersize=10000)\n",
    "fig"
   ]
  },
  {
   "cell_type": "markdown",
   "metadata": {},
   "source": [
    "## Statistical Modelling\n",
    "\n",
    "The package [Turing.jl](https://turing.ml/stable/) offers a powerful language for doing Bayesian modelling.\n",
    "The syntax  $ x \\sim \\rm{Normal(1,2)} $ is a little uncommon in astronomy, but in Statistics it's a standard way of saying that $x$ is a random variable with the probability distribution of $1 \\pm 2$.\n",
    "\n",
    "Like most Julia packages, Turing can be mixed with other packages to create something better than the sum of it's parts. For example, you can combine Turing with the Flux.jl deep learning library to create Bayesian neural nets.\n",
    "\n",
    "We'll start by generating some simulated data of a linear relationship:"
   ]
  },
  {
   "cell_type": "code",
   "execution_count": 107,
   "metadata": {},
   "outputs": [
    {
     "data": {
      "text/html": [
       "<div data-jscall-id=\"825\"><script data-jscall-id=\"826\" type=\"text/javascript\">\n",
       "    function register_resize_handler(remote_origin) {\n",
       "        function resize_callback(event) {\n",
       "            if (event.origin !== remote_origin) {\n",
       "                return;\n",
       "            }\n",
       "            const uuid = event.data[0];\n",
       "            const width = event.data[1];\n",
       "            const height = event.data[2];\n",
       "            const iframe = document.getElementById('de7c00f3-9b28-448e-94dd-032ac4f49572');\n",
       "            if (iframe) {\n",
       "                iframe.style.width = width + \"px\";\n",
       "                iframe.style.height = height + \"px\";\n",
       "            }\n",
       "        }\n",
       "        if (window.addEventListener) {\n",
       "            window.addEventListener(\"message\", resize_callback, false);\n",
       "        } else if (window.attachEvent) {\n",
       "            window.attachEvent(\"onmessage\", resize_callback);\n",
       "        }\n",
       "    }\n",
       "    register_resize_handler('http://127.0.0.1:9284')\n",
       "\n",
       "</script><iframe scrolling=\"no\" id=\"de7c00f3-9b28-448e-94dd-032ac4f49572\" data-jscall-id=\"824\" src=\"http://127.0.0.1:9284/de7c00f3-9b28-448e-94dd-032ac4f49572\" style=\"position: relative; display: block; width: 100%; height: 100%; padding: 0; overflow: hidden; border: none\"></iframe></div>\n"
      ]
     },
     "metadata": {},
     "output_type": "display_data"
    }
   ],
   "source": [
    "N = 40\n",
    "x = 20rand(N)\n",
    "m = 0.4\n",
    "b = 4\n",
    "y = m .* x .+ b .+ 2randn(N)\n",
    "\n",
    "scatter(\n",
    "    x, y,\n",
    "    axis=(\n",
    "        xlabel=\"x\",\n",
    "        ylabel=\"y\",\n",
    "    )\n",
    ")"
   ]
  },
  {
   "cell_type": "code",
   "execution_count": 111,
   "metadata": {},
   "outputs": [
    {
     "name": "stderr",
     "output_type": "stream",
     "text": [
      "\u001b[32mSampling   0%|█                                         |  ETA: N/A\u001b[39m\n",
      "\u001b[90mSampling 100%|██████████████████████████████████████████| Time: 0:00:02\u001b[39m\n",
      "\u001b[32mSampling   0%|█                                         |  ETA: N/A\u001b[39m\n",
      "\u001b[90mSampling 100%|██████████████████████████████████████████| Time: 0:00:00\u001b[39m\n",
      "\u001b[32mSampling   0%|█                                         |  ETA: N/A\u001b[39m\n",
      "┌ Info: Found initial step size\n",
      "│   ϵ = 0.025\n",
      "└ @ Turing.Inference C:\\Users\\William\\.julia\\packages\\Turing\\QRn5N\\src\\inference\\hmc.jl:188\n",
      "\u001b[32mSampling   0%|█                                         |  ETA: 0:41:37\u001b[39m\n",
      "\u001b[32mSampling   1%|█                                         |  ETA: 0:20:46\u001b[39m\n",
      "\u001b[32mSampling   2%|█                                         |  ETA: 0:13:47\u001b[39m\n",
      "\u001b[32mSampling   2%|█                                         |  ETA: 0:10:17\u001b[39m\n",
      "\u001b[32mSampling   2%|██                                        |  ETA: 0:08:12\u001b[39m\n",
      "\u001b[32mSampling   3%|██                                        |  ETA: 0:06:48\u001b[39m\n",
      "\u001b[32mSampling   4%|██                                        |  ETA: 0:05:48\u001b[39m\n",
      "\u001b[32mSampling   4%|██                                        |  ETA: 0:05:03\u001b[39m\n",
      "\u001b[32mSampling   4%|██                                        |  ETA: 0:04:28\u001b[39m\n",
      "\u001b[32mSampling   5%|███                                       |  ETA: 0:04:00\u001b[39m\n",
      "\u001b[32mSampling   6%|███                                       |  ETA: 0:03:37\u001b[39m\n",
      "\u001b[32mSampling   6%|███                                       |  ETA: 0:03:18\u001b[39m\n",
      "\u001b[32mSampling   6%|███                                       |  ETA: 0:03:02\u001b[39m\n",
      "\u001b[32mSampling   7%|███                                       |  ETA: 0:02:48\u001b[39m\n",
      "\u001b[32mSampling   8%|████                                      |  ETA: 0:02:36\u001b[39m\n",
      "\u001b[32mSampling   8%|████                                      |  ETA: 0:02:25\u001b[39m\n",
      "\u001b[32mSampling   8%|████                                      |  ETA: 0:02:16\u001b[39m\n",
      "\u001b[32mSampling   9%|████                                      |  ETA: 0:02:08\u001b[39m\n",
      "\u001b[32mSampling  10%|████                                      |  ETA: 0:02:00\u001b[39m\n",
      "\u001b[32mSampling  10%|█████                                     |  ETA: 0:01:54\u001b[39m\n",
      "\u001b[32mSampling  10%|█████                                     |  ETA: 0:01:48\u001b[39m\n",
      "\u001b[32mSampling  11%|█████                                     |  ETA: 0:01:42\u001b[39m\n",
      "\u001b[32mSampling  12%|█████                                     |  ETA: 0:01:37\u001b[39m\n",
      "\u001b[32mSampling  12%|██████                                    |  ETA: 0:01:33\u001b[39m\n",
      "\u001b[32mSampling  12%|██████                                    |  ETA: 0:01:29\u001b[39m\n",
      "\u001b[32mSampling  13%|██████                                    |  ETA: 0:01:25\u001b[39m\n",
      "\u001b[32mSampling  14%|██████                                    |  ETA: 0:01:21\u001b[39m\n",
      "\u001b[32mSampling  14%|██████                                    |  ETA: 0:01:18\u001b[39m\n",
      "\u001b[32mSampling  14%|███████                                   |  ETA: 0:01:15\u001b[39m\n",
      "\u001b[32mSampling  15%|███████                                   |  ETA: 0:01:12\u001b[39m\n",
      "\u001b[32mSampling  16%|███████                                   |  ETA: 0:01:09\u001b[39m\n",
      "\u001b[32mSampling  16%|███████                                   |  ETA: 0:01:07\u001b[39m\n",
      "\u001b[32mSampling  16%|███████                                   |  ETA: 0:01:04\u001b[39m\n",
      "\u001b[32mSampling  17%|████████                                  |  ETA: 0:01:02\u001b[39m\n",
      "\u001b[32mSampling  18%|████████                                  |  ETA: 0:01:00\u001b[39m\n",
      "\u001b[32mSampling  18%|████████                                  |  ETA: 0:00:58\u001b[39m\n",
      "\u001b[32mSampling  18%|████████                                  |  ETA: 0:00:56\u001b[39m\n",
      "\u001b[32mSampling  19%|████████                                  |  ETA: 0:00:54\u001b[39m\n",
      "\u001b[32mSampling  20%|█████████                                 |  ETA: 0:00:52\u001b[39m\n",
      "\u001b[32mSampling  20%|█████████                                 |  ETA: 0:00:51\u001b[39m\n",
      "\u001b[32mSampling  20%|█████████                                 |  ETA: 0:00:49\u001b[39m\n",
      "\u001b[32mSampling  21%|█████████                                 |  ETA: 0:00:48\u001b[39m\n",
      "\u001b[32mSampling  22%|██████████                                |  ETA: 0:00:47\u001b[39m\n",
      "\u001b[32mSampling  22%|██████████                                |  ETA: 0:00:45\u001b[39m\n",
      "\u001b[32mSampling  22%|██████████                                |  ETA: 0:00:44\u001b[39m\n",
      "\u001b[32mSampling  23%|██████████                                |  ETA: 0:00:43\u001b[39m\n",
      "\u001b[32mSampling  24%|██████████                                |  ETA: 0:00:42\u001b[39m\n",
      "\u001b[32mSampling  24%|███████████                               |  ETA: 0:00:41\u001b[39m\n",
      "\u001b[32mSampling  24%|███████████                               |  ETA: 0:00:39\u001b[39m\n",
      "\u001b[32mSampling  25%|███████████                               |  ETA: 0:00:38\u001b[39m\n",
      "\u001b[32mSampling  26%|███████████                               |  ETA: 0:00:37\u001b[39m\n",
      "\u001b[32mSampling  26%|███████████                               |  ETA: 0:00:36\u001b[39m\n",
      "\u001b[32mSampling  27%|████████████                              |  ETA: 0:00:36\u001b[39m\n",
      "\u001b[32mSampling  27%|████████████                              |  ETA: 0:00:35\u001b[39m\n",
      "\u001b[32mSampling  28%|████████████                              |  ETA: 0:00:34\u001b[39m\n",
      "\u001b[32mSampling  28%|████████████                              |  ETA: 0:00:33\u001b[39m\n",
      "\u001b[32mSampling  29%|████████████                              |  ETA: 0:00:32\u001b[39m\n",
      "\u001b[32mSampling  29%|█████████████                             |  ETA: 0:00:31\u001b[39m\n",
      "\u001b[32mSampling  30%|█████████████                             |  ETA: 0:00:31\u001b[39m\n",
      "\u001b[32mSampling  30%|█████████████                             |  ETA: 0:00:30\u001b[39m\n",
      "\u001b[32mSampling  31%|█████████████                             |  ETA: 0:00:29\u001b[39m\n",
      "\u001b[32mSampling  31%|██████████████                            |  ETA: 0:00:29\u001b[39m\n",
      "\u001b[32mSampling  32%|██████████████                            |  ETA: 0:00:28\u001b[39m\n",
      "\u001b[32mSampling  32%|██████████████                            |  ETA: 0:00:27\u001b[39m\n",
      "\u001b[32mSampling  33%|██████████████                            |  ETA: 0:00:27\u001b[39m\n",
      "\u001b[32mSampling  33%|██████████████                            |  ETA: 0:00:26\u001b[39m\n",
      "\u001b[32mSampling  34%|███████████████                           |  ETA: 0:00:26\u001b[39m\n",
      "\u001b[32mSampling  34%|███████████████                           |  ETA: 0:00:25\u001b[39m\n",
      "\u001b[32mSampling  35%|███████████████                           |  ETA: 0:00:24\u001b[39m\n",
      "\u001b[32mSampling  35%|███████████████                           |  ETA: 0:00:24\u001b[39m\n",
      "\u001b[32mSampling  36%|███████████████                           |  ETA: 0:00:23\u001b[39m\n",
      "\u001b[32mSampling  36%|████████████████                          |  ETA: 0:00:23\u001b[39m\n",
      "\u001b[32mSampling  37%|████████████████                          |  ETA: 0:00:22\u001b[39m\n",
      "\u001b[32mSampling  37%|████████████████                          |  ETA: 0:00:22\u001b[39m\n",
      "\u001b[32mSampling  38%|████████████████                          |  ETA: 0:00:21\u001b[39m\n",
      "\u001b[32mSampling  38%|████████████████                          |  ETA: 0:00:21\u001b[39m\n",
      "\u001b[32mSampling  39%|█████████████████                         |  ETA: 0:00:21\u001b[39m\n",
      "\u001b[32mSampling  39%|█████████████████                         |  ETA: 0:00:20\u001b[39m\n",
      "\u001b[32mSampling  40%|█████████████████                         |  ETA: 0:00:20\u001b[39m\n",
      "\u001b[32mSampling  40%|█████████████████                         |  ETA: 0:00:19\u001b[39m\n",
      "\u001b[32mSampling  41%|██████████████████                        |  ETA: 0:00:19\u001b[39m\n",
      "\u001b[32mSampling  41%|██████████████████                        |  ETA: 0:00:19\u001b[39m\n",
      "\u001b[32mSampling  42%|██████████████████                        |  ETA: 0:00:18\u001b[39m\n",
      "\u001b[32mSampling  42%|██████████████████                        |  ETA: 0:00:18\u001b[39m\n",
      "\u001b[32mSampling  43%|██████████████████                        |  ETA: 0:00:17\u001b[39m\n",
      "\u001b[32mSampling  43%|███████████████████                       |  ETA: 0:00:17\u001b[39m\n",
      "\u001b[32mSampling  44%|███████████████████                       |  ETA: 0:00:17\u001b[39m\n",
      "\u001b[32mSampling  44%|███████████████████                       |  ETA: 0:00:16\u001b[39m\n",
      "\u001b[32mSampling  45%|███████████████████                       |  ETA: 0:00:16\u001b[39m\n",
      "\u001b[32mSampling  45%|███████████████████                       |  ETA: 0:00:16\u001b[39m\n",
      "\u001b[32mSampling  46%|████████████████████                      |  ETA: 0:00:15\u001b[39m\n",
      "\u001b[32mSampling  46%|████████████████████                      |  ETA: 0:00:15\u001b[39m\n",
      "\u001b[32mSampling  47%|████████████████████                      |  ETA: 0:00:15\u001b[39m"
     ]
    },
    {
     "name": "stderr",
     "output_type": "stream",
     "text": [
      "\n",
      "\u001b[32mSampling  47%|████████████████████                      |  ETA: 0:00:15\u001b[39m\n",
      "\u001b[32mSampling  48%|████████████████████                      |  ETA: 0:00:14\u001b[39m\n",
      "\u001b[32mSampling  48%|█████████████████████                     |  ETA: 0:00:14\u001b[39m\n",
      "\u001b[32mSampling  49%|█████████████████████                     |  ETA: 0:00:14\u001b[39m\n",
      "\u001b[32mSampling  49%|█████████████████████                     |  ETA: 0:00:13\u001b[39m\n",
      "\u001b[32mSampling  50%|█████████████████████                     |  ETA: 0:00:13\u001b[39m\n",
      "\u001b[32mSampling  50%|██████████████████████                    |  ETA: 0:00:13\u001b[39m\n",
      "\u001b[32mSampling  51%|██████████████████████                    |  ETA: 0:00:13\u001b[39m\n",
      "\u001b[32mSampling  51%|██████████████████████                    |  ETA: 0:00:12\u001b[39m\n",
      "\u001b[32mSampling  52%|██████████████████████                    |  ETA: 0:00:12\u001b[39m\n",
      "\u001b[32mSampling  52%|██████████████████████                    |  ETA: 0:00:12\u001b[39m\n",
      "\u001b[32mSampling  53%|███████████████████████                   |  ETA: 0:00:12\u001b[39m\n",
      "\u001b[32mSampling  53%|███████████████████████                   |  ETA: 0:00:11\u001b[39m\n",
      "\u001b[32mSampling  54%|███████████████████████                   |  ETA: 0:00:11\u001b[39m\n",
      "\u001b[32mSampling  54%|███████████████████████                   |  ETA: 0:00:11\u001b[39m\n",
      "\u001b[32mSampling  55%|███████████████████████                   |  ETA: 0:00:11\u001b[39m\n",
      "\u001b[32mSampling  55%|████████████████████████                  |  ETA: 0:00:11\u001b[39m\n",
      "\u001b[32mSampling  56%|████████████████████████                  |  ETA: 0:00:10\u001b[39m\n",
      "\u001b[32mSampling  56%|████████████████████████                  |  ETA: 0:00:10\u001b[39m\n",
      "\u001b[32mSampling  57%|████████████████████████                  |  ETA: 0:00:10\u001b[39m\n",
      "\u001b[32mSampling  57%|████████████████████████                  |  ETA: 0:00:10\u001b[39m\n",
      "\u001b[32mSampling  58%|█████████████████████████                 |  ETA: 0:00:10\u001b[39m\n",
      "\u001b[32mSampling  58%|█████████████████████████                 |  ETA: 0:00:09\u001b[39m\n",
      "\u001b[32mSampling  59%|█████████████████████████                 |  ETA: 0:00:09\u001b[39m\n",
      "\u001b[32mSampling  59%|█████████████████████████                 |  ETA: 0:00:09\u001b[39m\n",
      "\u001b[32mSampling  60%|██████████████████████████                |  ETA: 0:00:09\u001b[39m\n",
      "\u001b[32mSampling  60%|██████████████████████████                |  ETA: 0:00:09\u001b[39m\n",
      "\u001b[32mSampling  61%|██████████████████████████                |  ETA: 0:00:08\u001b[39m\n",
      "\u001b[32mSampling  61%|██████████████████████████                |  ETA: 0:00:08\u001b[39m\n",
      "\u001b[32mSampling  62%|██████████████████████████                |  ETA: 0:00:08\u001b[39m\n",
      "\u001b[32mSampling  62%|███████████████████████████               |  ETA: 0:00:08\u001b[39m\n",
      "\u001b[32mSampling  63%|███████████████████████████               |  ETA: 0:00:08\u001b[39m\n",
      "\u001b[32mSampling  63%|███████████████████████████               |  ETA: 0:00:08\u001b[39m\n",
      "\u001b[32mSampling  64%|███████████████████████████               |  ETA: 0:00:07\u001b[39m\n",
      "\u001b[32mSampling  64%|███████████████████████████               |  ETA: 0:00:07\u001b[39m\n",
      "\u001b[32mSampling  65%|████████████████████████████              |  ETA: 0:00:07\u001b[39m\n",
      "\u001b[32mSampling  65%|████████████████████████████              |  ETA: 0:00:07\u001b[39m\n",
      "\u001b[32mSampling  66%|████████████████████████████              |  ETA: 0:00:07\u001b[39m\n",
      "\u001b[32mSampling  66%|████████████████████████████              |  ETA: 0:00:07\u001b[39m\n",
      "\u001b[32mSampling  67%|████████████████████████████              |  ETA: 0:00:07\u001b[39m\n",
      "\u001b[32mSampling  67%|█████████████████████████████             |  ETA: 0:00:06\u001b[39m\n",
      "\u001b[32mSampling  68%|█████████████████████████████             |  ETA: 0:00:06\u001b[39m\n",
      "\u001b[32mSampling  68%|█████████████████████████████             |  ETA: 0:00:06\u001b[39m\n",
      "\u001b[32mSampling  69%|█████████████████████████████             |  ETA: 0:00:06\u001b[39m\n",
      "\u001b[32mSampling  69%|█████████████████████████████             |  ETA: 0:00:06\u001b[39m\n",
      "\u001b[32mSampling  70%|██████████████████████████████            |  ETA: 0:00:06\u001b[39m\n",
      "\u001b[32mSampling  70%|██████████████████████████████            |  ETA: 0:00:06\u001b[39m\n",
      "\u001b[32mSampling  71%|██████████████████████████████            |  ETA: 0:00:05\u001b[39m\n",
      "\u001b[32mSampling  71%|██████████████████████████████            |  ETA: 0:00:05\u001b[39m\n",
      "\u001b[32mSampling  72%|███████████████████████████████           |  ETA: 0:00:05\u001b[39m\n",
      "\u001b[32mSampling  72%|███████████████████████████████           |  ETA: 0:00:05\u001b[39m\n",
      "\u001b[32mSampling  73%|███████████████████████████████           |  ETA: 0:00:05\u001b[39m\n",
      "\u001b[32mSampling  73%|███████████████████████████████           |  ETA: 0:00:05\u001b[39m\n",
      "\u001b[32mSampling  74%|███████████████████████████████           |  ETA: 0:00:05\u001b[39m\n",
      "\u001b[32mSampling  74%|████████████████████████████████          |  ETA: 0:00:05\u001b[39m\n",
      "\u001b[32mSampling  75%|████████████████████████████████          |  ETA: 0:00:04\u001b[39m\n",
      "\u001b[32mSampling  75%|████████████████████████████████          |  ETA: 0:00:04\u001b[39m\n",
      "\u001b[32mSampling  76%|████████████████████████████████          |  ETA: 0:00:04\u001b[39m\n",
      "\u001b[32mSampling  76%|████████████████████████████████          |  ETA: 0:00:04\u001b[39m\n",
      "\u001b[32mSampling  77%|█████████████████████████████████         |  ETA: 0:00:04\u001b[39m\n",
      "\u001b[32mSampling  77%|█████████████████████████████████         |  ETA: 0:00:04\u001b[39m\n",
      "\u001b[32mSampling  78%|█████████████████████████████████         |  ETA: 0:00:04\u001b[39m\n",
      "\u001b[32mSampling  78%|█████████████████████████████████         |  ETA: 0:00:04\u001b[39m\n",
      "\u001b[32mSampling  79%|█████████████████████████████████         |  ETA: 0:00:04\u001b[39m\n",
      "\u001b[32mSampling  79%|██████████████████████████████████        |  ETA: 0:00:03\u001b[39m\n",
      "\u001b[32mSampling  80%|██████████████████████████████████        |  ETA: 0:00:03\u001b[39m\n",
      "\u001b[32mSampling  80%|██████████████████████████████████        |  ETA: 0:00:03\u001b[39m\n",
      "\u001b[32mSampling  81%|██████████████████████████████████        |  ETA: 0:00:03\u001b[39m\n",
      "\u001b[32mSampling  81%|███████████████████████████████████       |  ETA: 0:00:03\u001b[39m\n",
      "\u001b[32mSampling  82%|███████████████████████████████████       |  ETA: 0:00:03\u001b[39m\n",
      "\u001b[32mSampling  82%|███████████████████████████████████       |  ETA: 0:00:03\u001b[39m\n",
      "\u001b[32mSampling  83%|███████████████████████████████████       |  ETA: 0:00:03\u001b[39m\n",
      "\u001b[32mSampling  83%|███████████████████████████████████       |  ETA: 0:00:03\u001b[39m\n",
      "\u001b[32mSampling  84%|████████████████████████████████████      |  ETA: 0:00:03\u001b[39m\n",
      "\u001b[32mSampling  84%|████████████████████████████████████      |  ETA: 0:00:02\u001b[39m"
     ]
    },
    {
     "name": "stderr",
     "output_type": "stream",
     "text": [
      "\n",
      "\u001b[32mSampling  85%|████████████████████████████████████      |  ETA: 0:00:02\u001b[39m\n",
      "\u001b[32mSampling  85%|████████████████████████████████████      |  ETA: 0:00:02\u001b[39m\n",
      "\u001b[32mSampling  86%|████████████████████████████████████      |  ETA: 0:00:02\u001b[39m\n",
      "\u001b[32mSampling  86%|█████████████████████████████████████     |  ETA: 0:00:02\u001b[39m\n",
      "\u001b[32mSampling  87%|█████████████████████████████████████     |  ETA: 0:00:02\u001b[39m\n",
      "\u001b[32mSampling  87%|█████████████████████████████████████     |  ETA: 0:00:02\u001b[39m\n",
      "\u001b[32mSampling  88%|█████████████████████████████████████     |  ETA: 0:00:02\u001b[39m\n",
      "\u001b[32mSampling  88%|█████████████████████████████████████     |  ETA: 0:00:02\u001b[39m\n",
      "\u001b[32mSampling  89%|██████████████████████████████████████    |  ETA: 0:00:02\u001b[39m\n",
      "\u001b[32mSampling  89%|██████████████████████████████████████    |  ETA: 0:00:02\u001b[39m\n",
      "\u001b[32mSampling  90%|██████████████████████████████████████    |  ETA: 0:00:02\u001b[39m\n",
      "\u001b[32mSampling  90%|██████████████████████████████████████    |  ETA: 0:00:01\u001b[39m\n",
      "\u001b[32mSampling  91%|███████████████████████████████████████   |  ETA: 0:00:01\u001b[39m\n",
      "\u001b[32mSampling  91%|███████████████████████████████████████   |  ETA: 0:00:01\u001b[39m\n",
      "\u001b[32mSampling  92%|███████████████████████████████████████   |  ETA: 0:00:01\u001b[39m\n",
      "\u001b[32mSampling  92%|███████████████████████████████████████   |  ETA: 0:00:01\u001b[39m\n",
      "\u001b[32mSampling  93%|███████████████████████████████████████   |  ETA: 0:00:01\u001b[39m\n",
      "\u001b[32mSampling  93%|████████████████████████████████████████  |  ETA: 0:00:01\u001b[39m\n",
      "\u001b[32mSampling  94%|████████████████████████████████████████  |  ETA: 0:00:01\u001b[39m\n",
      "\u001b[32mSampling  94%|████████████████████████████████████████  |  ETA: 0:00:01\u001b[39m\n",
      "\u001b[32mSampling  95%|████████████████████████████████████████  |  ETA: 0:00:01\u001b[39m\n",
      "\u001b[32mSampling  95%|████████████████████████████████████████  |  ETA: 0:00:01\u001b[39m\n",
      "\u001b[32mSampling  96%|█████████████████████████████████████████ |  ETA: 0:00:01\u001b[39m\n",
      "\u001b[32mSampling  96%|█████████████████████████████████████████ |  ETA: 0:00:01\u001b[39m\n",
      "\u001b[32mSampling  97%|█████████████████████████████████████████ |  ETA: 0:00:00\u001b[39m\n",
      "\u001b[32mSampling  97%|█████████████████████████████████████████ |  ETA: 0:00:00\u001b[39m\n",
      "\u001b[32mSampling  98%|█████████████████████████████████████████ |  ETA: 0:00:00\u001b[39m\n",
      "\u001b[32mSampling  98%|██████████████████████████████████████████|  ETA: 0:00:00\u001b[39m\n",
      "\u001b[32mSampling  99%|██████████████████████████████████████████|  ETA: 0:00:00\u001b[39m\n",
      "\u001b[32mSampling  99%|██████████████████████████████████████████|  ETA: 0:00:00\u001b[39m\n",
      "\u001b[32mSampling 100%|██████████████████████████████████████████|  ETA: 0:00:00\u001b[39m\n",
      "\u001b[90mSampling 100%|██████████████████████████████████████████| Time: 0:00:13\u001b[39m\n"
     ]
    }
   ],
   "source": [
    "using Turing\n",
    "\n",
    "# Define a simple Normal model with unknown mean and variance.\n",
    "@model function linear_regression_1(x, y)\n",
    "\n",
    "    # Priors on slope, itercept, and variance\n",
    "    m  ~ Normal(sqrt(10))\n",
    "    σ₂ ~ TruncatedNormal(0, 100, 0, Inf)\n",
    "    β  ~ Normal(0, sqrt(3))\n",
    "\n",
    "    # Equation of a line\n",
    "    μ = β .+ m .* x\n",
    "\n",
    "    # We model our y points has being drawn from a Normal distribution about that line\n",
    "    y ~ MvNormal(μ, sqrt(σ₂))\n",
    "end\n",
    "\n",
    "#  Run sampler, collect results\n",
    "model = linear_regression_1(x, y)\n",
    "chain = sample(model, NUTS(0.65), 3_000);"
   ]
  },
  {
   "cell_type": "code",
   "execution_count": 112,
   "metadata": {},
   "outputs": [
    {
     "data": {
      "text/plain": [
       "Chains MCMC chain (3000×15×1 Array{Float64, 3}):\n",
       "\n",
       "Iterations        = 1001:1:4000\n",
       "Number of chains  = 1\n",
       "Samples per chain = 3000\n",
       "Wall duration     = 13.6 seconds\n",
       "Compute duration  = 13.6 seconds\n",
       "parameters        = m, σ₂, β\n",
       "internals         = lp, n_steps, is_accept, acceptance_rate, log_density, hamiltonian_energy, hamiltonian_energy_error, max_hamiltonian_energy_error, tree_depth, numerical_error, step_size, nom_step_size\n",
       "\n",
       "Summary Statistics\n",
       " \u001b[1m parameters \u001b[0m \u001b[1m    mean \u001b[0m \u001b[1m     std \u001b[0m \u001b[1m naive_se \u001b[0m \u001b[1m    mcse \u001b[0m \u001b[1m       ess \u001b[0m \u001b[1m    rhat \u001b[0m \u001b[1m ess_per_sec \u001b[0m\n",
       " \u001b[90m     Symbol \u001b[0m \u001b[90m Float64 \u001b[0m \u001b[90m Float64 \u001b[0m \u001b[90m  Float64 \u001b[0m \u001b[90m Float64 \u001b[0m \u001b[90m   Float64 \u001b[0m \u001b[90m Float64 \u001b[0m \u001b[90m     Float64 \u001b[0m\n",
       "\n",
       "           m    0.4632    0.0571     0.0010    0.0016   1095.0711    1.0008       80.4903\n",
       "          σ₂    4.2234    1.1040     0.0202    0.0350   1127.5229    1.0007       82.8756\n",
       "           β    3.6133    0.7503     0.0137    0.0215   1080.3740    1.0001       79.4101\n",
       "\n",
       "Quantiles\n",
       " \u001b[1m parameters \u001b[0m \u001b[1m    2.5% \u001b[0m \u001b[1m   25.0% \u001b[0m \u001b[1m   50.0% \u001b[0m \u001b[1m   75.0% \u001b[0m \u001b[1m   97.5% \u001b[0m\n",
       " \u001b[90m     Symbol \u001b[0m \u001b[90m Float64 \u001b[0m \u001b[90m Float64 \u001b[0m \u001b[90m Float64 \u001b[0m \u001b[90m Float64 \u001b[0m \u001b[90m Float64 \u001b[0m\n",
       "\n",
       "           m    0.3531    0.4248    0.4615    0.5006    0.5794\n",
       "          σ₂    2.5676    3.4269    4.0617    4.8441    6.8992\n",
       "           β    2.1237    3.1257    3.6442    4.1036    5.0726\n"
      ]
     },
     "metadata": {},
     "output_type": "display_data"
    }
   ],
   "source": [
    "# Summarize results\n",
    "chain"
   ]
  },
  {
   "cell_type": "markdown",
   "metadata": {},
   "source": [
    "Let's visualize the posterior:"
   ]
  },
  {
   "cell_type": "code",
   "execution_count": 141,
   "metadata": {},
   "outputs": [
    {
     "data": {
      "text/html": [
       "<div data-jscall-id=\"1097\"><script data-jscall-id=\"1098\" type=\"text/javascript\">\n",
       "    function register_resize_handler(remote_origin) {\n",
       "        function resize_callback(event) {\n",
       "            if (event.origin !== remote_origin) {\n",
       "                return;\n",
       "            }\n",
       "            const uuid = event.data[0];\n",
       "            const width = event.data[1];\n",
       "            const height = event.data[2];\n",
       "            const iframe = document.getElementById('872d4891-331b-42ee-ae85-59961faba4b5');\n",
       "            if (iframe) {\n",
       "                iframe.style.width = width + \"px\";\n",
       "                iframe.style.height = height + \"px\";\n",
       "            }\n",
       "        }\n",
       "        if (window.addEventListener) {\n",
       "            window.addEventListener(\"message\", resize_callback, false);\n",
       "        } else if (window.attachEvent) {\n",
       "            window.attachEvent(\"onmessage\", resize_callback);\n",
       "        }\n",
       "    }\n",
       "    register_resize_handler('http://127.0.0.1:9284')\n",
       "\n",
       "</script><iframe scrolling=\"no\" id=\"872d4891-331b-42ee-ae85-59961faba4b5\" data-jscall-id=\"1096\" src=\"http://127.0.0.1:9284/872d4891-331b-42ee-ae85-59961faba4b5\" style=\"position: relative; display: block; width: 100%; height: 100%; padding: 0; overflow: hidden; border: none\"></iframe></div>\n"
      ]
     },
     "metadata": {},
     "output_type": "display_data"
    }
   ],
   "source": [
    "# We'll plot our posterior samples as lines with 200 steps between 0 and 20\n",
    "xpost = range(-5, 25, length=200)\n",
    "\n",
    "# Grab 300 posterior samples at random\n",
    "ii = rand(eachindex(chain[\"m\"]), 300)\n",
    "ypost = chain[\"m\"][ii] .* xpost' .+ chain[\"β\"][ii]\n",
    "\n",
    "fig, ax, pl = series(\n",
    "    xpost,ypost,\n",
    "\n",
    "    solid_color=(:black, 0.02),\n",
    "    label=\"posterior\",\n",
    "    axis=(\n",
    "        xlabel=\"x\",\n",
    "        ylabel=\"y\",\n",
    "    ),\n",
    "\n",
    ")\n",
    "\n",
    "# Overplot our data\n",
    "s = scatter!(ax, x, y, label=\"data\")\n",
    "\n",
    "Legend(fig[1,2], [s,pl], [\"data\",\"posterior\"], \"Legend\")\n",
    "\n",
    "xlims!(ax, low=-2, high=22)\n",
    "\n",
    "fig"
   ]
  },
  {
   "cell_type": "markdown",
   "metadata": {},
   "source": [
    "## Differential Equations\n",
    "Differential equations are ubiquitous in the sciences. Julia has the best differential equations solving libraries (parts of SciMl).\n",
    "\n",
    "![](https://benchmarks.sciml.ai/dev/markdown/MultiLanguage/figures/wrapper_packages_2_1.png)\n",
    "\n",
    "This is a plot of error vs. time. Lower and to the left is better.\n",
    "\n",
    "Julia's DifferentialEquations library blows everything else out of the water, including the best C libraries."
   ]
  },
  {
   "cell_type": "code",
   "execution_count": 49,
   "metadata": {},
   "outputs": [
    {
     "ename": "ArgumentError",
     "evalue": "ArgumentError: Package DifferentialEquations not found in current path:\n- Run `import Pkg; Pkg.add(\"DifferentialEquations\")` to install the DifferentialEquations package.\n",
     "output_type": "error",
     "traceback": [
      "ArgumentError: Package DifferentialEquations not found in current path:\n",
      "- Run `import Pkg; Pkg.add(\"DifferentialEquations\")` to install the DifferentialEquations package.\n",
      "\n",
      "\n",
      "Stacktrace:\n",
      "  [1] require(into::Module, mod::Symbol)\n",
      "    @ Base .\\loading.jl:967\n",
      "  [2] eval\n",
      "    @ .\\boot.jl:373 [inlined]\n",
      "  [3] include_string(mapexpr::typeof(REPL.softscope), mod::Module, code::String, filename::String)\n",
      "    @ Base .\\loading.jl:1196\n",
      "  [4] #invokelatest#2\n",
      "    @ .\\essentials.jl:716 [inlined]\n",
      "  [5] invokelatest\n",
      "    @ .\\essentials.jl:714 [inlined]\n",
      "  [6] (::VSCodeServer.var\"#150#151\"{VSCodeServer.NotebookRunCellArguments, String})()\n",
      "    @ VSCodeServer c:\\Users\\William\\.vscode\\extensions\\julialang.language-julia-1.5.11\\scripts\\packages\\VSCodeServer\\src\\serve_notebook.jl:18\n",
      "  [7] withpath(f::VSCodeServer.var\"#150#151\"{VSCodeServer.NotebookRunCellArguments, String}, path::String)\n",
      "    @ VSCodeServer c:\\Users\\William\\.vscode\\extensions\\julialang.language-julia-1.5.11\\scripts\\packages\\VSCodeServer\\src\\repl.jl:185\n",
      "  [8] notebook_runcell_request(conn::VSCodeServer.JSONRPC.JSONRPCEndpoint{Base.PipeEndpoint, Base.PipeEndpoint}, params::VSCodeServer.NotebookRunCellArguments)\n",
      "    @ VSCodeServer c:\\Users\\William\\.vscode\\extensions\\julialang.language-julia-1.5.11\\scripts\\packages\\VSCodeServer\\src\\serve_notebook.jl:14\n",
      "  [9] dispatch_msg(x::VSCodeServer.JSONRPC.JSONRPCEndpoint{Base.PipeEndpoint, Base.PipeEndpoint}, dispatcher::VSCodeServer.JSONRPC.MsgDispatcher, msg::Dict{String, Any})\n",
      "    @ VSCodeServer.JSONRPC c:\\Users\\William\\.vscode\\extensions\\julialang.language-julia-1.5.11\\scripts\\packages\\JSONRPC\\src\\typed.jl:67\n",
      " [10] serve_notebook(pipename::String; crashreporting_pipename::String)\n",
      "    @ VSCodeServer c:\\Users\\William\\.vscode\\extensions\\julialang.language-julia-1.5.11\\scripts\\packages\\VSCodeServer\\src\\serve_notebook.jl:94\n",
      " [11] top-level scope\n",
      "    @ c:\\Users\\William\\.vscode\\extensions\\julialang.language-julia-1.5.11\\scripts\\notebook\\notebook.jl:12\n",
      " [12] include(mod::Module, _path::String)\n",
      "    @ Base .\\Base.jl:418\n",
      " [13] exec_options(opts::Base.JLOptions)\n",
      "    @ Base .\\client.jl:292\n",
      " [14] _start()\n",
      "    @ Base .\\client.jl:495"
     ]
    }
   ],
   "source": [
    "using DifferentialEquations\n",
    "\n",
    "function lorenz!(du, u,p,t)\n",
    "    du[1] = 10.0*(u[2]-u[1])\n",
    "    du[2] = u[1]*(28.0-u[3]) - u[2]\n",
    "    du[3] = u[1]*u[2] - (8/3)*u[3]\n",
    "end"
   ]
  },
  {
   "cell_type": "markdown",
   "metadata": {},
   "source": [
    "## Bonus: GPU Compute\n",
    "It's very easy to get started with GPU computing in Julia since Julia can be compiled to the GPU.\n",
    "GPU numerical programming in general is only supported in Windows and Linux with discrete NVidia or AMD GPUs.\n",
    "\n",
    "I didn't include the CUDA package in this notebook, so you would need to install it yourself by running\n",
    "```julia\n",
    "using Pkg\n",
    "Pkg.add(\"CUDA\")\n",
    "```"
   ]
  },
  {
   "cell_type": "code",
   "execution_count": null,
   "metadata": {},
   "outputs": [],
   "source": [
    "using CUDA\n",
    "\n",
    "# Create 10000 random floats\n",
    "arr = randn(Float32, 10000)\n",
    "\n",
    "# Transfer them to the GPU\n",
    "cu_arr = CuArray(arr)\n",
    "\n",
    "# Calculate the sum of squares now using your GPU! It's that easy!\n",
    "sum(cu_arr .^2)"
   ]
  }
 ],
 "metadata": {
  "kernelspec": {
   "display_name": "Julia 1.7.2",
   "language": "julia",
   "name": "julia-1.7"
  },
  "language_info": {
   "file_extension": ".jl",
   "mimetype": "application/julia",
   "name": "julia",
   "version": "1.7.2"
  },
  "orig_nbformat": 4
 },
 "nbformat": 4,
 "nbformat_minor": 2
}
